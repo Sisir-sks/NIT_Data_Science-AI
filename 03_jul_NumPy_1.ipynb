{
 "cells": [
  {
   "cell_type": "markdown",
   "id": "1088453c-0f09-4802-b1bc-5e80682548d4",
   "metadata": {},
   "source": [
    "# Introduction to NumPy"
   ]
  },
  {
   "cell_type": "markdown",
   "id": "48567f92-4a1d-4d02-af53-4ae362defec8",
   "metadata": {},
   "source": [
    "#### ►NumPy (Numerical Python)is a open-source library widely used in data science,scietific computing,machine learning,data analytics,business analytics,generative ai.It provides powerful data structure and functions that enable efficient numerical operations on large datasets."
   ]
  },
  {
   "cell_type": "code",
   "execution_count": 5,
   "id": "669b8609-5f40-4d21-974e-f2761b16700c",
   "metadata": {},
   "outputs": [
    {
     "data": {
      "text/plain": [
       "'3.12.4 | packaged by Anaconda, Inc. | (main, Jun 18 2024, 15:03:56) [MSC v.1929 64 bit (AMD64)]'"
      ]
     },
     "execution_count": 5,
     "metadata": {},
     "output_type": "execute_result"
    }
   ],
   "source": [
    "import sys\n",
    "sys.version"
   ]
  },
  {
   "cell_type": "code",
   "execution_count": 4,
   "id": "51c9852f-bf37-4434-9bee-5fb95cb75a4e",
   "metadata": {},
   "outputs": [],
   "source": [
    "import numpy as np   # importing numpy with alias as np "
   ]
  },
  {
   "cell_type": "code",
   "execution_count": 9,
   "id": "f70702ca-fed8-4b8d-95db-4b32ef73c8c7",
   "metadata": {},
   "outputs": [
    {
     "data": {
      "text/plain": [
       "'1.26.4'"
      ]
     },
     "execution_count": 9,
     "metadata": {},
     "output_type": "execute_result"
    }
   ],
   "source": [
    "np.__version__"
   ]
  },
  {
   "cell_type": "markdown",
   "id": "9064d71f-6987-4257-b621-c5ad1084dfdc",
   "metadata": {},
   "source": [
    "## ARRAY"
   ]
  },
  {
   "cell_type": "markdown",
   "id": "a9fab683-fded-4946-afa6-cc31093611cd",
   "metadata": {},
   "source": [
    "#### Array is a data structure used to store multiple similar/homogeneous values in a single variable."
   ]
  },
  {
   "cell_type": "markdown",
   "id": "b82f3a01-9540-4632-bb83-1d5df50474d8",
   "metadata": {},
   "source": [
    "-\n",
    "    All items must be the same data type(all int/all string)\n",
    "-\n",
    "    Elements are stored in a adjecent memory location,which makes access fast.\n",
    "-   We can access elements using an index.\n",
    "-   Types of arrays:\n",
    "    -   1D Array- a simple list of elements (single lined array)\n",
    "    -   2D Array- Array with two dimensions (rows x columns)\n",
    "    -   ND Array- Array with more than two dimensions\n",
    "    "
   ]
  },
  {
   "cell_type": "markdown",
   "id": "ebf0aa3d-1b80-41ae-878c-8ff48b4011d1",
   "metadata": {},
   "source": [
    "- Array Properties :\n",
    "    - ->a.shape #Return the shape of array (rows x columns)\n",
    "    - ->a.dtype  #Return the data type (int,float).\n",
    "    - a.ndim  #Returns the number of dimensions of the array.\n",
    "    - a.size #Returns the number of elements.  "
   ]
  },
  {
   "cell_type": "markdown",
   "id": "e8ae84c4-835a-488a-92b8-184e5a1a77f7",
   "metadata": {},
   "source": [
    "- Array Creations:\n",
    "    - np.zeros(rows x columns) # Creates an array of all zeros.\n",
    "    - np.ones(rows x columns)  # creates an arryay with all ones.\n",
    "    - np.arange(start,stop,step) #Creates an array with sequenced values.\n",
    "   "
   ]
  },
  {
   "cell_type": "markdown",
   "id": "43d5808a-73b7-4016-a06d-4c2e04eaa461",
   "metadata": {},
   "source": [
    "- Array Functions:\n",
    "    - np.sum()\n",
    "    - np.mean()\n",
    "    - np.std()\n",
    "    - np.max()\n",
    "    - np.min()\n",
    "    - np.argmax()\n",
    "    - np.argmin()"
   ]
  },
  {
   "cell_type": "code",
   "execution_count": 22,
   "id": "9485dcc1-fa6b-4194-b2a3-c4eb564bcda8",
   "metadata": {},
   "outputs": [
    {
     "data": {
      "text/plain": [
       "[0, 1, 2, 3, 4, 5]"
      ]
     },
     "execution_count": 22,
     "metadata": {},
     "output_type": "execute_result"
    }
   ],
   "source": [
    "#Creating a list and converting to a array\n",
    "my_list=[0,1,2,3,4,5]\n",
    "my_list"
   ]
  },
  {
   "cell_type": "code",
   "execution_count": 24,
   "id": "2383ca4b-283c-4137-a86a-b87900b4f983",
   "metadata": {},
   "outputs": [
    {
     "data": {
      "text/plain": [
       "list"
      ]
     },
     "execution_count": 24,
     "metadata": {},
     "output_type": "execute_result"
    }
   ],
   "source": [
    "type(my_list)"
   ]
  },
  {
   "cell_type": "code",
   "execution_count": 26,
   "id": "5fd8d947-cb2f-4220-8a65-4770934b32be",
   "metadata": {},
   "outputs": [
    {
     "name": "stdout",
     "output_type": "stream",
     "text": [
      "[0 1 2 3 4 5]\n"
     ]
    },
    {
     "data": {
      "text/plain": [
       "numpy.ndarray"
      ]
     },
     "execution_count": 26,
     "metadata": {},
     "output_type": "execute_result"
    }
   ],
   "source": [
    "#converting list to array\n",
    "#Syntax=np.array(list_name)\n",
    "arr=np.array(my_list)\n",
    "print(arr)\n",
    "type(arr)"
   ]
  },
  {
   "cell_type": "code",
   "execution_count": 30,
   "id": "156c84a0-717a-478e-8940-97c639662f31",
   "metadata": {},
   "outputs": [
    {
     "data": {
      "text/plain": [
       "array([0, 1, 2, 3, 4, 5, 6, 7, 8, 9])"
      ]
     },
     "execution_count": 30,
     "metadata": {},
     "output_type": "execute_result"
    }
   ],
   "source": [
    "np.arange(10) \n",
    "# .arange()Returns just like range but in array format. here it returns 0-9\n",
    "#Syntax->np.arange(start,stop,stop)\n"
   ]
  },
  {
   "cell_type": "code",
   "execution_count": 32,
   "id": "d9486832-c04a-43a8-a062-0fbf1aa204e0",
   "metadata": {},
   "outputs": [
    {
     "data": {
      "text/plain": [
       "array([10, 11, 12, 13, 14, 15, 16, 17, 18, 19])"
      ]
     },
     "execution_count": 32,
     "metadata": {},
     "output_type": "execute_result"
    }
   ],
   "source": [
    "np.arange(10,20)   #Returns the numbers in an array between 10-19"
   ]
  },
  {
   "cell_type": "code",
   "execution_count": 34,
   "id": "e685a6c4-d1e2-4819-bd8e-07feeba57a1e",
   "metadata": {},
   "outputs": [
    {
     "data": {
      "text/plain": [
       "array([10, 15, 20, 25, 30, 35, 40, 45])"
      ]
     },
     "execution_count": 34,
     "metadata": {},
     "output_type": "execute_result"
    }
   ],
   "source": [
    "np.arange(10,50,5) # It return the array with the numbe s between 10-50 with the step of 5"
   ]
  },
  {
   "cell_type": "code",
   "execution_count": 36,
   "id": "48a1128c-bedd-45aa-928d-3f8f98d281ce",
   "metadata": {},
   "outputs": [
    {
     "data": {
      "text/plain": [
       "array([10, 13, 16, 19, 22, 25, 28])"
      ]
     },
     "execution_count": 36,
     "metadata": {},
     "output_type": "execute_result"
    }
   ],
   "source": [
    "np.arange(10,30,3)"
   ]
  },
  {
   "cell_type": "code",
   "execution_count": 38,
   "id": "899868f1-51cd-49d2-9654-b23a8af994b9",
   "metadata": {},
   "outputs": [
    {
     "ename": "TypeError",
     "evalue": "Cannot interpret '4' as a data type",
     "output_type": "error",
     "traceback": [
      "\u001b[1;31m---------------------------------------------------------------------------\u001b[0m",
      "\u001b[1;31mTypeError\u001b[0m                                 Traceback (most recent call last)",
      "Cell \u001b[1;32mIn[38], line 1\u001b[0m\n\u001b[1;32m----> 1\u001b[0m np\u001b[38;5;241m.\u001b[39marange(\u001b[38;5;241m10\u001b[39m,\u001b[38;5;241m30\u001b[39m,\u001b[38;5;241m3\u001b[39m,\u001b[38;5;241m4\u001b[39m)\n",
      "\u001b[1;31mTypeError\u001b[0m: Cannot interpret '4' as a data type"
     ]
    }
   ],
   "source": [
    "np.arange(10,30,3,4)"
   ]
  },
  {
   "cell_type": "code",
   "execution_count": 40,
   "id": "e9756d77-df2e-4110-aa7f-8ddab638a7b4",
   "metadata": {},
   "outputs": [
    {
     "data": {
      "text/plain": [
       "array([], dtype=int32)"
      ]
     },
     "execution_count": 40,
     "metadata": {},
     "output_type": "execute_result"
    }
   ],
   "source": [
    "np.arange(30,10) # It rises a error because the start value should be less than the stop value."
   ]
  },
  {
   "cell_type": "code",
   "execution_count": 42,
   "id": "1bc2e709-0c4b-43bd-a98d-5e4ee4e1e594",
   "metadata": {},
   "outputs": [
    {
     "data": {
      "text/plain": [
       "array([-20, -19, -18, -17, -16, -15, -14, -13, -12, -11, -10,  -9,  -8,\n",
       "        -7,  -6,  -5,  -4,  -3,  -2,  -1,   0,   1,   2,   3,   4,   5,\n",
       "         6,   7])"
      ]
     },
     "execution_count": 42,
     "metadata": {},
     "output_type": "execute_result"
    }
   ],
   "source": [
    "np.arange(-20,8)"
   ]
  },
  {
   "cell_type": "markdown",
   "id": "aa45dbfc-3c4b-496e-aef0-35551373b660",
   "metadata": {},
   "source": [
    "#### np.zeros()\n",
    "###### np.zeros(rows x columns) - creates an array with all zeros"
   ]
  },
  {
   "cell_type": "code",
   "execution_count": 46,
   "id": "dfc71446-14ef-4fb2-88f8-64b101050ac6",
   "metadata": {},
   "outputs": [
    {
     "data": {
      "text/plain": [
       "array([[0., 0., 0., 0.],\n",
       "       [0., 0., 0., 0.],\n",
       "       [0., 0., 0., 0.]])"
      ]
     },
     "execution_count": 46,
     "metadata": {},
     "output_type": "execute_result"
    }
   ],
   "source": [
    "np.zeros((3,4))"
   ]
  },
  {
   "cell_type": "code",
   "execution_count": 52,
   "id": "96a5dc93-b950-47a8-a5f1-5ac8a460d346",
   "metadata": {},
   "outputs": [
    {
     "data": {
      "text/plain": [
       "array([0, 0, 0])"
      ]
     },
     "execution_count": 52,
     "metadata": {},
     "output_type": "execute_result"
    }
   ],
   "source": [
    "np.zeros(3,dtype=int)"
   ]
  },
  {
   "cell_type": "code",
   "execution_count": 58,
   "id": "aa4996db-2fa2-405e-a0cb-31c16ee8b026",
   "metadata": {},
   "outputs": [
    {
     "data": {
      "text/plain": [
       "array([[0., 0.],\n",
       "       [0., 0.]])"
      ]
     },
     "execution_count": 58,
     "metadata": {},
     "output_type": "execute_result"
    }
   ],
   "source": [
    "np.zeros((2,2)) #2d array"
   ]
  },
  {
   "cell_type": "code",
   "execution_count": 60,
   "id": "a13ee983-cb33-4d8d-b593-e5c04bbb051d",
   "metadata": {},
   "outputs": [
    {
     "data": {
      "text/plain": [
       "array([[0, 0, 0, 0, 0, 0, 0, 0, 0],\n",
       "       [0, 0, 0, 0, 0, 0, 0, 0, 0],\n",
       "       [0, 0, 0, 0, 0, 0, 0, 0, 0],\n",
       "       [0, 0, 0, 0, 0, 0, 0, 0, 0],\n",
       "       [0, 0, 0, 0, 0, 0, 0, 0, 0]])"
      ]
     },
     "execution_count": 60,
     "metadata": {},
     "output_type": "execute_result"
    }
   ],
   "source": [
    "np.zeros((5,9),dtype=int)"
   ]
  },
  {
   "cell_type": "markdown",
   "id": "e75ffa5a-3676-4d35-86aa-82353c7ed574",
   "metadata": {},
   "source": [
    "#### np.ones(rows x xolumns)\n",
    "###### np.ones()- creates an array with all ones."
   ]
  },
  {
   "cell_type": "code",
   "execution_count": 65,
   "id": "0e8f082b-3f20-4041-93c6-68b81208ab2d",
   "metadata": {},
   "outputs": [
    {
     "data": {
      "text/plain": [
       "array([1., 1., 1.])"
      ]
     },
     "execution_count": 65,
     "metadata": {},
     "output_type": "execute_result"
    }
   ],
   "source": [
    "np.ones(3) # created an array with all ones \n"
   ]
  },
  {
   "cell_type": "code",
   "execution_count": 67,
   "id": "eb5d4193-2020-441a-9d34-110953535b18",
   "metadata": {},
   "outputs": [
    {
     "data": {
      "text/plain": [
       "array([1, 1, 1, 1])"
      ]
     },
     "execution_count": 67,
     "metadata": {},
     "output_type": "execute_result"
    }
   ],
   "source": [
    "np.ones(4,dtype=int)"
   ]
  },
  {
   "cell_type": "code",
   "execution_count": 69,
   "id": "11b64f6d-0616-4b8a-89ea-64510987b209",
   "metadata": {},
   "outputs": [
    {
     "data": {
      "text/plain": [
       "array([[1, 1, 1, 1, 1, 1, 1, 1, 1, 1],\n",
       "       [1, 1, 1, 1, 1, 1, 1, 1, 1, 1],\n",
       "       [1, 1, 1, 1, 1, 1, 1, 1, 1, 1],\n",
       "       [1, 1, 1, 1, 1, 1, 1, 1, 1, 1],\n",
       "       [1, 1, 1, 1, 1, 1, 1, 1, 1, 1],\n",
       "       [1, 1, 1, 1, 1, 1, 1, 1, 1, 1],\n",
       "       [1, 1, 1, 1, 1, 1, 1, 1, 1, 1],\n",
       "       [1, 1, 1, 1, 1, 1, 1, 1, 1, 1],\n",
       "       [1, 1, 1, 1, 1, 1, 1, 1, 1, 1],\n",
       "       [1, 1, 1, 1, 1, 1, 1, 1, 1, 1]])"
      ]
     },
     "execution_count": 69,
     "metadata": {},
     "output_type": "execute_result"
    }
   ],
   "source": [
    "np.ones((10,10),dtype=int)"
   ]
  },
  {
   "cell_type": "code",
   "execution_count": 6,
   "id": "eebd80e9-e760-4e68-b190-4a066369991a",
   "metadata": {},
   "outputs": [
    {
     "data": {
      "text/plain": [
       "array([[1., 0., 0., 0.],\n",
       "       [0., 1., 0., 0.],\n",
       "       [0., 0., 1., 0.],\n",
       "       [0., 0., 0., 1.]])"
      ]
     },
     "execution_count": 6,
     "metadata": {},
     "output_type": "execute_result"
    }
   ],
   "source": [
    "#Create an identity matrix.\n",
    "np.eye(4)"
   ]
  },
  {
   "cell_type": "code",
   "execution_count": 8,
   "id": "60be7fc9-8d15-4632-a11c-6819618b73a1",
   "metadata": {},
   "outputs": [
    {
     "data": {
      "text/plain": [
       "array([[1, 0, 0, 0, 0],\n",
       "       [0, 1, 0, 0, 0],\n",
       "       [0, 0, 1, 0, 0],\n",
       "       [0, 0, 0, 1, 0],\n",
       "       [0, 0, 0, 0, 1]])"
      ]
     },
     "execution_count": 8,
     "metadata": {},
     "output_type": "execute_result"
    }
   ],
   "source": [
    "np.eye(5,dtype=int)"
   ]
  },
  {
   "cell_type": "markdown",
   "id": "d196a1fc-d7dc-46ed-ba03-6d9b206ef00c",
   "metadata": {},
   "source": [
    "# Array Manipulation Functions."
   ]
  },
  {
   "cell_type": "code",
   "execution_count": 15,
   "id": "3ebef3af-9dd8-441c-91c9-674d73645729",
   "metadata": {},
   "outputs": [
    {
     "name": "stdout",
     "output_type": "stream",
     "text": [
      "[1 2 3 4]\n",
      "[[1]\n",
      " [2]\n",
      " [3]\n",
      " [4]]\n"
     ]
    }
   ],
   "source": [
    "# Reshape an array\n",
    "a1=np.array([1,2,3,4])\n",
    "print(a1)\n",
    "a1=a1.reshape(4,1)\n",
    "print(a1)"
   ]
  },
  {
   "cell_type": "code",
   "execution_count": 25,
   "id": "5f462f9e-260f-4f18-9fe5-b85f8c52e832",
   "metadata": {},
   "outputs": [
    {
     "data": {
      "text/plain": [
       "array([1, 2, 3, 4, 5, 6])"
      ]
     },
     "execution_count": 25,
     "metadata": {},
     "output_type": "execute_result"
    }
   ],
   "source": [
    "#Flaten an array -> convert multidimensional array to 1D array\n",
    "f=np.array([[1,2,3],[4,5,6]])\n",
    "f=f.ravel()\n",
    "f"
   ]
  },
  {
   "cell_type": "code",
   "execution_count": 27,
   "id": "67eaf706-5ccf-4f56-988e-1d3a4918c695",
   "metadata": {},
   "outputs": [
    {
     "data": {
      "text/plain": [
       "array([[1, 3],\n",
       "       [2, 4]])"
      ]
     },
     "execution_count": 27,
     "metadata": {},
     "output_type": "execute_result"
    }
   ],
   "source": [
    "#Transpose an array -> it converts rows to column and columns to rows.\n",
    "t1=np.array([[1,2],[3,4]])\n",
    "transposed1=t1.transpose()\n",
    "transposed1"
   ]
  },
  {
   "cell_type": "code",
   "execution_count": 29,
   "id": "ae99b284-8a7e-468c-b5ae-878c1aa37831",
   "metadata": {},
   "outputs": [
    {
     "name": "stdout",
     "output_type": "stream",
     "text": [
      "[[1 2]\n",
      " [3 4]]\n"
     ]
    }
   ],
   "source": [
    "#Stack array vertically -> stack a and b vertically\n",
    "a2=np.array([1,2])\n",
    "b2=np.array([3,4])\n",
    "stacked=np.vstack([a2,b2])\n",
    "print(stacked)"
   ]
  },
  {
   "cell_type": "markdown",
   "id": "fdaef3f3-011f-4402-ac74-83234d8f1866",
   "metadata": {},
   "source": [
    "# Mathemetical Function"
   ]
  },
  {
   "cell_type": "code",
   "execution_count": 34,
   "id": "c8e86e3e-b91a-484c-a2c0-47d5504cdad2",
   "metadata": {},
   "outputs": [
    {
     "name": "stdout",
     "output_type": "stream",
     "text": [
      "[3 4 5 6]\n"
     ]
    }
   ],
   "source": [
    "#Adding a value to each element.\n",
    "arr=np.array([1,2,3,4])\n",
    "added=np.add(arr,2) # adding 2 to each element\n",
    "print(added)"
   ]
  },
  {
   "cell_type": "code",
   "execution_count": 36,
   "id": "8b6f4f62-537a-4a02-aeb7-ee035bb5ba3a",
   "metadata": {},
   "outputs": [
    {
     "name": "stdout",
     "output_type": "stream",
     "text": [
      "[1 2 3 4]\n",
      "[ 1  4  9 16]\n"
     ]
    }
   ],
   "source": [
    "#Squre each element of the array.\n",
    "print(arr)\n",
    "sqrd=np.power(arr,2) # it give the power of each element of the array\n",
    "print(sqrd)"
   ]
  },
  {
   "cell_type": "code",
   "execution_count": 42,
   "id": "f1720837-aa7f-47cc-90bf-9a50c3fdbe35",
   "metadata": {},
   "outputs": [
    {
     "name": "stdout",
     "output_type": "stream",
     "text": [
      "[ 1  4  9 16]\n",
      "[1. 2. 3. 4.]\n"
     ]
    }
   ],
   "source": [
    "#Squre root of each element of the array. -> it return the root values in float type\n",
    "print(sqrd)\n",
    "sqrt_val=np.sqrt(sqrd)\n",
    "print(sqrt_val)"
   ]
  },
  {
   "cell_type": "code",
   "execution_count": 46,
   "id": "56b9bb42-2bbe-459a-9065-fd5135cda9f8",
   "metadata": {},
   "outputs": [
    {
     "name": "stdout",
     "output_type": "stream",
     "text": [
      "[1 2 3 4]\n",
      "[ 1  4  9 16]\n",
      "100\n"
     ]
    }
   ],
   "source": [
    "#Dot product of two array\n",
    "print(arr)\n",
    "print(sqrd)\n",
    "product=np.dot(arr,sqrd)\n",
    "print(product)"
   ]
  },
  {
   "cell_type": "markdown",
   "id": "7b223c04-3291-4040-8048-cb3295a39e4f",
   "metadata": {},
   "source": [
    "# Statistical Function"
   ]
  },
  {
   "cell_type": "markdown",
   "id": "2eed2651-5359-4c80-99b6-c014c2f8bda6",
   "metadata": {},
   "source": [
    "#### Statistical function are operations or algorithm used to analyze and interpret data."
   ]
  },
  {
   "cell_type": "code",
   "execution_count": 50,
   "id": "feb21dde-d1b0-4aa2-8077-2d5e5100a113",
   "metadata": {},
   "outputs": [
    {
     "name": "stdout",
     "output_type": "stream",
     "text": [
      "3.5\n"
     ]
    }
   ],
   "source": [
    "#Mean() -> calculates the average value of the elements\n",
    "s=np.array([1,2,3,6,4,5])\n",
    "mean=s.mean()\n",
    "print(mean)"
   ]
  },
  {
   "cell_type": "code",
   "execution_count": null,
   "id": "6e5dd74c-ad45-40f1-9f8b-3d771cc5cc72",
   "metadata": {},
   "outputs": [],
   "source": [
    "#std- standard division of an array\n"
   ]
  },
  {
   "cell_type": "code",
   "execution_count": 52,
   "id": "69745d73-2b20-4372-a2a2-ea3bdff6c772",
   "metadata": {},
   "outputs": [],
   "source": [
    "# Random \n"
   ]
  },
  {
   "cell_type": "code",
   "execution_count": 54,
   "id": "67d101ba-895f-4d85-b349-9a92ea6af3a4",
   "metadata": {},
   "outputs": [
    {
     "name": "stdout",
     "output_type": "stream",
     "text": [
      "[0.72617711 0.22940992]\n",
      "[0.20030132 0.70452863]\n",
      "[0.14715409 0.96352886]\n"
     ]
    }
   ],
   "source": [
    "randnum=np.random.rand(2)\n",
    "print(randnum)\n",
    "randnum=np.random.rand(2)\n",
    "print(randnum)\n",
    "\n",
    "randnum=np.random.rand(2)\n",
    "print(randnum)"
   ]
  },
  {
   "cell_type": "code",
   "execution_count": 56,
   "id": "0c2e6c5d-3994-47e2-96aa-411008fbc8d6",
   "metadata": {},
   "outputs": [
    {
     "data": {
      "text/plain": [
       "1"
      ]
     },
     "execution_count": 56,
     "metadata": {},
     "output_type": "execute_result"
    }
   ],
   "source": [
    "np.random.randint(3)"
   ]
  },
  {
   "cell_type": "code",
   "execution_count": 58,
   "id": "66fcab72-23fd-4b6c-a51a-f750397702a6",
   "metadata": {},
   "outputs": [
    {
     "data": {
      "text/plain": [
       "7"
      ]
     },
     "execution_count": 58,
     "metadata": {},
     "output_type": "execute_result"
    }
   ],
   "source": [
    "np.random.randint(2,10)"
   ]
  },
  {
   "cell_type": "code",
   "execution_count": 60,
   "id": "b30b625b-8c1e-415d-bd3b-3d9c48279155",
   "metadata": {},
   "outputs": [
    {
     "data": {
      "text/plain": [
       "array([9, 2, 6])"
      ]
     },
     "execution_count": 60,
     "metadata": {},
     "output_type": "execute_result"
    }
   ],
   "source": [
    "np.random.randint(2,10,3)"
   ]
  },
  {
   "cell_type": "code",
   "execution_count": 62,
   "id": "5d8d34e8-6114-4bdb-9262-489d6ba39bfa",
   "metadata": {},
   "outputs": [
    {
     "data": {
      "text/plain": [
       "array([-11, -29, -23,  -3,  -2,  -2,  -2, -26, -27,   7])"
      ]
     },
     "execution_count": 62,
     "metadata": {},
     "output_type": "execute_result"
    }
   ],
   "source": [
    "np.random.randint(-30,10,10)"
   ]
  },
  {
   "cell_type": "code",
   "execution_count": 64,
   "id": "547a83d0-4eb8-437e-bc37-4725447f2dd5",
   "metadata": {},
   "outputs": [
    {
     "data": {
      "text/plain": [
       "array([[19, 20, 32, 39, 20, 27, 24, 22, 24, 16],\n",
       "       [14, 38, 38, 21, 28, 20, 13, 22, 36, 39],\n",
       "       [17, 26, 24, 28, 18, 35, 11, 35, 15, 25],\n",
       "       [36, 37, 38, 17, 39, 33, 15, 25, 28, 27],\n",
       "       [37, 37, 23, 25, 28, 32, 10, 36, 12, 11],\n",
       "       [27, 37, 22, 17, 14, 29, 21, 25, 30, 31],\n",
       "       [33, 26, 23, 12, 13, 30, 15, 34, 33, 19],\n",
       "       [32, 10, 17, 20, 31, 21, 25, 16, 18, 30],\n",
       "       [39, 37, 17, 18, 32, 36, 20, 22, 30, 25],\n",
       "       [31, 18, 10, 28, 28, 18, 21, 16, 10, 26]])"
      ]
     },
     "execution_count": 64,
     "metadata": {},
     "output_type": "execute_result"
    }
   ],
   "source": [
    "np.random.randint(10,40,(10,10))"
   ]
  },
  {
   "cell_type": "code",
   "execution_count": 70,
   "id": "20faa9cf-2d49-41bd-b871-3f57bb584d59",
   "metadata": {},
   "outputs": [
    {
     "data": {
      "text/plain": [
       "array([[10, 20, 26, 23, 14, 12, 27, 19, 35, 14],\n",
       "       [33, 21, 37, 17, 25, 24, 20, 20, 14, 15],\n",
       "       [11, 34, 19, 34, 15, 35, 15, 16, 22, 27],\n",
       "       [26, 31, 35, 36, 37, 14, 14, 37, 30, 30],\n",
       "       [17, 13, 16, 34, 20, 18, 20, 30, 33, 37],\n",
       "       [35, 39, 32, 36, 28, 37, 17, 27, 23, 15],\n",
       "       [39, 26, 13, 20, 20, 38, 10, 20, 31, 33],\n",
       "       [13, 33, 21, 31, 28, 26, 31, 14, 28, 28],\n",
       "       [11, 23, 34, 13, 27, 12, 23, 25, 15, 38],\n",
       "       [24, 32, 25, 30, 28, 23, 15, 22, 22, 36]])"
      ]
     },
     "execution_count": 70,
     "metadata": {},
     "output_type": "execute_result"
    }
   ],
   "source": [
    "m=np.random.randint(10,40,(10,10))\n",
    "m"
   ]
  },
  {
   "cell_type": "code",
   "execution_count": 72,
   "id": "39494409-282d-414d-b12c-5c123b81bbea",
   "metadata": {},
   "outputs": [
    {
     "data": {
      "text/plain": [
       "array([[22, 24, 26, 33, 14, 12, 15, 17, 36, 18],\n",
       "       [36, 38, 16, 26, 26, 28, 31, 15, 26, 25],\n",
       "       [30, 17, 32, 25, 28, 19, 39, 12, 23, 38],\n",
       "       [35, 22, 19, 25, 10, 39, 38, 14, 21, 36],\n",
       "       [12, 38, 11, 32, 26, 36, 29, 22, 23, 18],\n",
       "       [28, 28, 32, 23, 16, 30, 39, 22, 25, 30],\n",
       "       [29, 16, 24, 37, 19, 25, 24, 34, 28, 18],\n",
       "       [12, 20, 20, 31, 14, 37, 25, 36, 38, 26],\n",
       "       [21, 34, 18, 37, 26, 13, 15, 14, 39, 19],\n",
       "       [31, 35, 18, 23, 17, 18, 16, 22, 22, 13]])"
      ]
     },
     "execution_count": 72,
     "metadata": {},
     "output_type": "execute_result"
    }
   ],
   "source": [
    "m=np.random.randint(10,40,(10,10))\n",
    "m"
   ]
  },
  {
   "cell_type": "code",
   "execution_count": 84,
   "id": "cfea8590-5ebe-4d39-877d-58c2b3e8fb63",
   "metadata": {},
   "outputs": [],
   "source": [
    "arr=np.array([1,2,3,4,5,6])"
   ]
  },
  {
   "cell_type": "code",
   "execution_count": 86,
   "id": "46789bc0-73cc-4332-9778-ad25c7d5c95d",
   "metadata": {},
   "outputs": [
    {
     "data": {
      "text/plain": [
       "array([[1, 2, 3],\n",
       "       [4, 5, 6]])"
      ]
     },
     "execution_count": 86,
     "metadata": {},
     "output_type": "execute_result"
    }
   ],
   "source": [
    "arr.reshape(2,3)"
   ]
  },
  {
   "cell_type": "code",
   "execution_count": 90,
   "id": "22688aca-c203-4d23-aefd-285120aae355",
   "metadata": {},
   "outputs": [
    {
     "ename": "ValueError",
     "evalue": "cannot reshape array of size 6 into shape (3,3)",
     "output_type": "error",
     "traceback": [
      "\u001b[1;31m---------------------------------------------------------------------------\u001b[0m",
      "\u001b[1;31mValueError\u001b[0m                                Traceback (most recent call last)",
      "Cell \u001b[1;32mIn[90], line 1\u001b[0m\n\u001b[1;32m----> 1\u001b[0m arr\u001b[38;5;241m.\u001b[39mreshape(\u001b[38;5;241m3\u001b[39m,\u001b[38;5;241m3\u001b[39m)\n",
      "\u001b[1;31mValueError\u001b[0m: cannot reshape array of size 6 into shape (3,3)"
     ]
    }
   ],
   "source": [
    "arr.reshape(3,3) # if you reshape a array you have to check it have the same value to the reshaped matrix"
   ]
  },
  {
   "cell_type": "code",
   "execution_count": 92,
   "id": "c12f56ef-e655-4bd9-acee-09120a78c74e",
   "metadata": {},
   "outputs": [
    {
     "data": {
      "text/plain": [
       "array([[1],\n",
       "       [2],\n",
       "       [3],\n",
       "       [4],\n",
       "       [5],\n",
       "       [6]])"
      ]
     },
     "execution_count": 92,
     "metadata": {},
     "output_type": "execute_result"
    }
   ],
   "source": [
    "arr.reshape(6,1)"
   ]
  },
  {
   "cell_type": "code",
   "execution_count": 94,
   "id": "e7775f68-12fc-46f4-88f0-ce17c8d9bace",
   "metadata": {},
   "outputs": [
    {
     "data": {
      "text/plain": [
       "array([[ 1],\n",
       "       [ 2],\n",
       "       [ 3],\n",
       "       [ 4],\n",
       "       [ 5],\n",
       "       [ 6],\n",
       "       [ 7],\n",
       "       [ 8],\n",
       "       [ 9],\n",
       "       [10],\n",
       "       [11],\n",
       "       [12]])"
      ]
     },
     "execution_count": 94,
     "metadata": {},
     "output_type": "execute_result"
    }
   ],
   "source": [
    "np.arange(1,13).reshape(12,1)"
   ]
  },
  {
   "cell_type": "code",
   "execution_count": null,
   "id": "8d6406db-6770-4781-8b80-caff1d96ff41",
   "metadata": {},
   "outputs": [],
   "source": []
  }
 ],
 "metadata": {
  "kernelspec": {
   "display_name": "Python 3 (ipykernel)",
   "language": "python",
   "name": "python3"
  },
  "language_info": {
   "codemirror_mode": {
    "name": "ipython",
    "version": 3
   },
   "file_extension": ".py",
   "mimetype": "text/x-python",
   "name": "python",
   "nbconvert_exporter": "python",
   "pygments_lexer": "ipython3",
   "version": "3.12.4"
  }
 },
 "nbformat": 4,
 "nbformat_minor": 5
}
