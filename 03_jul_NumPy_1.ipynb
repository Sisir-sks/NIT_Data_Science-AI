{
 "cells": [
  {
   "cell_type": "markdown",
   "id": "1088453c-0f09-4802-b1bc-5e80682548d4",
   "metadata": {},
   "source": [
    "# Introduction to NumPy"
   ]
  },
  {
   "cell_type": "markdown",
   "id": "48567f92-4a1d-4d02-af53-4ae362defec8",
   "metadata": {},
   "source": [
    "#### ►NumPy (Numerical Python)is a open-source library widely used in data science,scietific computing,machine learning,data analytics,business analytics,generative ai.It provides powerful data structure and functions that enable efficient numerical operations on large datasets."
   ]
  },
  {
   "cell_type": "code",
   "execution_count": 5,
   "id": "669b8609-5f40-4d21-974e-f2761b16700c",
   "metadata": {},
   "outputs": [
    {
     "data": {
      "text/plain": [
       "'3.12.4 | packaged by Anaconda, Inc. | (main, Jun 18 2024, 15:03:56) [MSC v.1929 64 bit (AMD64)]'"
      ]
     },
     "execution_count": 5,
     "metadata": {},
     "output_type": "execute_result"
    }
   ],
   "source": [
    "import sys\n",
    "sys.version"
   ]
  },
  {
   "cell_type": "code",
   "execution_count": 7,
   "id": "51c9852f-bf37-4434-9bee-5fb95cb75a4e",
   "metadata": {},
   "outputs": [],
   "source": [
    "import numpy as np   # importing numpy with alias as np "
   ]
  },
  {
   "cell_type": "code",
   "execution_count": 9,
   "id": "f70702ca-fed8-4b8d-95db-4b32ef73c8c7",
   "metadata": {},
   "outputs": [
    {
     "data": {
      "text/plain": [
       "'1.26.4'"
      ]
     },
     "execution_count": 9,
     "metadata": {},
     "output_type": "execute_result"
    }
   ],
   "source": [
    "np.__version__"
   ]
  },
  {
   "cell_type": "markdown",
   "id": "9064d71f-6987-4257-b621-c5ad1084dfdc",
   "metadata": {},
   "source": [
    "## ARRAY"
   ]
  },
  {
   "cell_type": "markdown",
   "id": "a9fab683-fded-4946-afa6-cc31093611cd",
   "metadata": {},
   "source": [
    "#### Array is a data structure used to store multiple similar/homogeneous values in a single variable."
   ]
  },
  {
   "cell_type": "markdown",
   "id": "b82f3a01-9540-4632-bb83-1d5df50474d8",
   "metadata": {},
   "source": [
    "-\n",
    "    All items must be the same data type(all int/all string)\n",
    "-\n",
    "    Elements are stored in a adjecent memory location,which makes access fast.\n",
    "-   We can access elements using an index.\n",
    "-   Types of arrays:\n",
    "    -   1D Array- a simple list of elements (single lined array)\n",
    "    -   2D Array- Array with two dimensions (rows x columns)\n",
    "    -   ND Array- Array with more than two dimensions\n",
    "    "
   ]
  },
  {
   "cell_type": "markdown",
   "id": "ebf0aa3d-1b80-41ae-878c-8ff48b4011d1",
   "metadata": {},
   "source": [
    "- Array Properties :\n",
    "    - ->a.shape #Return the shape of array (rows x columns)\n",
    "    - ->a.dtype  #Return the data type (int,float).\n",
    "    - a.ndim  #Returns the number of dimensions of the array.\n",
    "    - a.size #Returns the number of elements.  "
   ]
  },
  {
   "cell_type": "markdown",
   "id": "e8ae84c4-835a-488a-92b8-184e5a1a77f7",
   "metadata": {},
   "source": [
    "- Array Creations:\n",
    "    - np.zeros(rows x columns) # Creates an array of all zeros.\n",
    "    - np.ones(rows x columns)  # creates an arryay with all ones.\n",
    "    - np.arange(start,stop,step) #Creates an array with sequenced values.\n",
    "   "
   ]
  },
  {
   "cell_type": "markdown",
   "id": "43d5808a-73b7-4016-a06d-4c2e04eaa461",
   "metadata": {},
   "source": [
    "- Array Functions:\n",
    "    - np.sum()\n",
    "    - np.mean()\n",
    "    - np.std()\n",
    "    - np.max()\n",
    "    - np.min()\n",
    "    - np.argmax()\n",
    "    - np.argmin()"
   ]
  },
  {
   "cell_type": "code",
   "execution_count": 22,
   "id": "9485dcc1-fa6b-4194-b2a3-c4eb564bcda8",
   "metadata": {},
   "outputs": [
    {
     "data": {
      "text/plain": [
       "[0, 1, 2, 3, 4, 5]"
      ]
     },
     "execution_count": 22,
     "metadata": {},
     "output_type": "execute_result"
    }
   ],
   "source": [
    "#Creating a list and converting to a array\n",
    "my_list=[0,1,2,3,4,5]\n",
    "my_list"
   ]
  },
  {
   "cell_type": "code",
   "execution_count": 24,
   "id": "2383ca4b-283c-4137-a86a-b87900b4f983",
   "metadata": {},
   "outputs": [
    {
     "data": {
      "text/plain": [
       "list"
      ]
     },
     "execution_count": 24,
     "metadata": {},
     "output_type": "execute_result"
    }
   ],
   "source": [
    "type(my_list)"
   ]
  },
  {
   "cell_type": "code",
   "execution_count": 26,
   "id": "5fd8d947-cb2f-4220-8a65-4770934b32be",
   "metadata": {},
   "outputs": [
    {
     "name": "stdout",
     "output_type": "stream",
     "text": [
      "[0 1 2 3 4 5]\n"
     ]
    },
    {
     "data": {
      "text/plain": [
       "numpy.ndarray"
      ]
     },
     "execution_count": 26,
     "metadata": {},
     "output_type": "execute_result"
    }
   ],
   "source": [
    "#converting list to array\n",
    "#Syntax=np.array(list_name)\n",
    "arr=np.array(my_list)\n",
    "print(arr)\n",
    "type(arr)"
   ]
  },
  {
   "cell_type": "code",
   "execution_count": 30,
   "id": "156c84a0-717a-478e-8940-97c639662f31",
   "metadata": {},
   "outputs": [
    {
     "data": {
      "text/plain": [
       "array([0, 1, 2, 3, 4, 5, 6, 7, 8, 9])"
      ]
     },
     "execution_count": 30,
     "metadata": {},
     "output_type": "execute_result"
    }
   ],
   "source": [
    "np.arange(10) \n",
    "# .arange()Returns just like range but in array format. here it returns 0-9\n",
    "#Syntax->np.arange(start,stop,stop)\n"
   ]
  },
  {
   "cell_type": "code",
   "execution_count": 32,
   "id": "d9486832-c04a-43a8-a062-0fbf1aa204e0",
   "metadata": {},
   "outputs": [
    {
     "data": {
      "text/plain": [
       "array([10, 11, 12, 13, 14, 15, 16, 17, 18, 19])"
      ]
     },
     "execution_count": 32,
     "metadata": {},
     "output_type": "execute_result"
    }
   ],
   "source": [
    "np.arange(10,20)   #Returns the numbers in an array between 10-19"
   ]
  },
  {
   "cell_type": "code",
   "execution_count": 34,
   "id": "e685a6c4-d1e2-4819-bd8e-07feeba57a1e",
   "metadata": {},
   "outputs": [
    {
     "data": {
      "text/plain": [
       "array([10, 15, 20, 25, 30, 35, 40, 45])"
      ]
     },
     "execution_count": 34,
     "metadata": {},
     "output_type": "execute_result"
    }
   ],
   "source": [
    "np.arange(10,50,5) # It return the array with the numbe s between 10-50 with the step of 5"
   ]
  },
  {
   "cell_type": "code",
   "execution_count": 36,
   "id": "48a1128c-bedd-45aa-928d-3f8f98d281ce",
   "metadata": {},
   "outputs": [
    {
     "data": {
      "text/plain": [
       "array([10, 13, 16, 19, 22, 25, 28])"
      ]
     },
     "execution_count": 36,
     "metadata": {},
     "output_type": "execute_result"
    }
   ],
   "source": [
    "np.arange(10,30,3)"
   ]
  },
  {
   "cell_type": "code",
   "execution_count": 38,
   "id": "899868f1-51cd-49d2-9654-b23a8af994b9",
   "metadata": {},
   "outputs": [
    {
     "ename": "TypeError",
     "evalue": "Cannot interpret '4' as a data type",
     "output_type": "error",
     "traceback": [
      "\u001b[1;31m---------------------------------------------------------------------------\u001b[0m",
      "\u001b[1;31mTypeError\u001b[0m                                 Traceback (most recent call last)",
      "Cell \u001b[1;32mIn[38], line 1\u001b[0m\n\u001b[1;32m----> 1\u001b[0m np\u001b[38;5;241m.\u001b[39marange(\u001b[38;5;241m10\u001b[39m,\u001b[38;5;241m30\u001b[39m,\u001b[38;5;241m3\u001b[39m,\u001b[38;5;241m4\u001b[39m)\n",
      "\u001b[1;31mTypeError\u001b[0m: Cannot interpret '4' as a data type"
     ]
    }
   ],
   "source": [
    "np.arange(10,30,3,4)"
   ]
  },
  {
   "cell_type": "code",
   "execution_count": 40,
   "id": "e9756d77-df2e-4110-aa7f-8ddab638a7b4",
   "metadata": {},
   "outputs": [
    {
     "data": {
      "text/plain": [
       "array([], dtype=int32)"
      ]
     },
     "execution_count": 40,
     "metadata": {},
     "output_type": "execute_result"
    }
   ],
   "source": [
    "np.arange(30,10) # It rises a error because the start value should be less than the stop value."
   ]
  },
  {
   "cell_type": "code",
   "execution_count": 42,
   "id": "1bc2e709-0c4b-43bd-a98d-5e4ee4e1e594",
   "metadata": {},
   "outputs": [
    {
     "data": {
      "text/plain": [
       "array([-20, -19, -18, -17, -16, -15, -14, -13, -12, -11, -10,  -9,  -8,\n",
       "        -7,  -6,  -5,  -4,  -3,  -2,  -1,   0,   1,   2,   3,   4,   5,\n",
       "         6,   7])"
      ]
     },
     "execution_count": 42,
     "metadata": {},
     "output_type": "execute_result"
    }
   ],
   "source": [
    "np.arange(-20,8)"
   ]
  },
  {
   "cell_type": "markdown",
   "id": "aa45dbfc-3c4b-496e-aef0-35551373b660",
   "metadata": {},
   "source": [
    "#### np.zeros()\n",
    "###### np.zeros(rows x columns) - creates an array with all zeros"
   ]
  },
  {
   "cell_type": "code",
   "execution_count": 46,
   "id": "dfc71446-14ef-4fb2-88f8-64b101050ac6",
   "metadata": {},
   "outputs": [
    {
     "data": {
      "text/plain": [
       "array([[0., 0., 0., 0.],\n",
       "       [0., 0., 0., 0.],\n",
       "       [0., 0., 0., 0.]])"
      ]
     },
     "execution_count": 46,
     "metadata": {},
     "output_type": "execute_result"
    }
   ],
   "source": [
    "np.zeros((3,4))"
   ]
  },
  {
   "cell_type": "code",
   "execution_count": 52,
   "id": "96a5dc93-b950-47a8-a5f1-5ac8a460d346",
   "metadata": {},
   "outputs": [
    {
     "data": {
      "text/plain": [
       "array([0, 0, 0])"
      ]
     },
     "execution_count": 52,
     "metadata": {},
     "output_type": "execute_result"
    }
   ],
   "source": [
    "np.zeros(3,dtype=int)"
   ]
  },
  {
   "cell_type": "code",
   "execution_count": 58,
   "id": "aa4996db-2fa2-405e-a0cb-31c16ee8b026",
   "metadata": {},
   "outputs": [
    {
     "data": {
      "text/plain": [
       "array([[0., 0.],\n",
       "       [0., 0.]])"
      ]
     },
     "execution_count": 58,
     "metadata": {},
     "output_type": "execute_result"
    }
   ],
   "source": [
    "np.zeros((2,2)) #2d array"
   ]
  },
  {
   "cell_type": "code",
   "execution_count": 60,
   "id": "a13ee983-cb33-4d8d-b593-e5c04bbb051d",
   "metadata": {},
   "outputs": [
    {
     "data": {
      "text/plain": [
       "array([[0, 0, 0, 0, 0, 0, 0, 0, 0],\n",
       "       [0, 0, 0, 0, 0, 0, 0, 0, 0],\n",
       "       [0, 0, 0, 0, 0, 0, 0, 0, 0],\n",
       "       [0, 0, 0, 0, 0, 0, 0, 0, 0],\n",
       "       [0, 0, 0, 0, 0, 0, 0, 0, 0]])"
      ]
     },
     "execution_count": 60,
     "metadata": {},
     "output_type": "execute_result"
    }
   ],
   "source": [
    "np.zeros((5,9),dtype=int)"
   ]
  },
  {
   "cell_type": "markdown",
   "id": "e75ffa5a-3676-4d35-86aa-82353c7ed574",
   "metadata": {},
   "source": [
    "#### np.ones(rows x xolumns)\n",
    "###### np.ones()- creates an array with all ones."
   ]
  },
  {
   "cell_type": "code",
   "execution_count": 65,
   "id": "0e8f082b-3f20-4041-93c6-68b81208ab2d",
   "metadata": {},
   "outputs": [
    {
     "data": {
      "text/plain": [
       "array([1., 1., 1.])"
      ]
     },
     "execution_count": 65,
     "metadata": {},
     "output_type": "execute_result"
    }
   ],
   "source": [
    "np.ones(3) # created an array with all ones \n"
   ]
  },
  {
   "cell_type": "code",
   "execution_count": 67,
   "id": "eb5d4193-2020-441a-9d34-110953535b18",
   "metadata": {},
   "outputs": [
    {
     "data": {
      "text/plain": [
       "array([1, 1, 1, 1])"
      ]
     },
     "execution_count": 67,
     "metadata": {},
     "output_type": "execute_result"
    }
   ],
   "source": [
    "np.ones(4,dtype=int)"
   ]
  },
  {
   "cell_type": "code",
   "execution_count": 69,
   "id": "11b64f6d-0616-4b8a-89ea-64510987b209",
   "metadata": {},
   "outputs": [
    {
     "data": {
      "text/plain": [
       "array([[1, 1, 1, 1, 1, 1, 1, 1, 1, 1],\n",
       "       [1, 1, 1, 1, 1, 1, 1, 1, 1, 1],\n",
       "       [1, 1, 1, 1, 1, 1, 1, 1, 1, 1],\n",
       "       [1, 1, 1, 1, 1, 1, 1, 1, 1, 1],\n",
       "       [1, 1, 1, 1, 1, 1, 1, 1, 1, 1],\n",
       "       [1, 1, 1, 1, 1, 1, 1, 1, 1, 1],\n",
       "       [1, 1, 1, 1, 1, 1, 1, 1, 1, 1],\n",
       "       [1, 1, 1, 1, 1, 1, 1, 1, 1, 1],\n",
       "       [1, 1, 1, 1, 1, 1, 1, 1, 1, 1],\n",
       "       [1, 1, 1, 1, 1, 1, 1, 1, 1, 1]])"
      ]
     },
     "execution_count": 69,
     "metadata": {},
     "output_type": "execute_result"
    }
   ],
   "source": [
    "np.ones((10,10),dtype=int)"
   ]
  },
  {
   "cell_type": "code",
   "execution_count": null,
   "id": "eebd80e9-e760-4e68-b190-4a066369991a",
   "metadata": {},
   "outputs": [],
   "source": []
  }
 ],
 "metadata": {
  "kernelspec": {
   "display_name": "Python 3 (ipykernel)",
   "language": "python",
   "name": "python3"
  },
  "language_info": {
   "codemirror_mode": {
    "name": "ipython",
    "version": 3
   },
   "file_extension": ".py",
   "mimetype": "text/x-python",
   "name": "python",
   "nbconvert_exporter": "python",
   "pygments_lexer": "ipython3",
   "version": "3.12.4"
  }
 },
 "nbformat": 4,
 "nbformat_minor": 5
}
