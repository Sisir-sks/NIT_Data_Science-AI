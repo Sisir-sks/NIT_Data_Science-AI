{
 "cells": [
  {
   "cell_type": "markdown",
   "id": "22d29c74-cf8e-4239-bf1b-5ef02a8a1d68",
   "metadata": {},
   "source": [
    "#INPUT FUNCTION"
   ]
  },
  {
   "cell_type": "code",
   "execution_count": null,
   "id": "ee2d6f87-3053-4d61-b344-0e9d51d1ae69",
   "metadata": {},
   "outputs": [],
   "source": [
    "#Input Function\n",
    "#Input function is a built in method to take user input, it always returns the user input as a string\n",
    "# If you want any other data type you have to use type casting\n",
    "#we can pass a string to promp before taking input\n"
   ]
  },
  {
   "cell_type": "code",
   "execution_count": 8,
   "id": "26f8ead9-76f8-4362-8789-188cc26ceb72",
   "metadata": {},
   "outputs": [
    {
     "name": "stdin",
     "output_type": "stream",
     "text": [
      " name\n",
      " age\n"
     ]
    }
   ],
   "source": [
    "x=input()\n",
    "y=input()"
   ]
  },
  {
   "cell_type": "code",
   "execution_count": 14,
   "id": "8d62dbd0-255a-4c1b-916d-8dd8b7729c7f",
   "metadata": {},
   "outputs": [
    {
     "name": "stdin",
     "output_type": "stream",
     "text": [
      "enter first number 5\n"
     ]
    },
    {
     "name": "stdout",
     "output_type": "stream",
     "text": [
      "5 <class 'str'>\n"
     ]
    }
   ],
   "source": [
    "z=input(\"enter first number\") # it return the input as string\n",
    "print(z,type(z))"
   ]
  },
  {
   "cell_type": "code",
   "execution_count": 16,
   "id": "0745800e-69d2-41a4-a483-34552c9c4e30",
   "metadata": {},
   "outputs": [
    {
     "name": "stdin",
     "output_type": "stream",
     "text": [
      "enter your first number 5\n"
     ]
    },
    {
     "name": "stdout",
     "output_type": "stream",
     "text": [
      "5 <class 'int'>\n"
     ]
    }
   ],
   "source": [
    "z=int(input('enter your first number'))   # using type conversion to get int value\n",
    "print(z,type(z))"
   ]
  },
  {
   "cell_type": "code",
   "execution_count": 18,
   "id": "85c098b7-96e6-40cf-bbaa-22ed142aa14a",
   "metadata": {},
   "outputs": [
    {
     "name": "stdin",
     "output_type": "stream",
     "text": [
      "enter your name alexa\n"
     ]
    },
    {
     "name": "stdout",
     "output_type": "stream",
     "text": [
      "alexa <class 'str'>\n"
     ]
    }
   ],
   "source": [
    "name=input('enter your name')\n",
    "print(name,type(name))"
   ]
  },
  {
   "cell_type": "code",
   "execution_count": 24,
   "id": "798577a9-9392-42ec-8b54-bb180808c0cd",
   "metadata": {},
   "outputs": [
    {
     "name": "stdin",
     "output_type": "stream",
     "text": [
      "enter your name alexa\n"
     ]
    },
    {
     "name": "stdout",
     "output_type": "stream",
     "text": [
      "a <class 'str'>\n"
     ]
    }
   ],
   "source": [
    "name=input('enter your name')[4] # iterate the 4th index value of user input\n",
    "print(name,type(name))"
   ]
  },
  {
   "cell_type": "code",
   "execution_count": 26,
   "id": "34eaf196-77fe-455a-8392-25a3557ce738",
   "metadata": {},
   "outputs": [
    {
     "name": "stdin",
     "output_type": "stream",
     "text": [
      "enter your name alexaamazon\n"
     ]
    },
    {
     "name": "stdout",
     "output_type": "stream",
     "text": [
      "exaa <class 'str'>\n"
     ]
    }
   ],
   "source": [
    "name=input('enter your name')[2:6] # we can use slicing also\n",
    "print(name,type(name))"
   ]
  },
  {
   "cell_type": "code",
   "execution_count": 28,
   "id": "1c2e89cd-1e1f-41ab-8382-b69a06751a26",
   "metadata": {},
   "outputs": [
    {
     "name": "stdin",
     "output_type": "stream",
     "text": [
      "enter your expressioin 2+3+5/8\n"
     ]
    },
    {
     "ename": "ValueError",
     "evalue": "invalid literal for int() with base 10: '2+3+5/8'",
     "output_type": "error",
     "traceback": [
      "\u001b[1;31m---------------------------------------------------------------------------\u001b[0m",
      "\u001b[1;31mValueError\u001b[0m                                Traceback (most recent call last)",
      "Cell \u001b[1;32mIn[28], line 1\u001b[0m\n\u001b[1;32m----> 1\u001b[0m exp\u001b[38;5;241m=\u001b[39m\u001b[38;5;28mint\u001b[39m(\u001b[38;5;28minput\u001b[39m(\u001b[38;5;124m'\u001b[39m\u001b[38;5;124menter your expressioin\u001b[39m\u001b[38;5;124m'\u001b[39m))\n\u001b[0;32m      2\u001b[0m \u001b[38;5;28mprint\u001b[39m(exp,\u001b[38;5;28mtype\u001b[39m(exp))\n",
      "\u001b[1;31mValueError\u001b[0m: invalid literal for int() with base 10: '2+3+5/8'"
     ]
    }
   ],
   "source": [
    "exp=int(input('enter your expressioin'))  # we cannot evaluate expression or convert into int we have to use eval \n",
    "print(exp,type(exp))"
   ]
  },
  {
   "cell_type": "code",
   "execution_count": 34,
   "id": "e1669495-3f08-477f-88a7-5cc76ed579a0",
   "metadata": {},
   "outputs": [
    {
     "name": "stdin",
     "output_type": "stream",
     "text": [
      "enter your expression 8*2+4/2\n"
     ]
    },
    {
     "name": "stdout",
     "output_type": "stream",
     "text": [
      "18.0 <class 'float'>\n"
     ]
    }
   ],
   "source": [
    "exp=eval(input('enter your expression')) # it evaluate the expression and return the float value\n",
    "print(exp,type(exp))"
   ]
  },
  {
   "cell_type": "code",
   "execution_count": null,
   "id": "ddd11094-ac8b-4036-9c2c-ef7eb3ca25fc",
   "metadata": {},
   "outputs": [],
   "source": []
  }
 ],
 "metadata": {
  "kernelspec": {
   "display_name": "Python 3 (ipykernel)",
   "language": "python",
   "name": "python3"
  },
  "language_info": {
   "codemirror_mode": {
    "name": "ipython",
    "version": 3
   },
   "file_extension": ".py",
   "mimetype": "text/x-python",
   "name": "python",
   "nbconvert_exporter": "python",
   "pygments_lexer": "ipython3",
   "version": "3.12.4"
  }
 },
 "nbformat": 4,
 "nbformat_minor": 5
}
