{
 "cells": [
  {
   "cell_type": "markdown",
   "id": "f8d868bb-b4a0-4994-8b78-15cae765ee40",
   "metadata": {},
   "source": [
    "#RANGE"
   ]
  },
  {
   "cell_type": "code",
   "execution_count": null,
   "id": "59964b11-8a0c-47fb-9fd6-9fded796649b",
   "metadata": {},
   "outputs": [],
   "source": [
    "#Range is built-in function used to generate/get a sequence of numbers.\n",
    "#it is immutable \n",
    "#it supports indexing and slicing\n",
    "#Syntax-> range(start,stop,step)\n",
    "# it is commonly used in loops "
   ]
  },
  {
   "cell_type": "code",
   "execution_count": 8,
   "id": "844dfb3c-229b-49e3-aa43-b6c878600ce7",
   "metadata": {},
   "outputs": [
    {
     "data": {
      "text/plain": [
       "range(0, 10)"
      ]
     },
     "execution_count": 8,
     "metadata": {},
     "output_type": "execute_result"
    }
   ],
   "source": [
    "range(10) # it return the range till the stop integer value"
   ]
  },
  {
   "cell_type": "code",
   "execution_count": 12,
   "id": "49add4e3-acd8-4088-8bdd-1cddab331403",
   "metadata": {},
   "outputs": [],
   "source": [
    "r=range(1,10) # it return the values from start(1) to stop(10) value"
   ]
  },
  {
   "cell_type": "code",
   "execution_count": 16,
   "id": "7a22e540-20dd-4060-9a7d-a42a17858522",
   "metadata": {},
   "outputs": [
    {
     "data": {
      "text/plain": [
       "range(1, 10, 2)"
      ]
     },
     "execution_count": 16,
     "metadata": {},
     "output_type": "execute_result"
    }
   ],
   "source": [
    "r1=range(1,10,2) # it return the values from start to stop with the gap of step \n",
    "r1"
   ]
  },
  {
   "cell_type": "code",
   "execution_count": 18,
   "id": "7bab4c4e-fc26-4f28-b7b7-1efd85549abe",
   "metadata": {},
   "outputs": [
    {
     "data": {
      "text/plain": [
       "[1, 3, 5, 7, 9]"
      ]
     },
     "execution_count": 18,
     "metadata": {},
     "output_type": "execute_result"
    }
   ],
   "source": [
    "list(r1)"
   ]
  },
  {
   "cell_type": "code",
   "execution_count": 20,
   "id": "610f9b5d-8a5d-4025-81ee-49e7ab5f9ce1",
   "metadata": {},
   "outputs": [
    {
     "data": {
      "text/plain": [
       "[1, 2, 3, 4, 5, 6, 7, 8, 9]"
      ]
     },
     "execution_count": 20,
     "metadata": {},
     "output_type": "execute_result"
    }
   ],
   "source": [
    "list(r)"
   ]
  },
  {
   "cell_type": "code",
   "execution_count": 24,
   "id": "dc650fd9-7969-4e72-8bc2-5b09e1f29dd1",
   "metadata": {},
   "outputs": [
    {
     "data": {
      "text/plain": [
       "[0, 5, 10, 15, 20, 25, 30, 35, 40, 45, 50, 55, 60, 65, 70, 75, 80, 85, 90, 95]"
      ]
     },
     "execution_count": 24,
     "metadata": {},
     "output_type": "execute_result"
    }
   ],
   "source": [
    "list(range(0,100,5)) # return the values from 0-100 with the step of 5"
   ]
  },
  {
   "cell_type": "code",
   "execution_count": 26,
   "id": "69eb3854-85b3-4bd1-a8f4-4ff138893c68",
   "metadata": {},
   "outputs": [
    {
     "ename": "TypeError",
     "evalue": "range expected at most 3 arguments, got 4",
     "output_type": "error",
     "traceback": [
      "\u001b[1;31m---------------------------------------------------------------------------\u001b[0m",
      "\u001b[1;31mTypeError\u001b[0m                                 Traceback (most recent call last)",
      "Cell \u001b[1;32mIn[26], line 1\u001b[0m\n\u001b[1;32m----> 1\u001b[0m \u001b[38;5;28mrange\u001b[39m(\u001b[38;5;241m0\u001b[39m,\u001b[38;5;241m10\u001b[39m,\u001b[38;5;241m2\u001b[39m,\u001b[38;5;241m3\u001b[39m)\n",
      "\u001b[1;31mTypeError\u001b[0m: range expected at most 3 arguments, got 4"
     ]
    }
   ],
   "source": [
    "range(0,10,2,3) # rang allow only three argument"
   ]
  },
  {
   "cell_type": "code",
   "execution_count": 28,
   "id": "7761f7f8-acee-4ad7-88e7-60dc5ceda27d",
   "metadata": {},
   "outputs": [
    {
     "data": {
      "text/plain": [
       "range(1, 10)"
      ]
     },
     "execution_count": 28,
     "metadata": {},
     "output_type": "execute_result"
    }
   ],
   "source": [
    "r"
   ]
  },
  {
   "cell_type": "code",
   "execution_count": 30,
   "id": "bdd5b5f1-ddd0-493b-bf96-5583f3022b92",
   "metadata": {},
   "outputs": [
    {
     "data": {
      "text/plain": [
       "range"
      ]
     },
     "execution_count": 30,
     "metadata": {},
     "output_type": "execute_result"
    }
   ],
   "source": [
    "type(r)"
   ]
  },
  {
   "cell_type": "code",
   "execution_count": 32,
   "id": "ad6d56a2-0de9-42ef-b4c7-e5f5258158ac",
   "metadata": {},
   "outputs": [
    {
     "name": "stdout",
     "output_type": "stream",
     "text": [
      "0\n",
      "1\n",
      "2\n",
      "3\n",
      "4\n",
      "5\n",
      "6\n",
      "7\n",
      "8\n",
      "9\n"
     ]
    }
   ],
   "source": [
    "for i in range(10):       # it gives numbers from 0-10 \n",
    "    print(i)"
   ]
  },
  {
   "cell_type": "code",
   "execution_count": 36,
   "id": "e4491370-34bf-4ef4-815b-c7dc25d902aa",
   "metadata": {},
   "outputs": [
    {
     "name": "stdout",
     "output_type": "stream",
     "text": [
      "10\n",
      "20\n",
      "30\n",
      "40\n",
      "50\n",
      "60\n",
      "70\n",
      "80\n",
      "90\n"
     ]
    }
   ],
   "source": [
    "for i in range(10,100,10):  # returns all the numbers from 0 up to 100 with step of 10\n",
    "    print(i)"
   ]
  },
  {
   "cell_type": "code",
   "execution_count": 40,
   "id": "33808db2-36b8-4e3f-a487-4fc9846fb7d0",
   "metadata": {},
   "outputs": [
    {
     "data": {
      "text/plain": [
       "3"
      ]
     },
     "execution_count": 40,
     "metadata": {},
     "output_type": "execute_result"
    }
   ],
   "source": [
    "range(10)[3] #it supports indexing so we can return the specified indexed value"
   ]
  },
  {
   "cell_type": "code",
   "execution_count": 44,
   "id": "c5f8ed1c-2ea0-43d6-8871-55e8735f636f",
   "metadata": {},
   "outputs": [
    {
     "data": {
      "text/plain": [
       "[2, 3, 4, 5]"
      ]
     },
     "execution_count": 44,
     "metadata": {},
     "output_type": "execute_result"
    }
   ],
   "source": [
    "list(range(10)[2:6]) # it supports slicing it can print 2 to 6"
   ]
  },
  {
   "cell_type": "code",
   "execution_count": 46,
   "id": "4fd5fc63-fabb-429c-a2dd-ea938cfa09f6",
   "metadata": {},
   "outputs": [
    {
     "data": {
      "text/plain": [
       "[10, 25]"
      ]
     },
     "execution_count": 46,
     "metadata": {},
     "output_type": "execute_result"
    }
   ],
   "source": [
    "list(range(10,50,15)[:2])"
   ]
  },
  {
   "cell_type": "code",
   "execution_count": 50,
   "id": "eede7177-7fd2-428e-8e15-58a3843cf0a7",
   "metadata": {},
   "outputs": [
    {
     "ename": "TypeError",
     "evalue": "'float' object cannot be interpreted as an integer",
     "output_type": "error",
     "traceback": [
      "\u001b[1;31m---------------------------------------------------------------------------\u001b[0m",
      "\u001b[1;31mTypeError\u001b[0m                                 Traceback (most recent call last)",
      "Cell \u001b[1;32mIn[50], line 1\u001b[0m\n\u001b[1;32m----> 1\u001b[0m \u001b[38;5;28mrange\u001b[39m(\u001b[38;5;241m10\u001b[39m,\u001b[38;5;241m15.5\u001b[39m)\n",
      "\u001b[1;31mTypeError\u001b[0m: 'float' object cannot be interpreted as an integer"
     ]
    }
   ],
   "source": [
    "range(10,15.5) # we cannot pass float value as an argumment"
   ]
  },
  {
   "cell_type": "code",
   "execution_count": null,
   "id": "5067de1c-8c79-4f9a-8af0-15bdb2486a1d",
   "metadata": {},
   "outputs": [],
   "source": []
  }
 ],
 "metadata": {
  "kernelspec": {
   "display_name": "Python 3 (ipykernel)",
   "language": "python",
   "name": "python3"
  },
  "language_info": {
   "codemirror_mode": {
    "name": "ipython",
    "version": 3
   },
   "file_extension": ".py",
   "mimetype": "text/x-python",
   "name": "python",
   "nbconvert_exporter": "python",
   "pygments_lexer": "ipython3",
   "version": "3.12.4"
  }
 },
 "nbformat": 4,
 "nbformat_minor": 5
}
