{
 "cells": [
  {
   "cell_type": "markdown",
   "id": "12880aa1-3eed-4343-a63c-10f51b41272b",
   "metadata": {},
   "source": [
    "# Introduction to NumPy\n"
   ]
  },
  {
   "cell_type": "markdown",
   "id": "5374cf50-7c75-4831-9d5b-9c3068dd7d7b",
   "metadata": {},
   "source": [
    "#### ►NumPy (Numerical Python)is a open-source library widely used in data science,scietific computing,machine learning,data analytics,business analytics,generative ai.It provides powerful data structure and functions that enable efficient numerical operations on large datasets."
   ]
  },
  {
   "cell_type": "code",
   "execution_count": 285,
   "id": "8221604c-d1cf-4490-ad63-625d3c6a3b59",
   "metadata": {},
   "outputs": [
    {
     "data": {
      "text/plain": [
       "'3.12.4 | packaged by Anaconda, Inc. | (main, Jun 18 2024, 15:03:56) [MSC v.1929 64 bit (AMD64)]'"
      ]
     },
     "execution_count": 285,
     "metadata": {},
     "output_type": "execute_result"
    }
   ],
   "source": [
    "import sys\n",
    "sys.version"
   ]
  },
  {
   "cell_type": "code",
   "execution_count": 3,
   "id": "cba022a2-3448-4d04-9718-46bb1a363f07",
   "metadata": {},
   "outputs": [],
   "source": [
    "import numpy as np"
   ]
  },
  {
   "cell_type": "code",
   "execution_count": 5,
   "id": "53154735-daa6-4b27-8025-b4d77a332b99",
   "metadata": {},
   "outputs": [
    {
     "data": {
      "text/plain": [
       "'1.26.4'"
      ]
     },
     "execution_count": 5,
     "metadata": {},
     "output_type": "execute_result"
    }
   ],
   "source": [
    "np.__version__"
   ]
  },
  {
   "cell_type": "markdown",
   "id": "0b59f926-8c52-4989-b446-29d179319d3d",
   "metadata": {},
   "source": [
    "## ARRAY"
   ]
  },
  {
   "cell_type": "markdown",
   "id": "413b4014-fcd9-4999-bdf7-54bfeecd8a67",
   "metadata": {},
   "source": [
    "#### Array is a data structure used to store multiple similar/homogeneous values in a single variable."
   ]
  },
  {
   "cell_type": "markdown",
   "id": "d3140076-ac6a-4bd7-a558-dd91b3bd08b3",
   "metadata": {},
   "source": [
    "-\n",
    "    All items must be the same data type(all int/all string)\n",
    "-\n",
    "    Elements are stored in a adjecent memory location,which makes access fast.\n",
    "-   We can access elements using an index.\n",
    "-   Types of arrays:\n",
    "    -   1D Array- a simple list of elements (single lined array)\n",
    "    -   2D Array- Array with two dimensions (rows x columns)\n",
    "    -   ND Array- Array with more than two dimensions"
   ]
  },
  {
   "cell_type": "markdown",
   "id": "1997717c-72e8-492c-a872-120f5c73624b",
   "metadata": {},
   "source": [
    "- Array Properties :\n",
    "    - ->a.shape #Return the shape of array (rows x columns)\n",
    "    - ->a.dtype  #Return the data type (int,float).\n",
    "    - a.ndim  #Returns the number of dimensions of the array.\n",
    "    - a.size #Returns the number of elements.  "
   ]
  },
  {
   "cell_type": "markdown",
   "id": "e6962ba8-b5ba-49e5-b8d4-abe2eb7956b7",
   "metadata": {},
   "source": [
    "- Array Creations:\n",
    "    - np.zeros(rows x columns) # Creates an array of all zeros.\n",
    "    - np.ones(rows x columns)  # creates an arryay with all ones.\n",
    "    - np.arange(start,stop,step) #Creates an array with sequenced values.\n",
    "   "
   ]
  },
  {
   "cell_type": "markdown",
   "id": "93fc097e-de1c-43cc-adfb-a8fc3cc25a75",
   "metadata": {},
   "source": [
    "- Array Functions:\n",
    "    - np.sum()\n",
    "    - np.mean()\n",
    "    - np.std()\n",
    "    - np.max()\n",
    "    - np.min()\n",
    "    - np.argmax()\n",
    "    - np.argmin()"
   ]
  },
  {
   "cell_type": "code",
   "execution_count": 291,
   "id": "63ebf8d8-2a8b-43b5-b7a9-d4601a8793d9",
   "metadata": {},
   "outputs": [
    {
     "data": {
      "text/plain": [
       "[0, 1, 2, 3, 4, 5]"
      ]
     },
     "execution_count": 291,
     "metadata": {},
     "output_type": "execute_result"
    }
   ],
   "source": [
    "#Creating a list and converting to a array\n",
    "my_list=[0,1,2,3,4,5]\n",
    "my_list"
   ]
  },
  {
   "cell_type": "code",
   "execution_count": 9,
   "id": "3e149327-d06d-4b51-a48f-b011f3a9df1c",
   "metadata": {},
   "outputs": [
    {
     "data": {
      "text/plain": [
       "list"
      ]
     },
     "execution_count": 9,
     "metadata": {},
     "output_type": "execute_result"
    }
   ],
   "source": [
    "type(my_list)"
   ]
  },
  {
   "cell_type": "code",
   "execution_count": 53,
   "id": "dcdb132d-a3b0-43cf-96ad-236d71a79f4a",
   "metadata": {},
   "outputs": [
    {
     "data": {
      "text/plain": [
       "array([0, 1, 2, 3, 4, 5])"
      ]
     },
     "execution_count": 53,
     "metadata": {},
     "output_type": "execute_result"
    }
   ],
   "source": [
    "#converting list to array\n",
    "#Syntax=np.array(list_name)\n",
    "arr=np.array(my_list)\n",
    "print(arr)\n",
    "type(arr)"
   ]
  },
  {
   "cell_type": "code",
   "execution_count": 15,
   "id": "68671a0c-7afe-49a8-beb5-3fd1a0daf0f3",
   "metadata": {},
   "outputs": [
    {
     "data": {
      "text/plain": [
       "numpy.ndarray"
      ]
     },
     "execution_count": 15,
     "metadata": {},
     "output_type": "execute_result"
    }
   ],
   "source": [
    "type(arr)"
   ]
  },
  {
   "cell_type": "code",
   "execution_count": 19,
   "id": "eac2af50-48c4-41db-80e2-3ffedd9b47c7",
   "metadata": {},
   "outputs": [
    {
     "data": {
      "text/plain": [
       "array([0, 1, 2, 3, 4, 5, 6, 7, 8, 9])"
      ]
     },
     "execution_count": 19,
     "metadata": {},
     "output_type": "execute_result"
    }
   ],
   "source": [
    "np.arange(10) \n",
    "# .arange()Returns just like range but in array format. here it returns 0-9\n",
    "#Syntax->np.arange(start,stop,stop)"
   ]
  },
  {
   "cell_type": "code",
   "execution_count": 21,
   "id": "37338f44-2da2-425c-96a1-56d28b6a8806",
   "metadata": {},
   "outputs": [
    {
     "data": {
      "text/plain": [
       "array([10, 11, 12, 13, 14, 15, 16, 17, 18, 19])"
      ]
     },
     "execution_count": 21,
     "metadata": {},
     "output_type": "execute_result"
    }
   ],
   "source": [
    "np.arange(10,20)  #Returns the numbers in an array between 10-19"
   ]
  },
  {
   "cell_type": "code",
   "execution_count": 25,
   "id": "40659c4a-5729-40e0-be68-e3e93b81ff03",
   "metadata": {},
   "outputs": [
    {
     "data": {
      "text/plain": [
       "array([10, 15, 20, 25, 30, 35, 40, 45])"
      ]
     },
     "execution_count": 25,
     "metadata": {},
     "output_type": "execute_result"
    }
   ],
   "source": [
    "np.arange(10,50,5) # It return the array with the numbe s between 10-50 with the step of 5"
   ]
  },
  {
   "cell_type": "code",
   "execution_count": 27,
   "id": "3544f635-5de6-4fe6-aef4-c5b155ba360a",
   "metadata": {},
   "outputs": [
    {
     "data": {
      "text/plain": [
       "array([10, 13, 16, 19, 22, 25, 28])"
      ]
     },
     "execution_count": 27,
     "metadata": {},
     "output_type": "execute_result"
    }
   ],
   "source": [
    "np.arange(10,30,3)"
   ]
  },
  {
   "cell_type": "code",
   "execution_count": 29,
   "id": "a170a53d-8b26-4a70-8f30-e50f143c9aa0",
   "metadata": {},
   "outputs": [
    {
     "ename": "TypeError",
     "evalue": "Cannot interpret '4' as a data type",
     "output_type": "error",
     "traceback": [
      "\u001b[1;31m---------------------------------------------------------------------------\u001b[0m",
      "\u001b[1;31mTypeError\u001b[0m                                 Traceback (most recent call last)",
      "Cell \u001b[1;32mIn[29], line 1\u001b[0m\n\u001b[1;32m----> 1\u001b[0m np\u001b[38;5;241m.\u001b[39marange(\u001b[38;5;241m10\u001b[39m,\u001b[38;5;241m30\u001b[39m,\u001b[38;5;241m3\u001b[39m,\u001b[38;5;241m4\u001b[39m)\n",
      "\u001b[1;31mTypeError\u001b[0m: Cannot interpret '4' as a data type"
     ]
    }
   ],
   "source": [
    "np.arange(10,30,3,4)"
   ]
  },
  {
   "cell_type": "code",
   "execution_count": 31,
   "id": "389c10d6-412c-45ca-a54e-2f987bd63045",
   "metadata": {},
   "outputs": [
    {
     "data": {
      "text/plain": [
       "array([], dtype=int32)"
      ]
     },
     "execution_count": 31,
     "metadata": {},
     "output_type": "execute_result"
    }
   ],
   "source": [
    "np.arange(30,10) # It rises a error because the start value should be less than the stop value."
   ]
  },
  {
   "cell_type": "code",
   "execution_count": 33,
   "id": "cca32008-f0ef-4056-9e2b-8dd5322db5c5",
   "metadata": {},
   "outputs": [
    {
     "data": {
      "text/plain": [
       "array([-20, -19, -18, -17, -16, -15, -14, -13, -12, -11, -10,  -9,  -8,\n",
       "        -7,  -6,  -5,  -4,  -3,  -2,  -1,   0,   1,   2,   3,   4,   5,\n",
       "         6,   7])"
      ]
     },
     "execution_count": 33,
     "metadata": {},
     "output_type": "execute_result"
    }
   ],
   "source": [
    "np.arange(-20,8)"
   ]
  },
  {
   "cell_type": "markdown",
   "id": "33cd2945-166d-414a-bb4a-94b12c6d5d9a",
   "metadata": {},
   "source": [
    "#### np.zeros()\n",
    "###### np.zeros(rows x columns) - creates an array with all zeros"
   ]
  },
  {
   "cell_type": "code",
   "execution_count": 35,
   "id": "bca18181-5c5a-4e25-9b3b-3dc55aacaf92",
   "metadata": {},
   "outputs": [
    {
     "data": {
      "text/plain": [
       "array([0., 0., 0.])"
      ]
     },
     "execution_count": 35,
     "metadata": {},
     "output_type": "execute_result"
    }
   ],
   "source": [
    "np.zeros(3)"
   ]
  },
  {
   "cell_type": "code",
   "execution_count": 294,
   "id": "a1b6d9c3-f247-48c3-a4d6-ec069b948b97",
   "metadata": {},
   "outputs": [
    {
     "data": {
      "text/plain": [
       "array([[0., 0., 0., 0.],\n",
       "       [0., 0., 0., 0.],\n",
       "       [0., 0., 0., 0.]])"
      ]
     },
     "execution_count": 294,
     "metadata": {},
     "output_type": "execute_result"
    }
   ],
   "source": [
    "np.zeros((3,4))"
   ]
  },
  {
   "cell_type": "code",
   "execution_count": 37,
   "id": "dc731c76-92c5-436b-9824-5fc152ccbfa8",
   "metadata": {},
   "outputs": [
    {
     "data": {
      "text/plain": [
       "array([0, 0, 0])"
      ]
     },
     "execution_count": 37,
     "metadata": {},
     "output_type": "execute_result"
    }
   ],
   "source": [
    "np.zeros(3,dtype=int)"
   ]
  },
  {
   "cell_type": "code",
   "execution_count": null,
   "id": "eb66ea6a-9c74-4152-8c01-cc2278e49f74",
   "metadata": {},
   "outputs": [],
   "source": [
    "np.zeros((2,2)) #2d array"
   ]
  },
  {
   "cell_type": "code",
   "execution_count": 41,
   "id": "f77c03ea-4d06-4747-af4b-bcf77c2c5382",
   "metadata": {},
   "outputs": [
    {
     "data": {
      "text/plain": [
       "array([0., 0., 0., 0., 0.])"
      ]
     },
     "execution_count": 41,
     "metadata": {},
     "output_type": "execute_result"
    }
   ],
   "source": [
    "z=np.zeros(5)\n",
    "z"
   ]
  },
  {
   "cell_type": "code",
   "execution_count": 45,
   "id": "318f1ac4-b0ba-4ab7-b71d-b8dd8ea2abaf",
   "metadata": {},
   "outputs": [
    {
     "data": {
      "text/plain": [
       "array([[0., 0., 0.],\n",
       "       [0., 0., 0.],\n",
       "       [0., 0., 0.],\n",
       "       [0., 0., 0.],\n",
       "       [0., 0., 0.]])"
      ]
     },
     "execution_count": 45,
     "metadata": {},
     "output_type": "execute_result"
    }
   ],
   "source": [
    "np.zeros((5,3))  #"
   ]
  },
  {
   "cell_type": "code",
   "execution_count": 47,
   "id": "6018344c-7e45-4087-81b1-52c93d9311cc",
   "metadata": {},
   "outputs": [
    {
     "data": {
      "text/plain": [
       "array([[0, 0, 0],\n",
       "       [0, 0, 0],\n",
       "       [0, 0, 0]])"
      ]
     },
     "execution_count": 47,
     "metadata": {},
     "output_type": "execute_result"
    }
   ],
   "source": [
    "np.zeros((3,3),dtype=int)"
   ]
  },
  {
   "cell_type": "code",
   "execution_count": 51,
   "id": "017488be-245c-4817-96d3-855ce158b314",
   "metadata": {},
   "outputs": [
    {
     "data": {
      "text/plain": [
       "array([[0, 0, 0, 0, 0, 0, 0, 0, 0],\n",
       "       [0, 0, 0, 0, 0, 0, 0, 0, 0],\n",
       "       [0, 0, 0, 0, 0, 0, 0, 0, 0],\n",
       "       [0, 0, 0, 0, 0, 0, 0, 0, 0],\n",
       "       [0, 0, 0, 0, 0, 0, 0, 0, 0]])"
      ]
     },
     "execution_count": 51,
     "metadata": {},
     "output_type": "execute_result"
    }
   ],
   "source": [
    "#Syntax-> np.zeros((row,column))\n",
    "nd=np.zeros((5,9),dtype=int)\n",
    "nd"
   ]
  },
  {
   "cell_type": "code",
   "execution_count": null,
   "id": "6bba50b6-5c86-45b2-bc2a-f03d412876b8",
   "metadata": {},
   "outputs": [],
   "source": [
    "#### np.ones(rows x xolumns)\n",
    "###### np.ones()- creates an array with all ones."
   ]
  },
  {
   "cell_type": "code",
   "execution_count": 53,
   "id": "17050499-db74-4e0b-99a6-637bdede503f",
   "metadata": {},
   "outputs": [
    {
     "data": {
      "text/plain": [
       "array([1., 1., 1.])"
      ]
     },
     "execution_count": 53,
     "metadata": {},
     "output_type": "execute_result"
    }
   ],
   "source": [
    "np.ones(3)# created an array with all ones "
   ]
  },
  {
   "cell_type": "code",
   "execution_count": 55,
   "id": "fe525595-2b66-4237-a04c-28cff62a97da",
   "metadata": {},
   "outputs": [
    {
     "data": {
      "text/plain": [
       "array([1, 1, 1])"
      ]
     },
     "execution_count": 55,
     "metadata": {},
     "output_type": "execute_result"
    }
   ],
   "source": [
    "np.ones(3,dtype=int)"
   ]
  },
  {
   "cell_type": "code",
   "execution_count": 61,
   "id": "dfaff4b2-053d-4f11-a33f-ff719be96990",
   "metadata": {},
   "outputs": [
    {
     "data": {
      "text/plain": [
       "array([[1, 1, 1, 1, 1, 1, 1, 1, 1, 1],\n",
       "       [1, 1, 1, 1, 1, 1, 1, 1, 1, 1],\n",
       "       [1, 1, 1, 1, 1, 1, 1, 1, 1, 1],\n",
       "       [1, 1, 1, 1, 1, 1, 1, 1, 1, 1],\n",
       "       [1, 1, 1, 1, 1, 1, 1, 1, 1, 1],\n",
       "       [1, 1, 1, 1, 1, 1, 1, 1, 1, 1],\n",
       "       [1, 1, 1, 1, 1, 1, 1, 1, 1, 1],\n",
       "       [1, 1, 1, 1, 1, 1, 1, 1, 1, 1],\n",
       "       [1, 1, 1, 1, 1, 1, 1, 1, 1, 1],\n",
       "       [1, 1, 1, 1, 1, 1, 1, 1, 1, 1]])"
      ]
     },
     "execution_count": 61,
     "metadata": {},
     "output_type": "execute_result"
    }
   ],
   "source": [
    "nd1=np.ones((10,10),dtype=int)\n",
    "nd1"
   ]
  },
  {
   "cell_type": "code",
   "execution_count": 296,
   "id": "2de61bb1-3067-454b-aadf-e3feb430c200",
   "metadata": {},
   "outputs": [
    {
     "data": {
      "text/plain": [
       "array([[1., 0., 0., 0.],\n",
       "       [0., 1., 0., 0.],\n",
       "       [0., 0., 1., 0.],\n",
       "       [0., 0., 0., 1.]])"
      ]
     },
     "execution_count": 296,
     "metadata": {},
     "output_type": "execute_result"
    }
   ],
   "source": [
    "#Create an identity matrix.\n",
    "np.eye(4)"
   ]
  },
  {
   "cell_type": "code",
   "execution_count": 298,
   "id": "7f3d8787-7ec3-4253-9159-7e86e0ee418e",
   "metadata": {},
   "outputs": [
    {
     "data": {
      "text/plain": [
       "array([[1, 0, 0, 0, 0],\n",
       "       [0, 1, 0, 0, 0],\n",
       "       [0, 0, 1, 0, 0],\n",
       "       [0, 0, 0, 1, 0],\n",
       "       [0, 0, 0, 0, 1]])"
      ]
     },
     "execution_count": 298,
     "metadata": {},
     "output_type": "execute_result"
    }
   ],
   "source": [
    "np.eye(5,dtype=int)"
   ]
  },
  {
   "cell_type": "markdown",
   "id": "3a412136-5772-4aca-abbc-320668f14fd7",
   "metadata": {},
   "source": [
    "# Array Manipulation Functions."
   ]
  },
  {
   "cell_type": "code",
   "execution_count": 301,
   "id": "56263c6b-0d7a-4e01-9636-62368cae2071",
   "metadata": {},
   "outputs": [
    {
     "name": "stdout",
     "output_type": "stream",
     "text": [
      "[1 2 3 4]\n",
      "[[1]\n",
      " [2]\n",
      " [3]\n",
      " [4]]\n"
     ]
    }
   ],
   "source": [
    "# Reshape an array\n",
    "a1=np.array([1,2,3,4])\n",
    "print(a1)\n",
    "a1=a1.reshape(4,1)\n",
    "print(a1)"
   ]
  },
  {
   "cell_type": "code",
   "execution_count": 303,
   "id": "ced434ff-da66-440e-a7f5-3ce47a3cf7ed",
   "metadata": {},
   "outputs": [
    {
     "data": {
      "text/plain": [
       "array([1, 2, 3, 4, 5, 6])"
      ]
     },
     "execution_count": 303,
     "metadata": {},
     "output_type": "execute_result"
    }
   ],
   "source": [
    "#Flaten an array -> convert multidimensional array to 1D array\n",
    "f=np.array([[1,2,3],[4,5,6]])\n",
    "f=f.ravel()\n",
    "f"
   ]
  },
  {
   "cell_type": "code",
   "execution_count": 305,
   "id": "3902438c-158a-45d2-a50c-2703e07f3c40",
   "metadata": {},
   "outputs": [
    {
     "data": {
      "text/plain": [
       "array([[1, 3],\n",
       "       [2, 4]])"
      ]
     },
     "execution_count": 305,
     "metadata": {},
     "output_type": "execute_result"
    }
   ],
   "source": [
    "#Transpose an array -> it converts rows to column and columns to rows.\n",
    "t1=np.array([[1,2],[3,4]])\n",
    "transposed1=t1.transpose()\n",
    "transposed1"
   ]
  },
  {
   "cell_type": "code",
   "execution_count": 307,
   "id": "95fcb6ef-cbfe-437e-81c8-822117f9ffec",
   "metadata": {},
   "outputs": [
    {
     "name": "stdout",
     "output_type": "stream",
     "text": [
      "[[1 2]\n",
      " [3 4]]\n"
     ]
    }
   ],
   "source": [
    "a2=np.array([1,2])\n",
    "b2=np.array([3,4])\n",
    "stacked=np.vstack([a2,b2])\n",
    "print(stacked)"
   ]
  },
  {
   "cell_type": "markdown",
   "id": "c826d577-4fbf-421b-a6f4-1df62ec45803",
   "metadata": {},
   "source": [
    "# Mathemetical Function"
   ]
  },
  {
   "cell_type": "code",
   "execution_count": 310,
   "id": "f81a612f-27a0-4ec1-ab33-871e54ba302a",
   "metadata": {},
   "outputs": [
    {
     "name": "stdout",
     "output_type": "stream",
     "text": [
      "[3 4 5 6]\n"
     ]
    }
   ],
   "source": [
    "#Adding a value to each element.\n",
    "arr=np.array([1,2,3,4])\n",
    "added=np.add(arr,2) # adding 2 to each element\n",
    "print(added)"
   ]
  },
  {
   "cell_type": "code",
   "execution_count": 312,
   "id": "2a3e706b-519e-41f7-9966-ddece74a7591",
   "metadata": {},
   "outputs": [
    {
     "name": "stdout",
     "output_type": "stream",
     "text": [
      "[1 2 3 4]\n",
      "[ 1  4  9 16]\n"
     ]
    }
   ],
   "source": [
    "#Squre each element of the array.\n",
    "print(arr)\n",
    "sqrd=np.power(arr,2) # it give the power of each element of the array\n",
    "print(sqrd)"
   ]
  },
  {
   "cell_type": "code",
   "execution_count": 314,
   "id": "bedaa33c-8153-463e-805c-c1037fd56557",
   "metadata": {},
   "outputs": [
    {
     "name": "stdout",
     "output_type": "stream",
     "text": [
      "[ 1  4  9 16]\n",
      "[1. 2. 3. 4.]\n"
     ]
    }
   ],
   "source": [
    "#Squre root of each element of the array. -> it return the root values in float type\n",
    "print(sqrd)\n",
    "sqrt_val=np.sqrt(sqrd)\n",
    "print(sqrt_val)"
   ]
  },
  {
   "cell_type": "code",
   "execution_count": 316,
   "id": "41436c1e-65f4-4617-a931-2f6f7753206c",
   "metadata": {},
   "outputs": [
    {
     "name": "stdout",
     "output_type": "stream",
     "text": [
      "[1 2 3 4]\n",
      "[ 1  4  9 16]\n",
      "100\n"
     ]
    }
   ],
   "source": [
    "#Dot product of two array\n",
    "print(arr)\n",
    "print(sqrd)\n",
    "product=np.dot(arr,sqrd)\n",
    "print(product)"
   ]
  },
  {
   "cell_type": "markdown",
   "id": "7d51124f-e285-4a82-ac50-4cc8cabed59c",
   "metadata": {},
   "source": [
    "# Random"
   ]
  },
  {
   "cell_type": "code",
   "execution_count": 19,
   "id": "c0ff6963-0835-4b6f-be8a-6f1509f555fc",
   "metadata": {},
   "outputs": [
    {
     "data": {
      "text/plain": [
       "array([[0.47114531, 0.15197511],\n",
       "       [0.06032196, 0.75615147],\n",
       "       [0.35749789, 0.2026877 ]])"
      ]
     },
     "execution_count": 19,
     "metadata": {},
     "output_type": "execute_result"
    }
   ],
   "source": [
    "randnum=np.random.rand(3,2)\n",
    "randnum\n"
   ]
  },
  {
   "cell_type": "code",
   "execution_count": 19,
   "id": "7d89b4ea-d43c-462b-889f-e80a16e1405c",
   "metadata": {},
   "outputs": [
    {
     "data": {
      "text/plain": [
       "array([[0.47114531, 0.15197511],\n",
       "       [0.06032196, 0.75615147],\n",
       "       [0.35749789, 0.2026877 ]])"
      ]
     },
     "execution_count": 19,
     "metadata": {},
     "output_type": "execute_result"
    }
   ],
   "source": [
    "randnum=np.random.rand(3,2)\n",
    "randnum\n"
   ]
  },
  {
   "cell_type": "code",
   "execution_count": 17,
   "id": "42f99319-adee-4b61-8314-74d465a15cd6",
   "metadata": {},
   "outputs": [
    {
     "name": "stdout",
     "output_type": "stream",
     "text": [
      "[0.79510524 0.71929777]\n",
      "[0.66068056 0.49468095]\n",
      "[0.99734952 0.83701034]\n"
     ]
    }
   ],
   "source": [
    "randnum=np.random.rand(2)\n",
    "print(randnum)\n",
    "randnum=np.random.rand(2)\n",
    "print(randnum)\n",
    "\n",
    "randnum=np.random.rand(2)\n",
    "print(randnum)\n"
   ]
  },
  {
   "cell_type": "code",
   "execution_count": 31,
   "id": "1c01a408-ae20-41cd-8b91-126a5c4771ac",
   "metadata": {},
   "outputs": [
    {
     "data": {
      "text/plain": [
       "2"
      ]
     },
     "execution_count": 31,
     "metadata": {},
     "output_type": "execute_result"
    }
   ],
   "source": [
    "np.random.randint(3)"
   ]
  },
  {
   "cell_type": "code",
   "execution_count": 33,
   "id": "6cb87af8-3052-410c-873c-78b2b905c608",
   "metadata": {},
   "outputs": [
    {
     "data": {
      "text/plain": [
       "5"
      ]
     },
     "execution_count": 33,
     "metadata": {},
     "output_type": "execute_result"
    }
   ],
   "source": [
    "np.random.randint(2,10)"
   ]
  },
  {
   "cell_type": "code",
   "execution_count": 35,
   "id": "273993e4-ad8c-4ee2-a299-db34c393054f",
   "metadata": {},
   "outputs": [
    {
     "data": {
      "text/plain": [
       "array([8, 6, 5])"
      ]
     },
     "execution_count": 35,
     "metadata": {},
     "output_type": "execute_result"
    }
   ],
   "source": [
    "np.random.randint(2,10,3)"
   ]
  },
  {
   "cell_type": "code",
   "execution_count": 37,
   "id": "f85a6ec5-3c45-4ab9-b0b2-332510394080",
   "metadata": {},
   "outputs": [
    {
     "data": {
      "text/plain": [
       "array([-21, -29, -30, -24, -16, -20, -18, -16,   9,   9])"
      ]
     },
     "execution_count": 37,
     "metadata": {},
     "output_type": "execute_result"
    }
   ],
   "source": [
    "np.random.randint(-30,10,10)"
   ]
  },
  {
   "cell_type": "code",
   "execution_count": 39,
   "id": "358646b1-194b-41dd-963f-e3b867942dc4",
   "metadata": {},
   "outputs": [
    {
     "data": {
      "text/plain": [
       "array([[35, 32, 23, 19, 32, 18, 11, 34, 10, 23],\n",
       "       [11, 20, 27, 16, 13, 31, 38, 30, 23, 12],\n",
       "       [19, 31, 33, 30, 20, 16, 21, 38, 15, 26],\n",
       "       [15, 31, 19, 12, 27, 32, 25, 10, 23, 15],\n",
       "       [12, 39, 29, 25, 13, 30, 24, 18, 31, 25],\n",
       "       [10, 24, 23, 14, 37, 18, 38, 28, 12, 39],\n",
       "       [29, 37, 34, 34, 25, 37, 20, 39, 13, 35],\n",
       "       [14, 32, 33, 12, 10, 19, 22, 19, 33, 37],\n",
       "       [20, 34, 14, 17, 18, 16, 18, 36, 15, 18],\n",
       "       [27, 28, 18, 13, 25, 14, 12, 35, 11, 26]])"
      ]
     },
     "execution_count": 39,
     "metadata": {},
     "output_type": "execute_result"
    }
   ],
   "source": [
    "np.random.randint(10,40,(10,10))"
   ]
  },
  {
   "cell_type": "code",
   "execution_count": 45,
   "id": "be8b78db-ebec-4770-aed0-8eab94beeb62",
   "metadata": {},
   "outputs": [
    {
     "data": {
      "text/plain": [
       "array([[11, 18, 16, 10, 20, 26, 23, 30, 16, 39],\n",
       "       [12, 37, 21, 20, 32, 32, 23, 14, 11, 35],\n",
       "       [19, 36, 28, 39, 18, 24, 17, 35, 34, 31],\n",
       "       [12, 28, 10, 12, 28, 32, 10, 26, 10, 35],\n",
       "       [29, 31, 29, 23, 16, 32, 34, 17, 26, 37],\n",
       "       [32, 10, 21, 38, 18, 16, 30, 22, 38, 32],\n",
       "       [16, 16, 16, 27, 28, 13, 29, 12, 35, 24],\n",
       "       [26, 32, 31, 25, 22, 39, 22, 38, 38, 15],\n",
       "       [30, 11, 22, 12, 21, 34, 26, 13, 11, 28],\n",
       "       [13, 26, 28, 18, 35, 21, 31, 21, 30, 19]])"
      ]
     },
     "execution_count": 45,
     "metadata": {},
     "output_type": "execute_result"
    }
   ],
   "source": [
    "m=np.random.randint(10,40,(10,10))\n",
    "m"
   ]
  },
  {
   "cell_type": "code",
   "execution_count": 45,
   "id": "d72de588-eb0d-40aa-8f12-ba079dcb331c",
   "metadata": {},
   "outputs": [
    {
     "data": {
      "text/plain": [
       "array([[11, 18, 16, 10, 20, 26, 23, 30, 16, 39],\n",
       "       [12, 37, 21, 20, 32, 32, 23, 14, 11, 35],\n",
       "       [19, 36, 28, 39, 18, 24, 17, 35, 34, 31],\n",
       "       [12, 28, 10, 12, 28, 32, 10, 26, 10, 35],\n",
       "       [29, 31, 29, 23, 16, 32, 34, 17, 26, 37],\n",
       "       [32, 10, 21, 38, 18, 16, 30, 22, 38, 32],\n",
       "       [16, 16, 16, 27, 28, 13, 29, 12, 35, 24],\n",
       "       [26, 32, 31, 25, 22, 39, 22, 38, 38, 15],\n",
       "       [30, 11, 22, 12, 21, 34, 26, 13, 11, 28],\n",
       "       [13, 26, 28, 18, 35, 21, 31, 21, 30, 19]])"
      ]
     },
     "execution_count": 45,
     "metadata": {},
     "output_type": "execute_result"
    }
   ],
   "source": [
    "m=np.random.randint(10,40,(10,10))\n",
    "m"
   ]
  },
  {
   "cell_type": "code",
   "execution_count": 55,
   "id": "f2f5b909-1f35-4c4f-a307-dfab9687a5b5",
   "metadata": {},
   "outputs": [
    {
     "data": {
      "text/plain": [
       "array([0, 1, 2, 3, 4, 5])"
      ]
     },
     "execution_count": 55,
     "metadata": {},
     "output_type": "execute_result"
    }
   ],
   "source": [
    "arr"
   ]
  },
  {
   "cell_type": "code",
   "execution_count": 59,
   "id": "4d60fb19-2199-4d2c-a913-de783451d2bc",
   "metadata": {},
   "outputs": [
    {
     "data": {
      "text/plain": [
       "array([[0, 1, 2],\n",
       "       [3, 4, 5]])"
      ]
     },
     "execution_count": 59,
     "metadata": {},
     "output_type": "execute_result"
    }
   ],
   "source": [
    "arr.reshape(2,3)"
   ]
  },
  {
   "cell_type": "code",
   "execution_count": 61,
   "id": "69f515c2-5aec-400e-9cc9-cf0e3eaf4e16",
   "metadata": {},
   "outputs": [
    {
     "ename": "ValueError",
     "evalue": "cannot reshape array of size 6 into shape (3,3)",
     "output_type": "error",
     "traceback": [
      "\u001b[1;31m---------------------------------------------------------------------------\u001b[0m",
      "\u001b[1;31mValueError\u001b[0m                                Traceback (most recent call last)",
      "Cell \u001b[1;32mIn[61], line 1\u001b[0m\n\u001b[1;32m----> 1\u001b[0m arr\u001b[38;5;241m.\u001b[39mreshape(\u001b[38;5;241m3\u001b[39m,\u001b[38;5;241m3\u001b[39m)\n",
      "\u001b[1;31mValueError\u001b[0m: cannot reshape array of size 6 into shape (3,3)"
     ]
    }
   ],
   "source": [
    "arr.reshape(3,3)"
   ]
  },
  {
   "cell_type": "code",
   "execution_count": 63,
   "id": "4495069d-1a2b-415e-80d0-959c187b9e64",
   "metadata": {},
   "outputs": [
    {
     "data": {
      "text/plain": [
       "array([[0],\n",
       "       [1],\n",
       "       [2],\n",
       "       [3],\n",
       "       [4],\n",
       "       [5]])"
      ]
     },
     "execution_count": 63,
     "metadata": {},
     "output_type": "execute_result"
    }
   ],
   "source": [
    "arr.reshape(6,1)"
   ]
  },
  {
   "cell_type": "code",
   "execution_count": 65,
   "id": "b00c2bc0-d20e-4aa0-93ac-5fd8007b9645",
   "metadata": {},
   "outputs": [
    {
     "data": {
      "text/plain": [
       "array([[0, 1, 2, 3, 4, 5]])"
      ]
     },
     "execution_count": 65,
     "metadata": {},
     "output_type": "execute_result"
    }
   ],
   "source": [
    "arr.reshape(1,6)"
   ]
  },
  {
   "cell_type": "code",
   "execution_count": 110,
   "id": "d5b38046-c3bc-40fb-ba2b-77336c1a7b25",
   "metadata": {},
   "outputs": [
    {
     "data": {
      "text/plain": [
       "array([[ 1],\n",
       "       [ 2],\n",
       "       [ 3],\n",
       "       [ 4],\n",
       "       [ 5],\n",
       "       [ 6],\n",
       "       [ 7],\n",
       "       [ 8],\n",
       "       [ 9],\n",
       "       [10],\n",
       "       [11],\n",
       "       [12]])"
      ]
     },
     "execution_count": 110,
     "metadata": {},
     "output_type": "execute_result"
    }
   ],
   "source": [
    "np.arange(1,13).reshape(12,1)"
   ]
  },
  {
   "cell_type": "markdown",
   "id": "34d16727-631b-4827-a76d-2c6487b3d703",
   "metadata": {},
   "source": [
    "# Slicing in matriix"
   ]
  },
  {
   "cell_type": "code",
   "execution_count": 68,
   "id": "672693e8-6a98-4d69-9dcc-2f91616b87a9",
   "metadata": {},
   "outputs": [
    {
     "data": {
      "text/plain": [
       "array([[11, 18, 16, 10, 20, 26, 23, 30, 16, 39],\n",
       "       [12, 37, 21, 20, 32, 32, 23, 14, 11, 35],\n",
       "       [19, 36, 28, 39, 18, 24, 17, 35, 34, 31],\n",
       "       [12, 28, 10, 12, 28, 32, 10, 26, 10, 35],\n",
       "       [29, 31, 29, 23, 16, 32, 34, 17, 26, 37],\n",
       "       [32, 10, 21, 38, 18, 16, 30, 22, 38, 32],\n",
       "       [16, 16, 16, 27, 28, 13, 29, 12, 35, 24],\n",
       "       [26, 32, 31, 25, 22, 39, 22, 38, 38, 15],\n",
       "       [30, 11, 22, 12, 21, 34, 26, 13, 11, 28],\n",
       "       [13, 26, 28, 18, 35, 21, 31, 21, 30, 19]])"
      ]
     },
     "execution_count": 68,
     "metadata": {},
     "output_type": "execute_result"
    }
   ],
   "source": [
    "m"
   ]
  },
  {
   "cell_type": "code",
   "execution_count": 70,
   "id": "e4c1b439-4453-4da3-bfcb-33255ed0c07b",
   "metadata": {},
   "outputs": [
    {
     "data": {
      "text/plain": [
       "array([[18, 18, 12, 19],\n",
       "       [18, 12, 15, 11],\n",
       "       [18, 16, 16, 18],\n",
       "       [18, 10, 17, 12],\n",
       "       [14, 15, 11, 14]])"
      ]
     },
     "execution_count": 70,
     "metadata": {},
     "output_type": "execute_result"
    }
   ],
   "source": [
    "b=np.random.randint(10,20,(5,4))\n",
    "b"
   ]
  },
  {
   "cell_type": "code",
   "execution_count": 72,
   "id": "725faae6-9787-481c-8c31-0a90d5279107",
   "metadata": {},
   "outputs": [
    {
     "data": {
      "text/plain": [
       "array([[18, 18, 12, 19],\n",
       "       [18, 12, 15, 11],\n",
       "       [18, 16, 16, 18],\n",
       "       [18, 10, 17, 12],\n",
       "       [14, 15, 11, 14]])"
      ]
     },
     "execution_count": 72,
     "metadata": {},
     "output_type": "execute_result"
    }
   ],
   "source": [
    "b[:]"
   ]
  },
  {
   "cell_type": "code",
   "execution_count": 74,
   "id": "e207b86c-af1a-4134-8c5f-ceb003de7a82",
   "metadata": {},
   "outputs": [
    {
     "data": {
      "text/plain": [
       "array([[18, 12, 15, 11],\n",
       "       [18, 16, 16, 18],\n",
       "       [18, 10, 17, 12]])"
      ]
     },
     "execution_count": 74,
     "metadata": {},
     "output_type": "execute_result"
    }
   ],
   "source": [
    "b[1:4]"
   ]
  },
  {
   "cell_type": "code",
   "execution_count": 76,
   "id": "d1dfdf1b-8730-4331-aeea-fc33d1c96e90",
   "metadata": {},
   "outputs": [
    {
     "data": {
      "text/plain": [
       "array([[14, 15, 11, 14]])"
      ]
     },
     "execution_count": 76,
     "metadata": {},
     "output_type": "execute_result"
    }
   ],
   "source": [
    "b[-1:]"
   ]
  },
  {
   "cell_type": "code",
   "execution_count": 78,
   "id": "abd61324-1686-4c22-afc5-4acb9f1eeeff",
   "metadata": {},
   "outputs": [
    {
     "data": {
      "text/plain": [
       "array([[18, 18, 12, 19],\n",
       "       [18, 12, 15, 11],\n",
       "       [18, 16, 16, 18],\n",
       "       [18, 10, 17, 12]])"
      ]
     },
     "execution_count": 78,
     "metadata": {},
     "output_type": "execute_result"
    }
   ],
   "source": [
    "b[:-1]"
   ]
  },
  {
   "cell_type": "code",
   "execution_count": 80,
   "id": "45fcfc73-3db3-40cd-94df-f25c22d65a3b",
   "metadata": {},
   "outputs": [
    {
     "data": {
      "text/plain": [
       "array([[18, 10, 17, 12],\n",
       "       [14, 15, 11, 14]])"
      ]
     },
     "execution_count": 80,
     "metadata": {},
     "output_type": "execute_result"
    }
   ],
   "source": [
    "b[-2:]"
   ]
  },
  {
   "cell_type": "code",
   "execution_count": 82,
   "id": "8adc9b5f-4b80-45db-9c0f-be4773ba7f2e",
   "metadata": {},
   "outputs": [
    {
     "data": {
      "text/plain": [
       "11"
      ]
     },
     "execution_count": 82,
     "metadata": {},
     "output_type": "execute_result"
    }
   ],
   "source": [
    "b[1,3]"
   ]
  },
  {
   "cell_type": "code",
   "execution_count": 84,
   "id": "46dd0564-1d51-4510-b614-3b72da869d82",
   "metadata": {},
   "outputs": [
    {
     "data": {
      "text/plain": [
       "11"
      ]
     },
     "execution_count": 84,
     "metadata": {},
     "output_type": "execute_result"
    }
   ],
   "source": [
    "b[1,-1]"
   ]
  },
  {
   "cell_type": "code",
   "execution_count": 112,
   "id": "dad29742-add3-4fbf-bbb9-879b00648c99",
   "metadata": {},
   "outputs": [
    {
     "data": {
      "text/plain": [
       "12"
      ]
     },
     "execution_count": 112,
     "metadata": {},
     "output_type": "execute_result"
    }
   ],
   "source": [
    "b[0,2]"
   ]
  },
  {
   "cell_type": "code",
   "execution_count": 114,
   "id": "0ddcacab-0853-48bb-b8af-d57309c29354",
   "metadata": {},
   "outputs": [
    {
     "data": {
      "text/plain": [
       "18"
      ]
     },
     "execution_count": 114,
     "metadata": {},
     "output_type": "execute_result"
    }
   ],
   "source": [
    "b[-5,-3]"
   ]
  },
  {
   "cell_type": "code",
   "execution_count": null,
   "id": "9a865c57-3faa-404f-aa00-a65b4baee156",
   "metadata": {},
   "outputs": [],
   "source": []
  },
  {
   "cell_type": "markdown",
   "id": "917449fd-73ac-4aec-8f07-0e1311c1a9bb",
   "metadata": {},
   "source": [
    "# NumPy Operatioins"
   ]
  },
  {
   "cell_type": "code",
   "execution_count": 87,
   "id": "d251ecba-b0cf-4aa8-bc33-ff8b9ab3a02c",
   "metadata": {},
   "outputs": [],
   "source": [
    "\n",
    "#indexing\n"
   ]
  },
  {
   "cell_type": "code",
   "execution_count": 89,
   "id": "05071e07-1377-42f8-968c-d48562d6d0fc",
   "metadata": {},
   "outputs": [
    {
     "data": {
      "text/plain": [
       "array([[11, 18, 16, 10, 20, 26, 23, 30, 16, 39],\n",
       "       [12, 37, 21, 20, 32, 32, 23, 14, 11, 35],\n",
       "       [19, 36, 28, 39, 18, 24, 17, 35, 34, 31],\n",
       "       [12, 28, 10, 12, 28, 32, 10, 26, 10, 35],\n",
       "       [29, 31, 29, 23, 16, 32, 34, 17, 26, 37],\n",
       "       [32, 10, 21, 38, 18, 16, 30, 22, 38, 32],\n",
       "       [16, 16, 16, 27, 28, 13, 29, 12, 35, 24],\n",
       "       [26, 32, 31, 25, 22, 39, 22, 38, 38, 15],\n",
       "       [30, 11, 22, 12, 21, 34, 26, 13, 11, 28],\n",
       "       [13, 26, 28, 18, 35, 21, 31, 21, 30, 19]])"
      ]
     },
     "execution_count": 89,
     "metadata": {},
     "output_type": "execute_result"
    }
   ],
   "source": [
    "m"
   ]
  },
  {
   "cell_type": "code",
   "execution_count": 116,
   "id": "85a9ed6c-8da6-4b5d-944b-43e346358a22",
   "metadata": {},
   "outputs": [
    {
     "data": {
      "text/plain": [
       "1707839010736"
      ]
     },
     "execution_count": 116,
     "metadata": {},
     "output_type": "execute_result"
    }
   ],
   "source": [
    "id(m)"
   ]
  },
  {
   "cell_type": "code",
   "execution_count": 91,
   "id": "1b1118f9-2a80-494d-82f6-a210881d0aa7",
   "metadata": {},
   "outputs": [
    {
     "data": {
      "text/plain": [
       "32"
      ]
     },
     "execution_count": 91,
     "metadata": {},
     "output_type": "execute_result"
    }
   ],
   "source": [
    "m[1,5]"
   ]
  },
  {
   "cell_type": "code",
   "execution_count": 118,
   "id": "c35ee8e5-5876-4419-9569-af664cd01375",
   "metadata": {},
   "outputs": [
    {
     "data": {
      "text/plain": [
       "array([[11, 18, 16, 10, 20, 26, 23, 30, 16, 39],\n",
       "       [12, 37, 21, 20, 32, 32, 23, 14, 11, 35],\n",
       "       [19, 36, 28, 39, 18, 24, 17, 35, 34, 31],\n",
       "       [12, 28, 10, 12, 28, 32, 10, 26, 10, 35],\n",
       "       [29, 31, 29, 23, 16, 32, 34, 17, 26, 37],\n",
       "       [32, 10, 21, 38, 18, 16, 30, 22, 38, 32],\n",
       "       [16, 16, 16, 27, 28, 13, 29, 12, 35, 24],\n",
       "       [26, 32, 31, 25, 22, 39, 22, 38, 38, 15],\n",
       "       [30, 11, 22, 12, 21, 34, 26, 13, 11, 28],\n",
       "       [13, 26, 28, 18, 35, 21, 31, 21, 30, 19]])"
      ]
     },
     "execution_count": 118,
     "metadata": {},
     "output_type": "execute_result"
    }
   ],
   "source": [
    "m[:]"
   ]
  },
  {
   "cell_type": "code",
   "execution_count": 120,
   "id": "1500e791-3ab4-4d8c-8487-c457191fc216",
   "metadata": {},
   "outputs": [
    {
     "data": {
      "text/plain": [
       "array([[11, 18, 16, 10, 20, 26, 23, 30, 16, 39],\n",
       "       [12, 37, 21, 20, 32, 32, 23, 14, 11, 35],\n",
       "       [19, 36, 28, 39, 18, 24, 17, 35, 34, 31],\n",
       "       [12, 28, 10, 12, 28, 32, 10, 26, 10, 35]])"
      ]
     },
     "execution_count": 120,
     "metadata": {},
     "output_type": "execute_result"
    }
   ],
   "source": [
    "m[:4]"
   ]
  },
  {
   "cell_type": "code",
   "execution_count": 122,
   "id": "9f897749-9fa2-4b52-85c6-6515ddd96d78",
   "metadata": {},
   "outputs": [
    {
     "data": {
      "text/plain": [
       "array([[11, 18, 16, 10, 20, 26, 23, 30, 16, 39],\n",
       "       [12, 37, 21, 20, 32, 32, 23, 14, 11, 35],\n",
       "       [19, 36, 28, 39, 18, 24, 17, 35, 34, 31],\n",
       "       [12, 28, 10, 12, 28, 32, 10, 26, 10, 35],\n",
       "       [29, 31, 29, 23, 16, 32, 34, 17, 26, 37]])"
      ]
     },
     "execution_count": 122,
     "metadata": {},
     "output_type": "execute_result"
    }
   ],
   "source": [
    "m[0:5]"
   ]
  },
  {
   "cell_type": "code",
   "execution_count": 124,
   "id": "cd1a7a10-2abb-4c63-bc9d-79f6bc475fe4",
   "metadata": {},
   "outputs": [
    {
     "data": {
      "text/plain": [
       "array([[13, 26, 28, 18, 35, 21, 31, 21, 30, 19]])"
      ]
     },
     "execution_count": 124,
     "metadata": {},
     "output_type": "execute_result"
    }
   ],
   "source": [
    "m[-1:]"
   ]
  },
  {
   "cell_type": "code",
   "execution_count": 126,
   "id": "203dfad5-9043-4f07-af6a-63be63016777",
   "metadata": {},
   "outputs": [
    {
     "data": {
      "text/plain": [
       "array([[11, 18, 16, 10, 20, 26, 23, 30, 16, 39],\n",
       "       [12, 37, 21, 20, 32, 32, 23, 14, 11, 35],\n",
       "       [19, 36, 28, 39, 18, 24, 17, 35, 34, 31],\n",
       "       [12, 28, 10, 12, 28, 32, 10, 26, 10, 35],\n",
       "       [29, 31, 29, 23, 16, 32, 34, 17, 26, 37],\n",
       "       [32, 10, 21, 38, 18, 16, 30, 22, 38, 32],\n",
       "       [16, 16, 16, 27, 28, 13, 29, 12, 35, 24],\n",
       "       [26, 32, 31, 25, 22, 39, 22, 38, 38, 15],\n",
       "       [30, 11, 22, 12, 21, 34, 26, 13, 11, 28]])"
      ]
     },
     "execution_count": 126,
     "metadata": {},
     "output_type": "execute_result"
    }
   ],
   "source": [
    "m[:-1]"
   ]
  },
  {
   "cell_type": "code",
   "execution_count": 140,
   "id": "c9c7001b-5c5b-4cd5-8333-8e17b2a57419",
   "metadata": {},
   "outputs": [
    {
     "data": {
      "text/plain": [
       "array([[16, 16, 16, 27, 28, 13, 29, 12, 35, 24],\n",
       "       [26, 32, 31, 25, 22, 39, 22, 38, 38, 15],\n",
       "       [30, 11, 22, 12, 21, 34, 26, 13, 11, 28],\n",
       "       [13, 26, 28, 18, 35, 21, 31, 21, 30, 19]])"
      ]
     },
     "execution_count": 140,
     "metadata": {},
     "output_type": "execute_result"
    }
   ],
   "source": [
    "m[-4:]"
   ]
  },
  {
   "cell_type": "code",
   "execution_count": 142,
   "id": "f66f16a6-a462-487b-9059-f25b3b886a2a",
   "metadata": {},
   "outputs": [
    {
     "data": {
      "text/plain": [
       "array([[13, 26, 28, 18, 35, 21, 31, 21, 30, 19],\n",
       "       [30, 11, 22, 12, 21, 34, 26, 13, 11, 28],\n",
       "       [26, 32, 31, 25, 22, 39, 22, 38, 38, 15],\n",
       "       [16, 16, 16, 27, 28, 13, 29, 12, 35, 24],\n",
       "       [32, 10, 21, 38, 18, 16, 30, 22, 38, 32],\n",
       "       [29, 31, 29, 23, 16, 32, 34, 17, 26, 37],\n",
       "       [12, 28, 10, 12, 28, 32, 10, 26, 10, 35],\n",
       "       [19, 36, 28, 39, 18, 24, 17, 35, 34, 31],\n",
       "       [12, 37, 21, 20, 32, 32, 23, 14, 11, 35],\n",
       "       [11, 18, 16, 10, 20, 26, 23, 30, 16, 39]])"
      ]
     },
     "execution_count": 142,
     "metadata": {},
     "output_type": "execute_result"
    }
   ],
   "source": [
    "m[::-1]"
   ]
  },
  {
   "cell_type": "code",
   "execution_count": 158,
   "id": "cd296d65-caca-437f-a0aa-79c5adf49b5a",
   "metadata": {},
   "outputs": [
    {
     "name": "stdout",
     "output_type": "stream",
     "text": [
      "[ 6  8 10 12]\n",
      "[3 4 5 6]\n"
     ]
    }
   ],
   "source": [
    "#Add operation->add values to the elements of the array\n",
    "\n",
    "arr1=np.array([1,2,3,4])\n",
    "arr2=np.array([5,6,7,8])\n",
    "added=np.add(arr1,arr2)\n",
    "print(added)\n",
    "\n",
    "arr1=np.add(arr1,2)  #-> add 2 to the each element of the array\n",
    "print(arr1)"
   ]
  },
  {
   "cell_type": "code",
   "execution_count": 168,
   "id": "0413b616-96e9-4335-8367-298605cf5321",
   "metadata": {},
   "outputs": [
    {
     "name": "stdout",
     "output_type": "stream",
     "text": [
      "[3 4 5 6]\n",
      "[5 6 7 8]\n",
      "[-2 -2 -2 -2]\n",
      "[1 2 3 4]\n"
     ]
    }
   ],
   "source": [
    "#Substract operation-> substract values from each element of the array\n",
    "print(arr1)\n",
    "print(arr2)\n",
    "sub=np.subtract(arr1,arr2)\n",
    "print(sub)\n",
    "\n",
    "print(np.subtract(arr1,2)) # it subtract 2 from each element of the array.\n"
   ]
  },
  {
   "cell_type": "code",
   "execution_count": 172,
   "id": "bbac56a9-896a-4f31-9f17-c013889e1d68",
   "metadata": {},
   "outputs": [
    {
     "name": "stdout",
     "output_type": "stream",
     "text": [
      "[3 4 5 6]\n",
      "[5 6 7 8]\n",
      "[15 24 35 48]\n",
      "[ 6  8 10 12]\n"
     ]
    }
   ],
   "source": [
    "#Multiply -> it multiply each element of the array with a number\n",
    "print(arr1)\n",
    "print(arr2)\n",
    "multiply=np.multiply(arr1,arr2)\n",
    "print(multiply)\n",
    "\n",
    "print(np.multiply(arr1,2))\n"
   ]
  },
  {
   "cell_type": "code",
   "execution_count": 178,
   "id": "cc8f3e73-bdab-46a9-9c62-69f867871840",
   "metadata": {},
   "outputs": [
    {
     "name": "stdout",
     "output_type": "stream",
     "text": [
      "[3 4 5 6]\n",
      "[5 6 7 8]\n",
      "[1.66666667 1.5        1.4        1.33333333]\n"
     ]
    }
   ],
   "source": [
    "#divide -> divide left side each element with right side\n",
    "print(arr1)\n",
    "print(arr2)\n",
    "div=np.divide(arr2,arr1)\n",
    "print(div)"
   ]
  },
  {
   "cell_type": "code",
   "execution_count": 184,
   "id": "cac50e63-2cb2-460e-9414-e30d2107a479",
   "metadata": {},
   "outputs": [
    {
     "name": "stdout",
     "output_type": "stream",
     "text": [
      "[3 4 5 6]\n",
      "4.5\n"
     ]
    },
    {
     "data": {
      "text/plain": [
       "6"
      ]
     },
     "execution_count": 184,
     "metadata": {},
     "output_type": "execute_result"
    }
   ],
   "source": [
    "#mean-> it returns the average value of the array.\n",
    "print(arr1)\n",
    "mean=arr1.mean()\n",
    "print(mean)\n",
    "arr1.max()"
   ]
  },
  {
   "cell_type": "raw",
   "id": "ce196909-60de-44da-909a-1b70a9d7c5af",
   "metadata": {},
   "source": []
  },
  {
   "cell_type": "code",
   "execution_count": 188,
   "id": "710e75ad-192f-4148-8d41-07b1dff361ee",
   "metadata": {},
   "outputs": [
    {
     "name": "stdout",
     "output_type": "stream",
     "text": [
      "[3 4 5 6]\n",
      "3\n"
     ]
    }
   ],
   "source": [
    "#max()-> max function returns the highest value of the array.\n",
    "print(arr1)\n",
    "print(arr1.min())\n"
   ]
  },
  {
   "cell_type": "code",
   "execution_count": 194,
   "id": "afdce33d-e46c-4f53-bbde-b89ea3ac895d",
   "metadata": {},
   "outputs": [
    {
     "name": "stdout",
     "output_type": "stream",
     "text": [
      "[3 4 5 6]\n"
     ]
    },
    {
     "data": {
      "text/plain": [
       "18"
      ]
     },
     "execution_count": 194,
     "metadata": {},
     "output_type": "execute_result"
    }
   ],
   "source": [
    "#sum() -> sum returns the sum of the each element of the array.\n",
    "print(arr1)\n",
    "arr1.sum()\n"
   ]
  },
  {
   "cell_type": "code",
   "execution_count": 202,
   "id": "74c0d5f2-a590-4121-9911-3f08288ecb74",
   "metadata": {},
   "outputs": [
    {
     "name": "stdout",
     "output_type": "stream",
     "text": [
      "6.5\n"
     ]
    }
   ],
   "source": [
    "#average() ->returns the average float value\n",
    "print(np.average(arr2))\n"
   ]
  },
  {
   "cell_type": "code",
   "execution_count": 212,
   "id": "171c5014-4775-4b62-a341-40f5a71de7c2",
   "metadata": {},
   "outputs": [
    {
     "name": "stdout",
     "output_type": "stream",
     "text": [
      "[3 4 5 6]\n",
      "4.5\n",
      "[10 20 30 40 50]\n"
     ]
    },
    {
     "data": {
      "text/plain": [
       "30.0"
      ]
     },
     "execution_count": 212,
     "metadata": {},
     "output_type": "execute_result"
    }
   ],
   "source": [
    "#Median-> return the middle value if present if not it return the average value of midddle teo element.\n",
    "print(arr1)\n",
    "print(np.median(arr1))\n",
    "\n",
    "s1=np.array([10,20,30,40,50])\n",
    "print(s1)\n",
    "np.median(s1)"
   ]
  },
  {
   "cell_type": "code",
   "execution_count": 218,
   "id": "d6f46ecd-4e0f-4de7-a206-ae8f5e6b8d49",
   "metadata": {},
   "outputs": [
    {
     "name": "stdout",
     "output_type": "stream",
     "text": [
      "[10 20 30 40 50]\n"
     ]
    },
    {
     "data": {
      "text/plain": [
       "array([ 100,  400,  900, 1600, 2500])"
      ]
     },
     "execution_count": 218,
     "metadata": {},
     "output_type": "execute_result"
    }
   ],
   "source": [
    "#Square-> return the square of each value\n",
    "print(s1)\n",
    "np.square(s1)"
   ]
  },
  {
   "cell_type": "code",
   "execution_count": 222,
   "id": "58261b5c-8dca-4050-acf0-f8485b91894b",
   "metadata": {},
   "outputs": [
    {
     "name": "stdout",
     "output_type": "stream",
     "text": [
      "[3.16227766 4.47213595 5.47722558 6.32455532 7.07106781]\n"
     ]
    }
   ],
   "source": [
    "#sqrt -> returns the squarerooted value of each element of the array\n",
    "s1=np.sqrt(s1)\n",
    "print(s1)"
   ]
  },
  {
   "cell_type": "code",
   "execution_count": 224,
   "id": "a2c81663-05c0-4c04-82e1-22e151b98bf7",
   "metadata": {},
   "outputs": [
    {
     "name": "stdout",
     "output_type": "stream",
     "text": [
      "[3.16227766 4.47213595 5.47722558 6.32455532 7.07106781]\n"
     ]
    },
    {
     "data": {
      "text/plain": [
       "array([10., 20., 30., 40., 50.])"
      ]
     },
     "execution_count": 224,
     "metadata": {},
     "output_type": "execute_result"
    }
   ],
   "source": [
    "#Power-> return the exponential values of each value of the array\n",
    "print(s1)\n",
    "np.power(s1,2)"
   ]
  },
  {
   "cell_type": "code",
   "execution_count": 93,
   "id": "2d377bed-2f53-4c36-b959-d85494fb033c",
   "metadata": {},
   "outputs": [],
   "source": [
    "row=4\n",
    "col=5"
   ]
  },
  {
   "cell_type": "code",
   "execution_count": 226,
   "id": "ba2f51c0-deb2-43a9-982b-cfe6c898011e",
   "metadata": {},
   "outputs": [
    {
     "data": {
      "text/plain": [
       "array([[11, 18, 16, 10, 20, 26, 23, 30, 16, 39],\n",
       "       [12, 37, 21, 20, 32, 32, 23, 14, 11, 35],\n",
       "       [19, 36, 28, 39, 18, 24, 17, 35, 34, 31],\n",
       "       [12, 28, 10, 12, 28, 32, 10, 26, 10, 35],\n",
       "       [29, 31, 29, 23, 16, 32, 34, 17, 26, 37],\n",
       "       [32, 10, 21, 38, 18, 16, 30, 22, 38, 32],\n",
       "       [16, 16, 16, 27, 28, 13, 29, 12, 35, 24],\n",
       "       [26, 32, 31, 25, 22, 39, 22, 38, 38, 15],\n",
       "       [30, 11, 22, 12, 21, 34, 26, 13, 11, 28],\n",
       "       [13, 26, 28, 18, 35, 21, 31, 21, 30, 19]])"
      ]
     },
     "execution_count": 226,
     "metadata": {},
     "output_type": "execute_result"
    }
   ],
   "source": [
    "m"
   ]
  },
  {
   "cell_type": "code",
   "execution_count": 230,
   "id": "4172b28f-81fb-4655-b06d-5b2f464eb71e",
   "metadata": {},
   "outputs": [
    {
     "data": {
      "text/plain": [
       "(10, 10)"
      ]
     },
     "execution_count": 230,
     "metadata": {},
     "output_type": "execute_result"
    }
   ],
   "source": [
    "np.shape(m)"
   ]
  },
  {
   "cell_type": "code",
   "execution_count": 232,
   "id": "425e0336-b1f5-4be9-a91e-587afda56dc3",
   "metadata": {},
   "outputs": [
    {
     "data": {
      "text/plain": [
       "array([32, 10, 21, 38, 18, 16, 30, 22, 38, 32])"
      ]
     },
     "execution_count": 232,
     "metadata": {},
     "output_type": "execute_result"
    }
   ],
   "source": [
    "m[5]"
   ]
  },
  {
   "cell_type": "code",
   "execution_count": 95,
   "id": "b4236822-a613-49c5-b134-1ce789d033ac",
   "metadata": {},
   "outputs": [
    {
     "data": {
      "text/plain": [
       "32"
      ]
     },
     "execution_count": 95,
     "metadata": {},
     "output_type": "execute_result"
    }
   ],
   "source": [
    "m[row,col]"
   ]
  },
  {
   "cell_type": "code",
   "execution_count": 97,
   "id": "3d18dad3-7f41-4a39-a8fd-fa0e79529203",
   "metadata": {},
   "outputs": [
    {
     "data": {
      "text/plain": [
       "array([29, 31, 29, 23, 16, 32, 34, 17, 26, 37])"
      ]
     },
     "execution_count": 97,
     "metadata": {},
     "output_type": "execute_result"
    }
   ],
   "source": [
    "m[row] # prints rows\n"
   ]
  },
  {
   "cell_type": "code",
   "execution_count": 99,
   "id": "b8ad2bf6-9b55-455c-8aae-25579555f78f",
   "metadata": {},
   "outputs": [
    {
     "data": {
      "text/plain": [
       "array([26, 32, 24, 32, 32, 16, 13, 39, 34, 21])"
      ]
     },
     "execution_count": 99,
     "metadata": {},
     "output_type": "execute_result"
    }
   ],
   "source": [
    "m[:,col]"
   ]
  },
  {
   "cell_type": "code",
   "execution_count": 237,
   "id": "0e71df2a-f064-4bb7-9dc1-219c38400ce5",
   "metadata": {},
   "outputs": [
    {
     "data": {
      "text/plain": [
       "array([10, 20, 39, 12, 23, 38, 27, 25, 12, 18])"
      ]
     },
     "execution_count": 237,
     "metadata": {},
     "output_type": "execute_result"
    }
   ],
   "source": [
    "m[:,3] #prints the 3th column"
   ]
  },
  {
   "cell_type": "code",
   "execution_count": 241,
   "id": "f7af8e94-f6c1-424f-b0af-ed22b2cdb205",
   "metadata": {},
   "outputs": [
    {
     "data": {
      "text/plain": [
       "array([[11, 18, 16, 10, 20, 26, 23, 30, 16, 39],\n",
       "       [12, 37, 21, 20, 32, 32, 23, 14, 11, 35],\n",
       "       [19, 36, 28, 39, 18, 24, 17, 35, 34, 31],\n",
       "       [12, 28, 10, 12, 28, 32, 10, 26, 10, 35],\n",
       "       [29, 31, 29, 23, 16, 32, 34, 17, 26, 37],\n",
       "       [32, 10, 21, 38, 18, 16, 30, 22, 38, 32],\n",
       "       [16, 16, 16, 27, 28, 13, 29, 12, 35, 24],\n",
       "       [26, 32, 31, 25, 22, 39, 22, 38, 38, 15],\n",
       "       [30, 11, 22, 12, 21, 34, 26, 13, 11, 28],\n",
       "       [13, 26, 28, 18, 35, 21, 31, 21, 30, 19]])"
      ]
     },
     "execution_count": 241,
     "metadata": {},
     "output_type": "execute_result"
    }
   ],
   "source": [
    "m[:]"
   ]
  },
  {
   "cell_type": "code",
   "execution_count": 239,
   "id": "e5abc796-9ccb-46f1-9ebb-524438c94345",
   "metadata": {},
   "outputs": [
    {
     "data": {
      "text/plain": [
       "array([[13, 26, 28, 18, 35, 21, 31, 21, 30, 19],\n",
       "       [30, 11, 22, 12, 21, 34, 26, 13, 11, 28],\n",
       "       [26, 32, 31, 25, 22, 39, 22, 38, 38, 15],\n",
       "       [16, 16, 16, 27, 28, 13, 29, 12, 35, 24],\n",
       "       [32, 10, 21, 38, 18, 16, 30, 22, 38, 32],\n",
       "       [29, 31, 29, 23, 16, 32, 34, 17, 26, 37],\n",
       "       [12, 28, 10, 12, 28, 32, 10, 26, 10, 35],\n",
       "       [19, 36, 28, 39, 18, 24, 17, 35, 34, 31],\n",
       "       [12, 37, 21, 20, 32, 32, 23, 14, 11, 35],\n",
       "       [11, 18, 16, 10, 20, 26, 23, 30, 16, 39]])"
      ]
     },
     "execution_count": 239,
     "metadata": {},
     "output_type": "execute_result"
    }
   ],
   "source": [
    "m[::-1] #reverse the matrix"
   ]
  },
  {
   "cell_type": "code",
   "execution_count": 245,
   "id": "d1bff9ee-06e4-49fe-8433-a88b415f1ab8",
   "metadata": {},
   "outputs": [
    {
     "data": {
      "text/plain": [
       "array([[13, 26, 28, 18, 35, 21, 31, 21, 30, 19],\n",
       "       [26, 32, 31, 25, 22, 39, 22, 38, 38, 15],\n",
       "       [32, 10, 21, 38, 18, 16, 30, 22, 38, 32],\n",
       "       [12, 28, 10, 12, 28, 32, 10, 26, 10, 35],\n",
       "       [12, 37, 21, 20, 32, 32, 23, 14, 11, 35]])"
      ]
     },
     "execution_count": 245,
     "metadata": {},
     "output_type": "execute_result"
    }
   ],
   "source": [
    "m[::-2] #it reverse a sequence with skip of one row"
   ]
  },
  {
   "cell_type": "code",
   "execution_count": 247,
   "id": "891932fb-2c0d-4169-b57f-fd00a3d539c9",
   "metadata": {},
   "outputs": [
    {
     "data": {
      "text/plain": [
       "array([[13, 26, 28, 18, 35, 21, 31, 21, 30, 19],\n",
       "       [16, 16, 16, 27, 28, 13, 29, 12, 35, 24],\n",
       "       [12, 28, 10, 12, 28, 32, 10, 26, 10, 35],\n",
       "       [11, 18, 16, 10, 20, 26, 23, 30, 16, 39]])"
      ]
     },
     "execution_count": 247,
     "metadata": {},
     "output_type": "execute_result"
    }
   ],
   "source": [
    "m[::-3]"
   ]
  },
  {
   "cell_type": "code",
   "execution_count": 103,
   "id": "7e9563ca-d511-47c8-859c-d58dd2a9ff5b",
   "metadata": {},
   "outputs": [
    {
     "data": {
      "text/plain": [
       "array([[37, 21, 20],\n",
       "       [36, 28, 39],\n",
       "       [28, 10, 12],\n",
       "       [31, 29, 23],\n",
       "       [10, 21, 38]])"
      ]
     },
     "execution_count": 103,
     "metadata": {},
     "output_type": "execute_result"
    }
   ],
   "source": [
    "m[1:6,1:4]"
   ]
  },
  {
   "cell_type": "code",
   "execution_count": 249,
   "id": "569eeb39-e024-447b-a53f-53b3273d9a1a",
   "metadata": {},
   "outputs": [
    {
     "data": {
      "text/plain": [
       "array([[28],\n",
       "       [10],\n",
       "       [29],\n",
       "       [21]])"
      ]
     },
     "execution_count": 249,
     "metadata": {},
     "output_type": "execute_result"
    }
   ],
   "source": [
    "m[2:6,2:3] #it vertically slice a column 2 across row 2-5"
   ]
  },
  {
   "cell_type": "code",
   "execution_count": null,
   "id": "8baef965-7a9d-45d5-ae14-5989b0a0d1ec",
   "metadata": {},
   "outputs": [],
   "source": []
  },
  {
   "cell_type": "markdown",
   "id": "7917e1c6-6ff7-445d-a8b8-405b22f29ad3",
   "metadata": {},
   "source": [
    "# Masking"
   ]
  },
  {
   "cell_type": "code",
   "execution_count": 267,
   "id": "4e2e5337-2772-481a-8173-383c02ca57cd",
   "metadata": {},
   "outputs": [
    {
     "data": {
      "text/plain": [
       "array([[ 0,  1,  2,  3,  4,  5,  6,  7,  8,  9],\n",
       "       [10, 11, 12, 13, 14, 15, 16, 17, 18, 19],\n",
       "       [20, 21, 22, 23, 24, 25, 26, 27, 28, 29],\n",
       "       [30, 31, 32, 33, 34, 35, 36, 37, 38, 39],\n",
       "       [40, 41, 42, 43, 44, 45, 46, 47, 48, 49],\n",
       "       [50, 51, 52, 53, 54, 55, 56, 57, 58, 59],\n",
       "       [60, 61, 62, 63, 64, 65, 66, 67, 68, 69],\n",
       "       [70, 71, 72, 73, 74, 75, 76, 77, 78, 79],\n",
       "       [80, 81, 82, 83, 84, 85, 86, 87, 88, 89],\n",
       "       [90, 91, 92, 93, 94, 95, 96, 97, 98, 99]])"
      ]
     },
     "execution_count": 267,
     "metadata": {},
     "output_type": "execute_result"
    }
   ],
   "source": [
    "mat=np.arange(10,100).reshape(10,10)\n",
    "mat\n"
   ]
  },
  {
   "cell_type": "code",
   "execution_count": 271,
   "id": "40397a54-86d9-422c-95d6-f1b8669254fa",
   "metadata": {},
   "outputs": [
    {
     "data": {
      "text/plain": [
       "array([[False, False, False, False, False, False, False, False, False,\n",
       "        False],\n",
       "       [False, False, False, False, False, False, False, False, False,\n",
       "        False],\n",
       "       [False, False, False, False, False, False, False, False, False,\n",
       "        False],\n",
       "       [False, False, False, False, False, False, False, False, False,\n",
       "        False],\n",
       "       [False, False, False, False, False, False, False, False, False,\n",
       "        False],\n",
       "       [False,  True,  True,  True,  True,  True,  True,  True,  True,\n",
       "         True],\n",
       "       [ True,  True,  True,  True,  True,  True,  True,  True,  True,\n",
       "         True],\n",
       "       [ True,  True,  True,  True,  True,  True,  True,  True,  True,\n",
       "         True],\n",
       "       [ True,  True,  True,  True,  True,  True,  True,  True,  True,\n",
       "         True],\n",
       "       [ True,  True,  True,  True,  True,  True,  True,  True,  True,\n",
       "         True]])"
      ]
     },
     "execution_count": 271,
     "metadata": {},
     "output_type": "execute_result"
    }
   ],
   "source": [
    "mat>50"
   ]
  },
  {
   "cell_type": "code",
   "execution_count": 275,
   "id": "dc75ef05-22a7-4447-9ffc-5e64e013f1cb",
   "metadata": {},
   "outputs": [
    {
     "data": {
      "text/plain": [
       "array([[ True,  True,  True,  True,  True,  True,  True,  True,  True,\n",
       "         True],\n",
       "       [ True,  True,  True,  True,  True,  True,  True,  True,  True,\n",
       "         True],\n",
       "       [ True,  True,  True,  True,  True,  True,  True,  True,  True,\n",
       "         True],\n",
       "       [ True,  True,  True,  True,  True,  True,  True,  True,  True,\n",
       "         True],\n",
       "       [ True,  True,  True,  True,  True,  True,  True,  True,  True,\n",
       "         True],\n",
       "       [False, False, False, False, False, False, False, False, False,\n",
       "        False],\n",
       "       [False, False, False, False, False, False, False, False, False,\n",
       "        False],\n",
       "       [False, False, False, False, False, False, False, False, False,\n",
       "        False],\n",
       "       [False, False, False, False, False, False, False, False, False,\n",
       "        False],\n",
       "       [False, False, False, False, False, False, False, False, False,\n",
       "        False]])"
      ]
     },
     "execution_count": 275,
     "metadata": {},
     "output_type": "execute_result"
    }
   ],
   "source": [
    "mat<50\n"
   ]
  },
  {
   "cell_type": "code",
   "execution_count": 273,
   "id": "51d1d1c1-4ae3-4a5b-a106-c66260ca2ad1",
   "metadata": {},
   "outputs": [
    {
     "data": {
      "text/plain": [
       "array([51, 52, 53, 54, 55, 56, 57, 58, 59, 60, 61, 62, 63, 64, 65, 66, 67,\n",
       "       68, 69, 70, 71, 72, 73, 74, 75, 76, 77, 78, 79, 80, 81, 82, 83, 84,\n",
       "       85, 86, 87, 88, 89, 90, 91, 92, 93, 94, 95, 96, 97, 98, 99])"
      ]
     },
     "execution_count": 273,
     "metadata": {},
     "output_type": "execute_result"
    }
   ],
   "source": [
    "mat[mat>50]"
   ]
  },
  {
   "cell_type": "code",
   "execution_count": 277,
   "id": "4985511f-82ca-4d23-b108-4bf14c957600",
   "metadata": {},
   "outputs": [
    {
     "data": {
      "text/plain": [
       "array([ 0,  1,  2,  3,  4,  5,  6,  7,  8,  9, 10, 11, 12, 13, 14, 15, 16,\n",
       "       17, 18, 19, 20, 21, 22, 23, 24, 25, 26, 27, 28, 29, 30, 31, 32, 33,\n",
       "       34, 35, 36, 37, 38, 39, 40, 41, 42, 43, 44, 45, 46, 47, 48, 49])"
      ]
     },
     "execution_count": 277,
     "metadata": {},
     "output_type": "execute_result"
    }
   ],
   "source": [
    "mat[mat<50]"
   ]
  },
  {
   "cell_type": "code",
   "execution_count": 279,
   "id": "31008d97-2162-48b3-aa28-8d3fe260a272",
   "metadata": {},
   "outputs": [
    {
     "data": {
      "text/plain": [
       "array([50])"
      ]
     },
     "execution_count": 279,
     "metadata": {},
     "output_type": "execute_result"
    }
   ],
   "source": [
    "mat[mat==50]"
   ]
  },
  {
   "cell_type": "code",
   "execution_count": 281,
   "id": "63cfff9a-07d3-4a8e-a8d3-a4b415ae027b",
   "metadata": {},
   "outputs": [
    {
     "data": {
      "text/plain": [
       "array([ 0,  1,  2,  3,  4,  5,  6,  7,  8,  9, 10, 11, 12, 13, 14, 15, 16,\n",
       "       17, 18, 19, 20, 21, 22, 23, 24, 25, 26, 27, 28, 29, 30, 31, 32, 33,\n",
       "       34, 35, 36, 37, 38, 39, 40, 41, 42, 43, 44, 45, 46, 47, 48, 49, 51,\n",
       "       52, 53, 54, 55, 56, 57, 58, 59, 60, 61, 62, 63, 64, 65, 66, 67, 68,\n",
       "       69, 70, 71, 72, 73, 74, 75, 76, 77, 78, 79, 80, 81, 82, 83, 84, 85,\n",
       "       86, 87, 88, 89, 90, 91, 92, 93, 94, 95, 96, 97, 98, 99])"
      ]
     },
     "execution_count": 281,
     "metadata": {},
     "output_type": "execute_result"
    }
   ],
   "source": [
    "mat[mat!=50\n",
    "]"
   ]
  },
  {
   "cell_type": "code",
   "execution_count": null,
   "id": "000efa21-6078-4c51-95c3-eede7eadc42e",
   "metadata": {},
   "outputs": [],
   "source": []
  }
 ],
 "metadata": {
  "kernelspec": {
   "display_name": "Python 3 (ipykernel)",
   "language": "python",
   "name": "python3"
  },
  "language_info": {
   "codemirror_mode": {
    "name": "ipython",
    "version": 3
   },
   "file_extension": ".py",
   "mimetype": "text/x-python",
   "name": "python",
   "nbconvert_exporter": "python",
   "pygments_lexer": "ipython3",
   "version": "3.12.4"
  }
 },
 "nbformat": 4,
 "nbformat_minor": 5
}
