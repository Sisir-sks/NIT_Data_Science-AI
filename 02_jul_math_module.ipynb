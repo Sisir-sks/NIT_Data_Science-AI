{
 "cells": [
  {
   "cell_type": "markdown",
   "id": "3cfc1802-13ba-44a0-813c-8c061be31d52",
   "metadata": {},
   "source": [
    "#PYTHON MODULE"
   ]
  },
  {
   "cell_type": "code",
   "execution_count": null,
   "id": "2edbb5f8-acb8-424c-a665-7564cea5a8ef",
   "metadata": {},
   "outputs": [],
   "source": [
    "'''\n",
    "package==collection of modules\n",
    "...modules==collection of functions\n",
    "...functions== block of code that can be reusable'''\n"
   ]
  },
  {
   "cell_type": "code",
   "execution_count": null,
   "id": "7b92ee3b-f0ea-4157-b91a-893e795160e7",
   "metadata": {},
   "outputs": [],
   "source": [
    "# import -> we use import statement to bring modules/packages\n",
    "#to call a function we use obj.function()\n"
   ]
  },
  {
   "cell_type": "code",
   "execution_count": 4,
   "id": "ac21e807-9d27-45f9-8b05-b11f21ef28bb",
   "metadata": {},
   "outputs": [],
   "source": [
    "import math # here we imported math module"
   ]
  },
  {
   "cell_type": "code",
   "execution_count": 6,
   "id": "aa05db33-b516-4e92-94f5-efbf94ebf250",
   "metadata": {},
   "outputs": [],
   "source": [
    "#We can import modules in different formats\n",
    "import math #-> it import the math module\n",
    "import math as m #-> it also import math module as it's alias name its easy to use\n",
    "from math import floor #-> it import only the floor function from the math module it helps to use less memory\n",
    "from math import * #-> it import all the public functions and variables in the current program"
   ]
  },
  {
   "cell_type": "code",
   "execution_count": 10,
   "id": "daa5e727-9872-416f-bfcb-58d6f4c4fb1c",
   "metadata": {},
   "outputs": [
    {
     "data": {
      "text/plain": [
       "3.141592653589793"
      ]
     },
     "execution_count": 10,
     "metadata": {},
     "output_type": "execute_result"
    }
   ],
   "source": [
    "math.pi #it is a function from math module that returns the pi constant value"
   ]
  },
  {
   "cell_type": "code",
   "execution_count": 14,
   "id": "7757df21-5fbc-4614-b06f-405444e9608b",
   "metadata": {},
   "outputs": [
    {
     "data": {
      "text/plain": [
       "2.718281828459045"
      ]
     },
     "execution_count": 14,
     "metadata": {},
     "output_type": "execute_result"
    }
   ],
   "source": [
    "m.e # we imported math as m.e so it returns the epsilon value "
   ]
  },
  {
   "cell_type": "code",
   "execution_count": 18,
   "id": "696d2cf5-515f-47aa-a66a-e65c1899e3ea",
   "metadata": {},
   "outputs": [
    {
     "data": {
      "text/plain": [
       "5.0"
      ]
     },
     "execution_count": 18,
     "metadata": {},
     "output_type": "execute_result"
    }
   ],
   "source": [
    "m.sqrt(25) # sqrt function returns the squre-root of the value in float format"
   ]
  },
  {
   "cell_type": "code",
   "execution_count": 22,
   "id": "bd35cf29-0a93-48f9-8b5b-67edf9d0f107",
   "metadata": {},
   "outputs": [
    {
     "data": {
      "text/plain": [
       "243.0"
      ]
     },
     "execution_count": 22,
     "metadata": {},
     "output_type": "execute_result"
    }
   ],
   "source": [
    "m.pow(3,5) # -> the pow function accept the base and the power value and the return base_value to the Power of the power_value"
   ]
  },
  {
   "cell_type": "code",
   "execution_count": 58,
   "id": "04b39185-6302-49c0-b311-5dbf29c21430",
   "metadata": {},
   "outputs": [
    {
     "data": {
      "text/plain": [
       "4"
      ]
     },
     "execution_count": 58,
     "metadata": {},
     "output_type": "execute_result"
    }
   ],
   "source": [
    "m.floor(4.9) #-> floor returns the minimized rounduped  integral value"
   ]
  },
  {
   "cell_type": "code",
   "execution_count": 56,
   "id": "4b996edc-19c2-4d39-b476-0e73395f1650",
   "metadata": {},
   "outputs": [
    {
     "data": {
      "text/plain": [
       "-5"
      ]
     },
     "execution_count": 56,
     "metadata": {},
     "output_type": "execute_result"
    }
   ],
   "source": [
    "m.floor(-4.5) # here -5 is is smaller than -4.5 so it gives -5"
   ]
  },
  {
   "cell_type": "code",
   "execution_count": 30,
   "id": "0dafec0c-126a-40fd-ad9c-1a9059b68983",
   "metadata": {},
   "outputs": [
    {
     "data": {
      "text/plain": [
       "5"
      ]
     },
     "execution_count": 30,
     "metadata": {},
     "output_type": "execute_result"
    }
   ],
   "source": [
    "m.ceil(4.1) # math.ceil returns the maximized rounduped  integral value "
   ]
  },
  {
   "cell_type": "code",
   "execution_count": 32,
   "id": "a7126623-8525-45a1-b544-fb6402189a02",
   "metadata": {},
   "outputs": [
    {
     "data": {
      "text/plain": [
       "-4"
      ]
     },
     "execution_count": 32,
     "metadata": {},
     "output_type": "execute_result"
    }
   ],
   "source": [
    "m.ceil(-4.5) # here -4 is larger then -4.5 so it returns the -4"
   ]
  },
  {
   "cell_type": "code",
   "execution_count": 54,
   "id": "805d0fdb-fda6-49df-852c-41faef0172c1",
   "metadata": {},
   "outputs": [
    {
     "data": {
      "text/plain": [
       "3.14"
      ]
     },
     "execution_count": 54,
     "metadata": {},
     "output_type": "execute_result"
    }
   ],
   "source": [
    "math.fabs(3.14000) #returns the absolute value in th float format"
   ]
  },
  {
   "cell_type": "code",
   "execution_count": 52,
   "id": "6183d196-a44e-4204-8838-b415240b1b26",
   "metadata": {},
   "outputs": [
    {
     "data": {
      "text/plain": [
       "50.0"
      ]
     },
     "execution_count": 52,
     "metadata": {},
     "output_type": "execute_result"
    }
   ],
   "source": [
    "m.fabs(-50) # returns the absolute value of -50"
   ]
  },
  {
   "cell_type": "code",
   "execution_count": 62,
   "id": "94c366f3-de87-44b2-a818-160c45fcc5bb",
   "metadata": {},
   "outputs": [
    {
     "data": {
      "text/plain": [
       "362880"
      ]
     },
     "execution_count": 62,
     "metadata": {},
     "output_type": "execute_result"
    }
   ],
   "source": [
    "m.factorial(9) # returns the factorial value in int #-> factorial means the multiplication of all numbers from 1"
   ]
  },
  {
   "cell_type": "code",
   "execution_count": 72,
   "id": "925a41cf-2b4b-4100-981c-b1e16bed2ac8",
   "metadata": {},
   "outputs": [
    {
     "data": {
      "text/plain": [
       "3"
      ]
     },
     "execution_count": 72,
     "metadata": {},
     "output_type": "execute_result"
    }
   ],
   "source": [
    "m.gcd(9,15,3) # return the gratest common divisior value of the arguments"
   ]
  },
  {
   "cell_type": "code",
   "execution_count": null,
   "id": "a07e7e1c-a618-469a-980c-c85e9c8f13c1",
   "metadata": {},
   "outputs": [],
   "source": []
  }
 ],
 "metadata": {
  "kernelspec": {
   "display_name": "Python 3 (ipykernel)",
   "language": "python",
   "name": "python3"
  },
  "language_info": {
   "codemirror_mode": {
    "name": "ipython",
    "version": 3
   },
   "file_extension": ".py",
   "mimetype": "text/x-python",
   "name": "python",
   "nbconvert_exporter": "python",
   "pygments_lexer": "ipython3",
   "version": "3.12.4"
  }
 },
 "nbformat": 4,
 "nbformat_minor": 5
}
