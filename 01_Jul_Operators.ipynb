{
 "cells": [
  {
   "cell_type": "markdown",
   "id": "b97904c8-bc2b-4fe5-8842-af1d6ad92236",
   "metadata": {},
   "source": [
    "#OPERATORS"
   ]
  },
  {
   "cell_type": "markdown",
   "id": "713a7e2e-18ce-4df6-9aa7-2c47ab3fb755",
   "metadata": {},
   "source": [
    "### Operators are special symbol or keyboard that perfom operations on one or more operands.\n",
    "##### Types of operatoins in python : \n",
    "##### Arithmetic operators :+,-,*,/,//,%,**\n",
    "##### Relational Operator : ==,!=,>,<,>=,<=,\n",
    "##### Assignment Operator : =,+=,-=,*=,/=,//=,%=,**=\n",
    "##### Logical Operator : and,or, not\n",
    "##### Bitwise Operator : &,^,~,<<,>>\n",
    "##### Identity Operator : is ,is not\n",
    "##### Membership Operator : in, not in"
   ]
  },
  {
   "cell_type": "markdown",
   "id": "da702f59-ef83-4425-9803-a913d543c055",
   "metadata": {},
   "source": [
    "# ◈Arithmetic Operators"
   ]
  },
  {
   "cell_type": "code",
   "execution_count": null,
   "id": "ec18b4d4-f056-42a7-ba51-674fadd457ec",
   "metadata": {},
   "outputs": [],
   "source": [
    "#Arithmetic operators are used to perform basic methmatical operations such as addition, substraction, multiplication.etc"
   ]
  },
  {
   "cell_type": "code",
   "execution_count": 1,
   "id": "ad8565b8-2855-41b1-93a5-ac2abb592b89",
   "metadata": {},
   "outputs": [],
   "source": [
    "x1,y1=50,100"
   ]
  },
  {
   "cell_type": "code",
   "execution_count": 5,
   "id": "4987e275-8bbf-44cb-88f6-b25b184f3a78",
   "metadata": {},
   "outputs": [
    {
     "data": {
      "text/plain": [
       "150"
      ]
     },
     "execution_count": 5,
     "metadata": {},
     "output_type": "execute_result"
    }
   ],
   "source": [
    "x1+y1 # addition "
   ]
  },
  {
   "cell_type": "code",
   "execution_count": 7,
   "id": "abcbbac2-4132-4294-8d65-7848588d39d6",
   "metadata": {},
   "outputs": [
    {
     "data": {
      "text/plain": [
       "50"
      ]
     },
     "execution_count": 7,
     "metadata": {},
     "output_type": "execute_result"
    }
   ],
   "source": [
    "y1-x1 # substraction"
   ]
  },
  {
   "cell_type": "code",
   "execution_count": 9,
   "id": "4cfb9f24-dd08-4b86-9283-abfe954be843",
   "metadata": {},
   "outputs": [
    {
     "data": {
      "text/plain": [
       "5000"
      ]
     },
     "execution_count": 9,
     "metadata": {},
     "output_type": "execute_result"
    }
   ],
   "source": [
    "x1*y1 #multiplication"
   ]
  },
  {
   "cell_type": "code",
   "execution_count": 11,
   "id": "f3d2c525-742f-4cda-8ce0-185cdab5c2e8",
   "metadata": {},
   "outputs": [
    {
     "data": {
      "text/plain": [
       "2.0"
      ]
     },
     "execution_count": 11,
     "metadata": {},
     "output_type": "execute_result"
    }
   ],
   "source": [
    "y1/x1 # division\n"
   ]
  },
  {
   "cell_type": "code",
   "execution_count": 15,
   "id": "38259aad-8c35-4647-a47b-ed24b9e026fc",
   "metadata": {},
   "outputs": [
    {
     "data": {
      "text/plain": [
       "50"
      ]
     },
     "execution_count": 15,
     "metadata": {},
     "output_type": "execute_result"
    }
   ],
   "source": [
    "x1%y1 # modulus -> returns reminder of the division"
   ]
  },
  {
   "cell_type": "code",
   "execution_count": 17,
   "id": "f51d133c-e23d-4ca6-8ec0-f7a2a7b4cf9c",
   "metadata": {},
   "outputs": [
    {
     "data": {
      "text/plain": [
       "78886090522101180541172856528278622967320643510902300477027893066406250000000000000000000000000000000000000000000000000000000000000000000000000000000000000000000000000000"
      ]
     },
     "execution_count": 17,
     "metadata": {},
     "output_type": "execute_result"
    }
   ],
   "source": [
    "x1**y1 #Exponentiation "
   ]
  },
  {
   "cell_type": "markdown",
   "id": "cf5fcb9c-5166-4c74-89d6-7fbc4a2f062d",
   "metadata": {},
   "source": [
    "# Relational/comparision operators\n"
   ]
  },
  {
   "cell_type": "markdown",
   "id": "887eb079-861c-492e-864a-1e500dc63550",
   "metadata": {},
   "source": [
    "#### Relational/comprasion operators are used to compare values.They return Boolean values(True or False)."
   ]
  },
  {
   "cell_type": "code",
   "execution_count": 10,
   "id": "0dd0ab42-7b50-42a5-874f-25da6543bb07",
   "metadata": {},
   "outputs": [
    {
     "name": "stdout",
     "output_type": "stream",
     "text": [
      "True\n",
      "False\n",
      "True\n",
      "False\n"
     ]
    }
   ],
   "source": [
    "## (==) it returns true if the both operands are equal\n",
    "print(5==5)\n",
    "print(5==-5)\n",
    "print('ram'=='ram')\n",
    "print('ram'=='Ram')"
   ]
  },
  {
   "cell_type": "code",
   "execution_count": 12,
   "id": "8fb7bcc6-98aa-457b-aa43-f0fe5b05ef19",
   "metadata": {},
   "outputs": [
    {
     "name": "stdout",
     "output_type": "stream",
     "text": [
      "False\n",
      "True\n",
      "False\n",
      "True\n",
      "True\n"
     ]
    }
   ],
   "source": [
    "## (!=) Not equal to -> returns true if the operands are not equal.\n",
    "print(5!=5)\n",
    "print(5!=-5)\n",
    "print('ram'!='ram')\n",
    "print('ram'!='Ram')\n",
    "print(1+2j!=1+3j)"
   ]
  },
  {
   "cell_type": "code",
   "execution_count": 34,
   "id": "06def25f-3d85-492e-95e0-8eddea22ba75",
   "metadata": {},
   "outputs": [
    {
     "name": "stdout",
     "output_type": "stream",
     "text": [
      "False\n",
      "True\n",
      "False\n",
      "True\n",
      "True\n",
      "True\n"
     ]
    },
    {
     "ename": "TypeError",
     "evalue": "'>' not supported between instances of 'complex' and 'complex'",
     "output_type": "error",
     "traceback": [
      "\u001b[1;31m---------------------------------------------------------------------------\u001b[0m",
      "\u001b[1;31mTypeError\u001b[0m                                 Traceback (most recent call last)",
      "Cell \u001b[1;32mIn[34], line 8\u001b[0m\n\u001b[0;32m      6\u001b[0m \u001b[38;5;28mprint\u001b[39m([\u001b[38;5;241m1\u001b[39m,\u001b[38;5;241m2\u001b[39m,\u001b[38;5;241m3\u001b[39m,\u001b[38;5;241m4\u001b[39m]\u001b[38;5;241m>\u001b[39m[\u001b[38;5;241m0\u001b[39m,\u001b[38;5;241m1\u001b[39m,\u001b[38;5;241m2\u001b[39m,\u001b[38;5;241m3\u001b[39m])\n\u001b[0;32m      7\u001b[0m \u001b[38;5;28mprint\u001b[39m(\u001b[38;5;241m2.5\u001b[39m\u001b[38;5;241m>\u001b[39m\u001b[38;5;241m2.49\u001b[39m)\n\u001b[1;32m----> 8\u001b[0m \u001b[38;5;28mprint\u001b[39m(\u001b[38;5;241m1\u001b[39m\u001b[38;5;241m+\u001b[39m\u001b[38;5;241m2\u001b[39mj\u001b[38;5;241m>\u001b[39m\u001b[38;5;241m1\u001b[39m\u001b[38;5;241m+\u001b[39m\u001b[38;5;241m3\u001b[39mj)\n",
      "\u001b[1;31mTypeError\u001b[0m: '>' not supported between instances of 'complex' and 'complex'"
     ]
    }
   ],
   "source": [
    "## (>) Grater than-> it returns true if the left operand is grater than right operand.\n",
    "print(5>5)\n",
    "print(5>-5)\n",
    "print('ram'>'ram')\n",
    "print('ram'>'Ram')\n",
    "print([1,2,3,4]>[0,1,2,3])\n",
    "print(2.5>2.49)\n",
    "print(1+2j>1+3j) # grater than not works with complex values.\n"
   ]
  },
  {
   "cell_type": "code",
   "execution_count": 38,
   "id": "e93caac6-6b00-4ca5-9f41-6c4337075bd8",
   "metadata": {},
   "outputs": [
    {
     "name": "stdout",
     "output_type": "stream",
     "text": [
      "False\n",
      "False\n",
      "True\n",
      "False\n",
      "False\n",
      "False\n"
     ]
    },
    {
     "ename": "TypeError",
     "evalue": "'<' not supported between instances of 'complex' and 'complex'",
     "output_type": "error",
     "traceback": [
      "\u001b[1;31m---------------------------------------------------------------------------\u001b[0m",
      "\u001b[1;31mTypeError\u001b[0m                                 Traceback (most recent call last)",
      "Cell \u001b[1;32mIn[38], line 8\u001b[0m\n\u001b[0;32m      6\u001b[0m \u001b[38;5;28mprint\u001b[39m([\u001b[38;5;241m1\u001b[39m,\u001b[38;5;241m2\u001b[39m,\u001b[38;5;241m3\u001b[39m,\u001b[38;5;241m4\u001b[39m]\u001b[38;5;241m<\u001b[39m[\u001b[38;5;241m0\u001b[39m,\u001b[38;5;241m1\u001b[39m,\u001b[38;5;241m2\u001b[39m,\u001b[38;5;241m3\u001b[39m])\n\u001b[0;32m      7\u001b[0m \u001b[38;5;28mprint\u001b[39m(\u001b[38;5;241m2.5\u001b[39m\u001b[38;5;241m<\u001b[39m\u001b[38;5;241m2.49\u001b[39m)\n\u001b[1;32m----> 8\u001b[0m \u001b[38;5;28mprint\u001b[39m(\u001b[38;5;241m1\u001b[39m\u001b[38;5;241m+\u001b[39m\u001b[38;5;241m2\u001b[39mj\u001b[38;5;241m<\u001b[39m\u001b[38;5;241m1\u001b[39m\u001b[38;5;241m+\u001b[39m\u001b[38;5;241m3\u001b[39mj)\n",
      "\u001b[1;31mTypeError\u001b[0m: '<' not supported between instances of 'complex' and 'complex'"
     ]
    }
   ],
   "source": [
    "## (<) Less than-> Returns true if the left operand is smaller than the right .\n",
    "print(5<5)\n",
    "print(5<-5)\n",
    "print('Ram'<'ram')\n",
    "print('ram'<'Ram')\n",
    "print([1,2,3,4]<[0,1,2,3])\n",
    "print(2.5<2.49)\n",
    "print(1+2j<1+3j) # Less than not works with complex values.\n"
   ]
  },
  {
   "cell_type": "code",
   "execution_count": 42,
   "id": "97dd5e23-76af-4f7c-bd6c-c5797b8e3ab7",
   "metadata": {},
   "outputs": [
    {
     "name": "stdout",
     "output_type": "stream",
     "text": [
      "True\n",
      "True\n",
      "True\n",
      "True\n",
      "True\n",
      "True\n"
     ]
    },
    {
     "ename": "TypeError",
     "evalue": "'>=' not supported between instances of 'complex' and 'complex'",
     "output_type": "error",
     "traceback": [
      "\u001b[1;31m---------------------------------------------------------------------------\u001b[0m",
      "\u001b[1;31mTypeError\u001b[0m                                 Traceback (most recent call last)",
      "Cell \u001b[1;32mIn[42], line 8\u001b[0m\n\u001b[0;32m      6\u001b[0m \u001b[38;5;28mprint\u001b[39m([\u001b[38;5;241m1\u001b[39m,\u001b[38;5;241m2\u001b[39m,\u001b[38;5;241m3\u001b[39m,\u001b[38;5;241m4\u001b[39m]\u001b[38;5;241m>\u001b[39m\u001b[38;5;241m=\u001b[39m[\u001b[38;5;241m0\u001b[39m,\u001b[38;5;241m1\u001b[39m,\u001b[38;5;241m2\u001b[39m,\u001b[38;5;241m3\u001b[39m])\n\u001b[0;32m      7\u001b[0m \u001b[38;5;28mprint\u001b[39m(\u001b[38;5;241m2.5\u001b[39m\u001b[38;5;241m>\u001b[39m\u001b[38;5;241m=\u001b[39m\u001b[38;5;241m2.49\u001b[39m)\n\u001b[1;32m----> 8\u001b[0m \u001b[38;5;28mprint\u001b[39m(\u001b[38;5;241m1\u001b[39m\u001b[38;5;241m+\u001b[39m\u001b[38;5;241m2\u001b[39mj\u001b[38;5;241m>\u001b[39m\u001b[38;5;241m=\u001b[39m\u001b[38;5;241m1\u001b[39m\u001b[38;5;241m+\u001b[39m\u001b[38;5;241m3\u001b[39mj)\n",
      "\u001b[1;31mTypeError\u001b[0m: '>=' not supported between instances of 'complex' and 'complex'"
     ]
    }
   ],
   "source": [
    "##(>=) Grateer than or equal -> Returns true if the left operand is grater than right one or equal with the right one\n",
    "print(5>=5)\n",
    "print(5>=-5)\n",
    "print('ram'>='ram')\n",
    "print('ram'>='Ram')\n",
    "print([1,2,3,4]>=[0,1,2,3])\n",
    "print(2.5>=2.49)\n",
    "print(1+2j>=1+3j) # grater than or equal to  not works with complex values.\n"
   ]
  },
  {
   "cell_type": "code",
   "execution_count": 44,
   "id": "a63db123-314d-4fd3-a8c1-de9b55c12040",
   "metadata": {},
   "outputs": [
    {
     "name": "stdout",
     "output_type": "stream",
     "text": [
      "True\n",
      "False\n",
      "True\n",
      "False\n",
      "False\n",
      "False\n"
     ]
    },
    {
     "ename": "TypeError",
     "evalue": "'<=' not supported between instances of 'complex' and 'complex'",
     "output_type": "error",
     "traceback": [
      "\u001b[1;31m---------------------------------------------------------------------------\u001b[0m",
      "\u001b[1;31mTypeError\u001b[0m                                 Traceback (most recent call last)",
      "Cell \u001b[1;32mIn[44], line 8\u001b[0m\n\u001b[0;32m      6\u001b[0m \u001b[38;5;28mprint\u001b[39m([\u001b[38;5;241m1\u001b[39m,\u001b[38;5;241m2\u001b[39m,\u001b[38;5;241m3\u001b[39m,\u001b[38;5;241m4\u001b[39m]\u001b[38;5;241m<\u001b[39m\u001b[38;5;241m=\u001b[39m[\u001b[38;5;241m0\u001b[39m,\u001b[38;5;241m1\u001b[39m,\u001b[38;5;241m2\u001b[39m,\u001b[38;5;241m3\u001b[39m])\n\u001b[0;32m      7\u001b[0m \u001b[38;5;28mprint\u001b[39m(\u001b[38;5;241m2.5\u001b[39m\u001b[38;5;241m<\u001b[39m\u001b[38;5;241m=\u001b[39m\u001b[38;5;241m2.49\u001b[39m)\n\u001b[1;32m----> 8\u001b[0m \u001b[38;5;28mprint\u001b[39m(\u001b[38;5;241m1\u001b[39m\u001b[38;5;241m+\u001b[39m\u001b[38;5;241m2\u001b[39mj\u001b[38;5;241m<\u001b[39m\u001b[38;5;241m=\u001b[39m\u001b[38;5;241m1\u001b[39m\u001b[38;5;241m+\u001b[39m\u001b[38;5;241m3\u001b[39mj)\n",
      "\u001b[1;31mTypeError\u001b[0m: '<=' not supported between instances of 'complex' and 'complex'"
     ]
    }
   ],
   "source": [
    "##(<=) Less than or equal to -> Returns true if the left operand is smaller than right or equal to the right operand.\n",
    "print(5<=5)\n",
    "print(5<=-5)\n",
    "print('ram'<='ram')\n",
    "print('ram'<='Ram')\n",
    "print([1,2,3,4]<=[0,1,2,3])\n",
    "print(2.5<=2.49)\n",
    "print(1+2j<=1+3j) # grater than not works with complex values.\n"
   ]
  },
  {
   "cell_type": "markdown",
   "id": "e1e6226a-58c3-4e7c-84b4-f87380360850",
   "metadata": {},
   "source": [
    "# ◈Assignment Operator"
   ]
  },
  {
   "cell_type": "markdown",
   "id": "e9d339f4-87d8-401c-b95f-f15f2ef0cddc",
   "metadata": {},
   "source": [
    "#### Assignment operaator used to assign values to the variables"
   ]
  },
  {
   "cell_type": "code",
   "execution_count": 62,
   "id": "3c641969-1190-4a6c-8ac5-080d1a8e0dd1",
   "metadata": {},
   "outputs": [
    {
     "name": "stdout",
     "output_type": "stream",
     "text": [
      "5\n",
      "15\n",
      "13\n",
      "26\n",
      "13.0\n",
      "6.5\n",
      "6.0\n",
      "36.0\n"
     ]
    }
   ],
   "source": [
    "#(=)Assign -> Assign the value on the right to the variable on the left\n",
    "x=5\n",
    "print(x)\n",
    "#(+=Add and assign -> Adds the right operand to the left operand and assign the result to the left\n",
    "x+=10\n",
    "print(x)\n",
    "#(-=) Substract and assign-> Substract the right operand from the left operand and assign to the left operand\n",
    "x-=2\n",
    "print(x)\n",
    "#(*=) Multiply and assign -> it multiply the right operand with the left and assign.\n",
    "x*=2\n",
    "print(x)\n",
    "#(/=) Divide and assign -> it devide the left operand by right one and assign to left.\n",
    "x/=2\n",
    "print(x)\n",
    "#(%=) Moudlous and assign -> it perform the modulous operation and assign the remindeer to the variable.\n",
    "x/=2\n",
    "print(x)\n",
    "#(//=) floor devide and assign-> it perform the floor division and assign the result to the left operand.\n",
    "x//=1\n",
    "print(x)\n",
    "#(**=) Exponention and assign -> it perform exponention operation and assign the result.\n",
    "x**=2\n",
    "print(x)\n"
   ]
  },
  {
   "cell_type": "markdown",
   "id": "1dc34a00-41c4-423c-8b28-ae4607ee4ec1",
   "metadata": {},
   "source": [
    "# Logical Operator"
   ]
  },
  {
   "cell_type": "markdown",
   "id": "5dafc7a3-82d5-4809-b415-72a2edd93d15",
   "metadata": {},
   "source": [
    "#### Logical operators are used to combine conditional statements.They evaluate expression and return boolean value."
   ]
  },
  {
   "cell_type": "markdown",
   "id": "1715a8db-32b9-4df3-8bfc-5673dbb7ab8c",
   "metadata": {},
   "source": [
    "|Operator| Description                   |Example|\n",
    "|--------|----------------------------------|-------|\n",
    "|and     |True if both operands are true|True and True ->True|\n",
    "|or|True if at least one operand is true|True or False-> True|\n",
    "|not|Reverses the result|not true->True|"
   ]
  },
  {
   "cell_type": "markdown",
   "id": "f1730b60-648d-4b53-89bb-a2b74fbbd0dd",
   "metadata": {},
   "source": [
    "truth table: AND\n",
    "\n",
    "|a|b|output|\n",
    "|-|-|------|\n",
    "|True|True|True|\n",
    "|True|False|False|\n",
    "|False|True|False|\n",
    "|False|False|False|\n",
    "\n",
    "Truth Table : OR\n",
    "|a|b|output|\n",
    "|-|-|------|\n",
    "|True|True|True|\n",
    "|True|False|True|\n",
    "|False|True|True|\n",
    "|False|False|False|\n",
    "\n",
    "Truth Table :NOT\n",
    "|b|output|\n",
    "|-|------|\n",
    "|True|False|\n",
    "|False|True|"
   ]
  },
  {
   "cell_type": "code",
   "execution_count": 85,
   "id": "082feae1-5071-4209-a5e7-5a6196537677",
   "metadata": {},
   "outputs": [
    {
     "name": "stdout",
     "output_type": "stream",
     "text": [
      "True\n",
      "False\n",
      "False\n",
      "True\n",
      "False\n",
      "True\n",
      "True\n"
     ]
    }
   ],
   "source": [
    "x=5\n",
    "y=10\n",
    "print(x>2 and y>5) #-> both condition are true-> TRUE\n",
    "print(x>7 and y>5) # -> False-> (x>7 is false)\n",
    "print(x>7 and y>11) #False-> both condition are fasle\n",
    "\n",
    "print(x>6 or y>5) # True -> one condition is true.\n",
    "print(x>6 or y>11) # False-> both conditions are false.\n",
    "print(x>4 or y>5) # True -> both conditions are true\n",
    "\n",
    "print(not x>6) #True-> (x>6 is false so it return the reverse)"
   ]
  },
  {
   "cell_type": "markdown",
   "id": "ebf420cf-4c27-4674-b265-83f7b08bdd54",
   "metadata": {},
   "source": [
    "# Identity Operators "
   ]
  },
  {
   "cell_type": "markdown",
   "id": "330084a7-0559-46b0-88d5-24d6ee5e6210",
   "metadata": {},
   "source": [
    "#### Identity operators are used to compare the memory location of two objects.\n"
   ]
  },
  {
   "cell_type": "markdown",
   "id": "4ebe1b4b-21b4-48b4-9e13-8ad95206d32a",
   "metadata": {},
   "source": [
    "|Operator|Description|Example|\n",
    "|--|--|--|\n",
    "|is|Returns True if both variables refer to the same object |x is y|\n",
    "|is not|Returns True if they do not refer to the same object|x is not y|"
   ]
  },
  {
   "cell_type": "code",
   "execution_count": 96,
   "id": "fc552b12-3121-48d4-95fa-3f095ed07354",
   "metadata": {},
   "outputs": [
    {
     "name": "stdout",
     "output_type": "stream",
     "text": [
      "False\n",
      "True\n",
      "True\n",
      "True\n"
     ]
    }
   ],
   "source": [
    "a=[1,2,3]\n",
    "b=[1,2,3]\n",
    "c=[1,2,3,4]\n",
    "d=a\n",
    "print(a is b) # False -> a & b is different objects with same values\n",
    "print(a is d) # True-> drefer to the same object a\n",
    "print(a ==b) # True-> they have same values\n",
    "print(a is not b)#True ->different objects\n"
   ]
  },
  {
   "cell_type": "markdown",
   "id": "97122c65-1d1e-4e71-bf5b-f28c24f96163",
   "metadata": {},
   "source": [
    "# ◈Membership Operator\n"
   ]
  },
  {
   "cell_type": "markdown",
   "id": "78709000-c618-4671-8572-c670cab3f5b3",
   "metadata": {},
   "source": [
    "#### Membership operator are used to test weather a value is exists in a sequence (string,list,tuple,.etc)"
   ]
  },
  {
   "cell_type": "code",
   "execution_count": 101,
   "id": "5aa6f69f-451c-4cf8-bc47-be7b920548fb",
   "metadata": {},
   "outputs": [
    {
     "name": "stdout",
     "output_type": "stream",
     "text": [
      "True\n",
      "True\n",
      "True\n",
      "False\n"
     ]
    }
   ],
   "source": [
    "num=['one','two','three','four']\n",
    "#(in ) -> Returns true if the value is exists\n",
    "print('one' in num)  # True -> value is exists in the sequence\n",
    "print('four' in num) # True -> Value found\n",
    "#(not in) ->returns true if the value does not exists\n",
    "print('five' not in num) # True-> value not present in sequence\n",
    "print('five' in num) # False -> five not present in the num"
   ]
  },
  {
   "cell_type": "markdown",
   "id": "d1f9e324-c02b-4933-ad99-fb18ad73f5a8",
   "metadata": {},
   "source": [
    "# Bitwise Operators "
   ]
  },
  {
   "cell_type": "markdown",
   "id": "af578faa-e30b-4053-afaf-5475f9821d6d",
   "metadata": {},
   "source": [
    "#### Bitwise operators work on bits and perform bit-by-bit operations.They are mainly used in low level programming,binary calculation, and perform tuning."
   ]
  },
  {
   "cell_type": "markdown",
   "id": "7949b589-6c91-40f4-88a9-391c2785fbcf",
   "metadata": {},
   "source": [
    "|Operator|Name|Description|Example|\n",
    "|--|--|---|---|\n",
    "|&|AND|sets 1 if both bits are 1|5&3 : (0101 & 0011= 0001)|\n",
    "|\\||or|sets 1 if at least one bit is 1||\n",
    "|^|xor|sets 1 if only one of the bit is 1|5^3(0101^0011=0110)|\n",
    "|~|compliment|inverts all bits|~5(-6)|\n",
    "|<<|Left shift|shifts bits to left|5<<(0101<<1=1010)|\n",
    "|>>|Right shift|shifts bits to right|5>>2(0101>>2=0010)|"
   ]
  },
  {
   "cell_type": "code",
   "execution_count": 112,
   "id": "55a92203-6963-4713-a41e-3845a039c46d",
   "metadata": {},
   "outputs": [
    {
     "name": "stdout",
     "output_type": "stream",
     "text": [
      "0\n",
      "0b1010\n",
      "0b101\n"
     ]
    }
   ],
   "source": [
    "a=10\n",
    "b=5\n",
    "print(a&b)  #0 -> 1010 & 0101 =0000\n",
    "print(bin(10))\n",
    "print(bin(5))\n"
   ]
  },
  {
   "cell_type": "code",
   "execution_count": 132,
   "id": "af2a8ce4-179a-40d8-b8d3-f08ba52c4153",
   "metadata": {},
   "outputs": [
    {
     "data": {
      "text/plain": [
       "15"
      ]
     },
     "execution_count": 132,
     "metadata": {},
     "output_type": "execute_result"
    }
   ],
   "source": [
    "#or \n",
    "a|b # 15-> 1010 & 0101=1111\n"
   ]
  },
  {
   "cell_type": "code",
   "execution_count": 134,
   "id": "ab4601d6-dc1c-49dd-8df9-5eb39720c735",
   "metadata": {},
   "outputs": [
    {
     "data": {
      "text/plain": [
       "15"
      ]
     },
     "execution_count": 134,
     "metadata": {},
     "output_type": "execute_result"
    }
   ],
   "source": [
    "#Xor\n",
    "a^b #15-> 1010 ^ 0101 = 1111"
   ]
  },
  {
   "cell_type": "code",
   "execution_count": 148,
   "id": "14970935-33b8-4a4a-9aa7-7966c29ef8bb",
   "metadata": {},
   "outputs": [
    {
     "data": {
      "text/plain": [
       "-11"
      ]
     },
     "execution_count": 148,
     "metadata": {},
     "output_type": "execute_result"
    }
   ],
   "source": [
    "~a # 11-> inverts bits \n"
   ]
  },
  {
   "cell_type": "code",
   "execution_count": 150,
   "id": "cc1a1296-6b7e-4d08-b9cc-97dabe4f5cd3",
   "metadata": {},
   "outputs": [
    {
     "data": {
      "text/plain": [
       "40"
      ]
     },
     "execution_count": 150,
     "metadata": {},
     "output_type": "execute_result"
    }
   ],
   "source": [
    "a<<2 # 40-> 1010=101000"
   ]
  },
  {
   "cell_type": "code",
   "execution_count": 156,
   "id": "a2eb6cd1-bc1f-4823-ba51-83417a99a67f",
   "metadata": {},
   "outputs": [
    {
     "data": {
      "text/plain": [
       "2"
      ]
     },
     "execution_count": 156,
     "metadata": {},
     "output_type": "execute_result"
    }
   ],
   "source": [
    "a>>2 # 10 -> 1010->10"
   ]
  },
  {
   "cell_type": "markdown",
   "id": "66815f3e-7f26-42e3-940c-e23a40913c4b",
   "metadata": {},
   "source": [
    "\n",
    "# Number System\n"
   ]
  },
  {
   "cell_type": "markdown",
   "id": "47a6b1a0-32f3-42e1-a527-e53150d211fe",
   "metadata": {},
   "source": [
    "#### Python allows conversions between number systems using built-in functions.\n"
   ]
  },
  {
   "cell_type": "markdown",
   "id": "73ab412e-e22e-4049-bced-b42666f46d7d",
   "metadata": {},
   "source": [
    "#### bin()-> converts to binary\n",
    "#### oct()-> converts to octal\n",
    "#### hex() -> converts to hexadecimal\n",
    "#### int()-> convert to decimal"
   ]
  },
  {
   "cell_type": "code",
   "execution_count": 186,
   "id": "7c0258f4-18ee-4a25-83ea-b1aa24cb4fe7",
   "metadata": {},
   "outputs": [
    {
     "name": "stdout",
     "output_type": "stream",
     "text": [
      "0b1011\n",
      "0b1011\n",
      "0b1011\n"
     ]
    }
   ],
   "source": [
    "print(bin(11)) # 0b1011\n",
    "print(bin(0o13)) \n",
    "print(bin(0xb))\n"
   ]
  },
  {
   "cell_type": "code",
   "execution_count": 176,
   "id": "b88656b5-6547-485a-bb16-6193d423ce72",
   "metadata": {},
   "outputs": [
    {
     "name": "stdout",
     "output_type": "stream",
     "text": [
      "0o14\n",
      "0o13\n",
      "0o20\n"
     ]
    }
   ],
   "source": [
    "#Octal number system\n",
    "print(oct(12))\n",
    "print(oct(0b1011))\n",
    "print(oct(0x10))"
   ]
  },
  {
   "cell_type": "code",
   "execution_count": 182,
   "id": "913a02c5-f7a6-4a96-9525-38d8cd9d25bf",
   "metadata": {},
   "outputs": [
    {
     "name": "stdout",
     "output_type": "stream",
     "text": [
      "0xc\n",
      "0xb\n",
      "0xc\n"
     ]
    }
   ],
   "source": [
    "#hexadecimal number system\n",
    "print(hex(12))\n",
    "print(hex(0b1011))\n",
    "print(hex(0o14))"
   ]
  },
  {
   "cell_type": "code",
   "execution_count": null,
   "id": "e1ebc00f-7a3e-4cff-a30a-be8b61fc05f0",
   "metadata": {},
   "outputs": [],
   "source": []
  }
 ],
 "metadata": {
  "kernelspec": {
   "display_name": "Python 3 (ipykernel)",
   "language": "python",
   "name": "python3"
  },
  "language_info": {
   "codemirror_mode": {
    "name": "ipython",
    "version": 3
   },
   "file_extension": ".py",
   "mimetype": "text/x-python",
   "name": "python",
   "nbconvert_exporter": "python",
   "pygments_lexer": "ipython3",
   "version": "3.12.4"
  }
 },
 "nbformat": 4,
 "nbformat_minor": 5
}
