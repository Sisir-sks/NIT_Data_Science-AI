{
 "cells": [
  {
   "cell_type": "markdown",
   "id": "ba470217-40d5-4811-917e-b49e345d9bc8",
   "metadata": {},
   "source": [
    "#Set Data Structure"
   ]
  },
  {
   "cell_type": "code",
   "execution_count": null,
   "id": "dc8396fa-7e1a-4cf6-9cd8-89e73e6e4618",
   "metadata": {},
   "outputs": [],
   "source": [
    "#Set Properties\n",
    "#Set data structure defined with {}\n",
    "#Set doesn't allow indexing\n",
    "##Set is a unorderd collectioin of elements.\n",
    "# Slicig is not allowed in set.\n",
    "# set cannot contain duplicate elements.\n",
    "# Set doesn't allow indexing.\n",
    "# Set can be created by using int,float,string,tuple,bool\n",
    "# Set cannot be defined with list,dict\n",
    "# Set is mutable in it we can add and remove object but the element value we cant change\n",
    "#======> Set Operation <=======\n",
    "# set.add(val) -> add an element to set but we can only pass one parameter\n",
    "# set.pop() -> it is a function that remove and return a random element of a set.\n",
    "# set.remove(val) -> remove function is used to remove a element from a set but it must be present in the set other wise it rises error.\n",
    "# set.discard(val) -> discard function used to remove a element form a set if it present , it cann't rise error if the element is not present in the set.\n",
    "# set.union()/ set1|set2 -> unioin it returns all the element of two sets\n"
   ]
  },
  {
   "cell_type": "code",
   "execution_count": 2,
   "id": "66dcdfe1-4d7c-468a-b188-aa838f4477c5",
   "metadata": {},
   "outputs": [
    {
     "data": {
      "text/plain": [
       "dict"
      ]
     },
     "execution_count": 2,
     "metadata": {},
     "output_type": "execute_result"
    }
   ],
   "source": [
    "s={} \n",
    "type(s)"
   ]
  },
  {
   "cell_type": "code",
   "execution_count": 4,
   "id": "45fc538a-836e-41aa-a4d0-9d46462fbc54",
   "metadata": {},
   "outputs": [
    {
     "data": {
      "text/plain": [
       "set"
      ]
     },
     "execution_count": 4,
     "metadata": {},
     "output_type": "execute_result"
    }
   ],
   "source": [
    "s=set() # defines a  empty set \n",
    "type(s)"
   ]
  },
  {
   "cell_type": "code",
   "execution_count": 8,
   "id": "961bfe09-7f61-4a18-9168-c7d2cd7da232",
   "metadata": {},
   "outputs": [],
   "source": [
    "#Add function\n",
    "s.add(20)\n",
    "s.add(10)\n",
    "s.add(100)\n",
    "s.add(25)\n"
   ]
  },
  {
   "cell_type": "code",
   "execution_count": 10,
   "id": "d9292cf9-03a8-48c9-8e1e-39f2debecba1",
   "metadata": {},
   "outputs": [
    {
     "data": {
      "text/plain": [
       "{10, 20, 25, 100}"
      ]
     },
     "execution_count": 10,
     "metadata": {},
     "output_type": "execute_result"
    }
   ],
   "source": [
    "s"
   ]
  },
  {
   "cell_type": "code",
   "execution_count": 12,
   "id": "0e47326f-48f6-49b9-bf7f-a6677a171f54",
   "metadata": {},
   "outputs": [
    {
     "data": {
      "text/plain": [
       "{(1+2j), 10, 9.5, True, 'nit'}"
      ]
     },
     "execution_count": 12,
     "metadata": {},
     "output_type": "execute_result"
    }
   ],
   "source": [
    "# set with mixed data types\n",
    "s1=set()\n",
    "s1.add(10)\n",
    "s1.add(9.5)\n",
    "s1.add(1+2j)\n",
    "s1.add(True)\n",
    "s1.add('nit')\n",
    "s1"
   ]
  },
  {
   "cell_type": "code",
   "execution_count": 14,
   "id": "af269580-c9eb-40ba-a708-4e4884cef1e7",
   "metadata": {},
   "outputs": [
    {
     "name": "stdout",
     "output_type": "stream",
     "text": [
      "{100, 25, 10, 20}\n",
      "{True, (1+2j), 9.5, 10, 'nit'}\n"
     ]
    }
   ],
   "source": [
    "print(s)\n",
    "print(s1)"
   ]
  },
  {
   "cell_type": "code",
   "execution_count": 18,
   "id": "06576a16-8a76-4cf7-9464-655dff135867",
   "metadata": {},
   "outputs": [
    {
     "ename": "TypeError",
     "evalue": "'set' object is not subscriptable",
     "output_type": "error",
     "traceback": [
      "\u001b[1;31m---------------------------------------------------------------------------\u001b[0m",
      "\u001b[1;31mTypeError\u001b[0m                                 Traceback (most recent call last)",
      "Cell \u001b[1;32mIn[18], line 2\u001b[0m\n\u001b[0;32m      1\u001b[0m \u001b[38;5;66;03m# set is doesn't allow indexing\u001b[39;00m\n\u001b[1;32m----> 2\u001b[0m s1[\u001b[38;5;241m0\u001b[39m]\n\u001b[0;32m      3\u001b[0m s1[\u001b[38;5;241m3\u001b[39m]\n\u001b[0;32m      4\u001b[0m s1[:]\n",
      "\u001b[1;31mTypeError\u001b[0m: 'set' object is not subscriptable"
     ]
    }
   ],
   "source": [
    "# set is doesn't allow indexing\n",
    "s1[0]\n",
    "s1[3]\n",
    "s1[:]\n",
    "s1[1:4]\n",
    "s1[-1]"
   ]
  },
  {
   "cell_type": "code",
   "execution_count": 20,
   "id": "40300a01-2b9e-48b8-b4ba-0bf13fd2412a",
   "metadata": {},
   "outputs": [
    {
     "data": {
      "text/plain": [
       "{(1+2j), 10, 9.5, True, 'nit'}"
      ]
     },
     "execution_count": 20,
     "metadata": {},
     "output_type": "execute_result"
    }
   ],
   "source": [
    "#Copy function\n",
    "# Returns a shallow copy of set\n",
    "#Syntax -> new_set=set.copy()\n",
    "s2=s1.copy()\n",
    "s2"
   ]
  },
  {
   "cell_type": "code",
   "execution_count": 22,
   "id": "79cc5b5e-e6a1-4ed6-a15c-c928a9fe7b12",
   "metadata": {},
   "outputs": [
    {
     "data": {
      "text/plain": [
       "True"
      ]
     },
     "execution_count": 22,
     "metadata": {},
     "output_type": "execute_result"
    }
   ],
   "source": [
    "s1==s2"
   ]
  },
  {
   "cell_type": "code",
   "execution_count": 24,
   "id": "c64183c3-ac94-4ac6-9624-46d65dcc3eb1",
   "metadata": {},
   "outputs": [
    {
     "data": {
      "text/plain": [
       "False"
      ]
     },
     "execution_count": 24,
     "metadata": {},
     "output_type": "execute_result"
    }
   ],
   "source": [
    "id(s1)==id(s2)"
   ]
  },
  {
   "cell_type": "code",
   "execution_count": 30,
   "id": "bf52488f-3681-44b1-8333-440093cec6fc",
   "metadata": {},
   "outputs": [
    {
     "data": {
      "text/plain": [
       "9.5"
      ]
     },
     "execution_count": 30,
     "metadata": {},
     "output_type": "execute_result"
    }
   ],
   "source": [
    "#Pop Function\n",
    "#Syntax-> set.pop()\n",
    "s2 \n",
    "s2.pop() # it return & removes a rendom element from set"
   ]
  },
  {
   "cell_type": "code",
   "execution_count": 28,
   "id": "cd7eba84-7021-4eba-905d-419b1168cfe6",
   "metadata": {},
   "outputs": [
    {
     "data": {
      "text/plain": [
       "(1+2j)"
      ]
     },
     "execution_count": 28,
     "metadata": {},
     "output_type": "execute_result"
    }
   ],
   "source": [
    "s2.pop()"
   ]
  },
  {
   "cell_type": "code",
   "execution_count": 32,
   "id": "d75eda24-c61c-4b30-a72d-74d6e068fd78",
   "metadata": {},
   "outputs": [
    {
     "name": "stdout",
     "output_type": "stream",
     "text": [
      "{True, (1+2j), 9.5, 10, 'nit'}\n",
      "{True, (1+2j), 9.5, 10}\n"
     ]
    }
   ],
   "source": [
    "#Remove Function\n",
    "#Syntax-> set.remove(val) \n",
    "#Remove function is used to remove a element from a set but it must be present in the set other wise it rises error.\n",
    "s3=s1.copy()\n",
    "print(s3)\n",
    "s3.remove('nit')\n",
    "print(s3)\n"
   ]
  },
  {
   "cell_type": "code",
   "execution_count": 34,
   "id": "af5027e7-060b-49c1-b998-f0f54acf44aa",
   "metadata": {},
   "outputs": [
    {
     "name": "stdout",
     "output_type": "stream",
     "text": [
      "{10, 'nit'}\n",
      "set()\n"
     ]
    },
    {
     "data": {
      "text/plain": [
       "set"
      ]
     },
     "execution_count": 34,
     "metadata": {},
     "output_type": "execute_result"
    }
   ],
   "source": [
    "#Clear Function\n",
    "#Clear function remove all the element and returns a empty set\n",
    "#Syntax-> set_name.clear()\n",
    "print(s2)\n",
    "s2.clear()\n",
    "print(s2)\n",
    "type(s2)"
   ]
  },
  {
   "cell_type": "code",
   "execution_count": 36,
   "id": "94fc6000-09f5-4aaa-aad4-10984a97eb94",
   "metadata": {},
   "outputs": [
    {
     "name": "stdout",
     "output_type": "stream",
     "text": [
      "{True, (1+2j), 9.5, 10}\n",
      "{True, (1+2j), 9.5}\n"
     ]
    }
   ],
   "source": [
    "# Discard fUnction\n",
    "# discard function used to remove a element form a set if it present , it cann't rise error if the element is not present in the set.\n",
    "# Syntax-> set.discard(val) \n",
    "print(s3)\n",
    "s3.discard(10) #Removes present value in the set\n",
    "s3.discard(1000) # if the value is not present in the set doesn't rises error.\n",
    "print(s3)"
   ]
  },
  {
   "cell_type": "code",
   "execution_count": 40,
   "id": "c3aa12cd-7465-4f13-a636-703eed169f2d",
   "metadata": {},
   "outputs": [
    {
     "data": {
      "text/plain": [
       "True"
      ]
     },
     "execution_count": 40,
     "metadata": {},
     "output_type": "execute_result"
    }
   ],
   "source": [
    "#Set Membership\n",
    "# set membership is used to find a perticular elemnet is belongs to the set or not and it return bool value\n",
    "# Syntax-> element in set\n",
    "s4={10,20,30,40,50}\n",
    "10 in s4"
   ]
  },
  {
   "cell_type": "code",
   "execution_count": 42,
   "id": "88ea1fa8-b8b3-4e1a-92fd-e3e9d4801018",
   "metadata": {},
   "outputs": [
    {
     "data": {
      "text/plain": [
       "False"
      ]
     },
     "execution_count": 42,
     "metadata": {},
     "output_type": "execute_result"
    }
   ],
   "source": [
    "60 in s4"
   ]
  },
  {
   "cell_type": "code",
   "execution_count": 44,
   "id": "3863b0a1-0d1d-42cb-838c-783289bbedc7",
   "metadata": {},
   "outputs": [
    {
     "name": "stdout",
     "output_type": "stream",
     "text": [
      "50\n",
      "20\n",
      "40\n",
      "10\n",
      "30\n"
     ]
    }
   ],
   "source": [
    "#we can use for loop for access / itrrate elements over a sequence\n",
    "for i in s4:\n",
    "    print(i)"
   ]
  },
  {
   "cell_type": "code",
   "execution_count": 46,
   "id": "9b4022e5-e337-4ddc-ba7b-83407ad5da28",
   "metadata": {},
   "outputs": [
    {
     "name": "stdout",
     "output_type": "stream",
     "text": [
      "(0, 50)\n",
      "(1, 20)\n",
      "(2, 40)\n",
      "(3, 10)\n",
      "(4, 30)\n"
     ]
    }
   ],
   "source": [
    "for i in enumerate(s4):\n",
    "    print(i)"
   ]
  },
  {
   "cell_type": "code",
   "execution_count": 48,
   "id": "86c1b60d-b617-46b1-87cd-5515ae6295dd",
   "metadata": {},
   "outputs": [
    {
     "data": {
      "text/plain": [
       "{1, 2, 3, 4, 5, 6, 7, 8}"
      ]
     },
     "execution_count": 48,
     "metadata": {},
     "output_type": "execute_result"
    }
   ],
   "source": [
    "#Union \n",
    "#Union returns the combined value of two different set without the duplicating the values\n",
    "#Syntax-> a.union(b)    or  a|b\n",
    "a={1,2,3,4,5}\n",
    "b={4,5,6,7,8}\n",
    "c={8,9,10}\n",
    "a.union(b)"
   ]
  },
  {
   "cell_type": "code",
   "execution_count": 50,
   "id": "8def472c-9f75-450c-a184-bc2faa1b340b",
   "metadata": {},
   "outputs": [
    {
     "data": {
      "text/plain": [
       "{1, 2, 3, 4, 5, 6, 7, 8}"
      ]
     },
     "execution_count": 50,
     "metadata": {},
     "output_type": "execute_result"
    }
   ],
   "source": [
    "#or \n",
    "a|b"
   ]
  },
  {
   "cell_type": "code",
   "execution_count": 52,
   "id": "2a65ae5a-5ae1-4157-963f-8e75b5712568",
   "metadata": {},
   "outputs": [
    {
     "data": {
      "text/plain": [
       "{1, 2, 3, 4, 5, 6, 7, 8, 9, 10}"
      ]
     },
     "execution_count": 52,
     "metadata": {},
     "output_type": "execute_result"
    }
   ],
   "source": [
    "#we can perform union with multiple sets\n",
    "a|b|c"
   ]
  },
  {
   "cell_type": "code",
   "execution_count": 54,
   "id": "3cb1939b-e17a-4e39-a504-4df260b46787",
   "metadata": {},
   "outputs": [
    {
     "name": "stdout",
     "output_type": "stream",
     "text": [
      "{1, 2, 3, 4, 5}\n",
      "{4, 5, 6, 7, 8}\n",
      "{8, 9, 10}\n"
     ]
    },
    {
     "data": {
      "text/plain": [
       "{1, 2, 3}"
      ]
     },
     "execution_count": 54,
     "metadata": {},
     "output_type": "execute_result"
    }
   ],
   "source": [
    "# Difference\n",
    "# Difference returns the elements of primary set without the common elements betwen primary and secondary set\n",
    "# Syntax-> a.difference(b)\n",
    "print(a)\n",
    "print(b)\n",
    "print(c)\n",
    "a.difference(b)"
   ]
  },
  {
   "cell_type": "code",
   "execution_count": 56,
   "id": "e4d6ca02-fbd6-44b4-9007-f2b0d239b232",
   "metadata": {},
   "outputs": [],
   "source": [
    "# here in 'a' and 'b' 4,5 is common so it returns 1,2,3 without the common elements "
   ]
  },
  {
   "cell_type": "code",
   "execution_count": 60,
   "id": "96decae0-a2a6-48d6-afc5-c2af5b0346c5",
   "metadata": {},
   "outputs": [
    {
     "data": {
      "text/plain": [
       "{4, 5, 6, 7}"
      ]
     },
     "execution_count": 60,
     "metadata": {},
     "output_type": "execute_result"
    }
   ],
   "source": [
    "b.difference(c) # here one element '8' is common so it will return all element of b without 8"
   ]
  },
  {
   "cell_type": "code",
   "execution_count": 64,
   "id": "0c6377d3-af15-47e7-9e4f-7092eab46c21",
   "metadata": {},
   "outputs": [
    {
     "data": {
      "text/plain": [
       "{8, 9, 10}"
      ]
     },
     "execution_count": 64,
     "metadata": {},
     "output_type": "execute_result"
    }
   ],
   "source": [
    "c.difference(a) # Here is no common element so it will return all the element of c"
   ]
  },
  {
   "cell_type": "code",
   "execution_count": null,
   "id": "03e9cc6e-2e16-41f4-9688-de054804f461",
   "metadata": {},
   "outputs": [],
   "source": []
  }
 ],
 "metadata": {
  "kernelspec": {
   "display_name": "Python 3 (ipykernel)",
   "language": "python",
   "name": "python3"
  },
  "language_info": {
   "codemirror_mode": {
    "name": "ipython",
    "version": 3
   },
   "file_extension": ".py",
   "mimetype": "text/x-python",
   "name": "python",
   "nbconvert_exporter": "python",
   "pygments_lexer": "ipython3",
   "version": "3.12.4"
  }
 },
 "nbformat": 4,
 "nbformat_minor": 5
}
