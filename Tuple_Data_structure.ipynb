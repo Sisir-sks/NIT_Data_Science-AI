{
 "cells": [
  {
   "cell_type": "markdown",
   "id": "b5d79625-2fa6-4a1f-b20d-9a04a3c04b32",
   "metadata": {},
   "source": [
    "#Tuple"
   ]
  },
  {
   "cell_type": "code",
   "execution_count": 5,
   "id": "49f51b44-bad7-4dbc-b221-c99887423c95",
   "metadata": {},
   "outputs": [
    {
     "data": {
      "text/plain": [
       "()"
      ]
     },
     "execution_count": 5,
     "metadata": {},
     "output_type": "execute_result"
    }
   ],
   "source": [
    "#tuple defines with ()\n",
    "t=()\n",
    "t"
   ]
  },
  {
   "cell_type": "code",
   "execution_count": 7,
   "id": "2651750a-b820-4dc1-b051-4d3f1512f3d7",
   "metadata": {},
   "outputs": [
    {
     "data": {
      "text/plain": [
       "tuple"
      ]
     },
     "execution_count": 7,
     "metadata": {},
     "output_type": "execute_result"
    }
   ],
   "source": [
    "type(t)"
   ]
  },
  {
   "cell_type": "code",
   "execution_count": 9,
   "id": "8a743bdc-faf7-4c52-af40-f0ed87a588aa",
   "metadata": {},
   "outputs": [],
   "source": [
    "t=(10,20,30)"
   ]
  },
  {
   "cell_type": "code",
   "execution_count": 11,
   "id": "8c531b44-d187-44df-8715-f7ae3f9639f0",
   "metadata": {},
   "outputs": [],
   "source": [
    "#====Properties of Tuple====\n",
    "#Tuple is immuatable\n",
    "#Tuple supports indexing\n",
    "#Tupple defines with ()\n",
    "#Tuple supports multiple data types\n",
    "#Tuple allows duplicate values/arguments\n",
    "#==== List has some function ====\n",
    "#-> sorted()"
   ]
  },
  {
   "cell_type": "code",
   "execution_count": 13,
   "id": "9a266e7a-0702-40a7-8792-bd526f9e9830",
   "metadata": {},
   "outputs": [
    {
     "ename": "AttributeError",
     "evalue": "'tuple' object has no attribute 'append'",
     "output_type": "error",
     "traceback": [
      "\u001b[1;31m---------------------------------------------------------------------------\u001b[0m",
      "\u001b[1;31mAttributeError\u001b[0m                            Traceback (most recent call last)",
      "Cell \u001b[1;32mIn[13], line 1\u001b[0m\n\u001b[1;32m----> 1\u001b[0m t\u001b[38;5;241m.\u001b[39mappend(\u001b[38;5;241m40\u001b[39m)\n",
      "\u001b[1;31mAttributeError\u001b[0m: 'tuple' object has no attribute 'append'"
     ]
    }
   ],
   "source": [
    "t.append(40) # it is immutable(not changeable) so it causes error"
   ]
  },
  {
   "cell_type": "code",
   "execution_count": 15,
   "id": "a460c08b-7d30-4d1f-b17c-bc688c52fdfc",
   "metadata": {},
   "outputs": [
    {
     "data": {
      "text/plain": [
       "('alex', 1234567890, 'chip589', 2000)"
      ]
     },
     "execution_count": 15,
     "metadata": {},
     "output_type": "execute_result"
    }
   ],
   "source": [
    "sbi=('alex',1234567890,'chip589',2000)\n",
    "sbi"
   ]
  },
  {
   "cell_type": "code",
   "execution_count": 31,
   "id": "f495f556-18c4-4247-8801-a6cda65ed360",
   "metadata": {},
   "outputs": [],
   "source": [
    "t1=(10,20,30)"
   ]
  },
  {
   "cell_type": "code",
   "execution_count": 33,
   "id": "1b85f4c5-2fc7-4d69-8329-2bd8bb94874b",
   "metadata": {},
   "outputs": [
    {
     "data": {
      "text/plain": [
       "(10, 20, 30, 10, 20, 30, 10, 20, 30)"
      ]
     },
     "execution_count": 33,
     "metadata": {},
     "output_type": "execute_result"
    }
   ],
   "source": [
    "t1*3"
   ]
  },
  {
   "cell_type": "code",
   "execution_count": 37,
   "id": "ef40a354-9dd9-4223-b9be-fd1bbdb92a26",
   "metadata": {},
   "outputs": [
    {
     "data": {
      "text/plain": [
       "1"
      ]
     },
     "execution_count": 37,
     "metadata": {},
     "output_type": "execute_result"
    }
   ],
   "source": [
    "t1.count(20)"
   ]
  },
  {
   "cell_type": "code",
   "execution_count": 39,
   "id": "aea78001-4d65-428c-b873-c0959cd40aae",
   "metadata": {},
   "outputs": [
    {
     "name": "stdout",
     "output_type": "stream",
     "text": [
      "10\n",
      "20\n",
      "30\n"
     ]
    }
   ],
   "source": [
    "for i in t1:\n",
    "    print(i)"
   ]
  },
  {
   "cell_type": "code",
   "execution_count": 41,
   "id": "0e8da86b-d787-46e3-a5ce-70096160463a",
   "metadata": {},
   "outputs": [
    {
     "data": {
      "text/plain": [
       "(10, 20, 30)"
      ]
     },
     "execution_count": 41,
     "metadata": {},
     "output_type": "execute_result"
    }
   ],
   "source": [
    "t1[:]"
   ]
  },
  {
   "cell_type": "code",
   "execution_count": 43,
   "id": "98436d3a-e157-4fa7-98cb-a9137bb3e7f1",
   "metadata": {},
   "outputs": [
    {
     "data": {
      "text/plain": [
       "(20, 30)"
      ]
     },
     "execution_count": 43,
     "metadata": {},
     "output_type": "execute_result"
    }
   ],
   "source": [
    "t1[1:]"
   ]
  },
  {
   "cell_type": "code",
   "execution_count": 45,
   "id": "ff4dae0c-072f-4db5-833b-6cc18b628b11",
   "metadata": {},
   "outputs": [
    {
     "ename": "SyntaxError",
     "evalue": "invalid syntax (1629676674.py, line 1)",
     "output_type": "error",
     "traceback": [
      "\u001b[1;36m  Cell \u001b[1;32mIn[45], line 1\u001b[1;36m\u001b[0m\n\u001b[1;33m    t1(:)\u001b[0m\n\u001b[1;37m       ^\u001b[0m\n\u001b[1;31mSyntaxError\u001b[0m\u001b[1;31m:\u001b[0m invalid syntax\n"
     ]
    }
   ],
   "source": [
    "t1(:) # slicing is only work with []"
   ]
  },
  {
   "cell_type": "code",
   "execution_count": 47,
   "id": "a51d5945-bc9f-4cb0-abc8-4ccea6cb8e8b",
   "metadata": {},
   "outputs": [
    {
     "ename": "AttributeError",
     "evalue": "'tuple' object has no attribute 'remove'",
     "output_type": "error",
     "traceback": [
      "\u001b[1;31m---------------------------------------------------------------------------\u001b[0m",
      "\u001b[1;31mAttributeError\u001b[0m                            Traceback (most recent call last)",
      "Cell \u001b[1;32mIn[47], line 1\u001b[0m\n\u001b[1;32m----> 1\u001b[0m t1\u001b[38;5;241m.\u001b[39mremove(\u001b[38;5;241m10\u001b[39m)\n",
      "\u001b[1;31mAttributeError\u001b[0m: 'tuple' object has no attribute 'remove'"
     ]
    }
   ],
   "source": [
    "t1.remove(10)"
   ]
  },
  {
   "cell_type": "code",
   "execution_count": 49,
   "id": "f898d37e-7566-43b3-8a08-de4dc6f39d96",
   "metadata": {},
   "outputs": [
    {
     "ename": "NameError",
     "evalue": "name 't1' is not defined",
     "output_type": "error",
     "traceback": [
      "\u001b[1;31m---------------------------------------------------------------------------\u001b[0m",
      "\u001b[1;31mNameError\u001b[0m                                 Traceback (most recent call last)",
      "Cell \u001b[1;32mIn[49], line 2\u001b[0m\n\u001b[0;32m      1\u001b[0m \u001b[38;5;28;01mdel\u001b[39;00m t1\n\u001b[1;32m----> 2\u001b[0m t1\n",
      "\u001b[1;31mNameError\u001b[0m: name 't1' is not defined"
     ]
    }
   ],
   "source": [
    "del t1\n",
    "t1"
   ]
  },
  {
   "cell_type": "markdown",
   "id": "6f660df8-5033-4a73-be9a-dd21ac788ad0",
   "metadata": {},
   "source": [
    "#Tuple "
   ]
  },
  {
   "cell_type": "code",
   "execution_count": 52,
   "id": "e22cc42f-5a43-4428-96aa-7f65d9b52a71",
   "metadata": {},
   "outputs": [],
   "source": [
    "tup1=() #Empty Tuple"
   ]
  },
  {
   "cell_type": "code",
   "execution_count": 54,
   "id": "f4aa64d6-b242-4db5-b263-71aaa00f87ce",
   "metadata": {},
   "outputs": [],
   "source": [
    "tup2=(10,20,30) # tuple of integer numbers"
   ]
  },
  {
   "cell_type": "code",
   "execution_count": 56,
   "id": "ea88bee9-cd8e-4e48-a850-e4fc421077cb",
   "metadata": {},
   "outputs": [],
   "source": [
    "tup3=(10.77,30.55,60.52)  #tuple of float numbers"
   ]
  },
  {
   "cell_type": "code",
   "execution_count": 58,
   "id": "31e1d49e-100c-446c-9441-aafa2b14de6b",
   "metadata": {},
   "outputs": [],
   "source": [
    "tup4=('one','two','three') #tuple of string"
   ]
  },
  {
   "cell_type": "code",
   "execution_count": 60,
   "id": "1f44a4be-bc8c-41e9-a681-ac9cfd5d75b7",
   "metadata": {},
   "outputs": [],
   "source": [
    "tup5=('alex',25,(50,100),(160,90)) #nested tuples\n"
   ]
  },
  {
   "cell_type": "code",
   "execution_count": 62,
   "id": "72f35c00-bef8-4f1c-815a-ebd62373bae8",
   "metadata": {},
   "outputs": [],
   "source": [
    "tup6=(100,'alex',17.777) # tuple of mixed data types"
   ]
  },
  {
   "cell_type": "code",
   "execution_count": 64,
   "id": "87c34b0b-963f-45c5-99b9-8f26ae981975",
   "metadata": {},
   "outputs": [],
   "source": [
    "tup7=('alex',25,[50,100],[160,90],{'john','david'},(999,52,36))"
   ]
  },
  {
   "cell_type": "code",
   "execution_count": 66,
   "id": "06f2a175-0027-4c33-b5c5-44174d61e05e",
   "metadata": {},
   "outputs": [
    {
     "data": {
      "text/plain": [
       "6"
      ]
     },
     "execution_count": 66,
     "metadata": {},
     "output_type": "execute_result"
    }
   ],
   "source": [
    "len(tup7)"
   ]
  },
  {
   "cell_type": "markdown",
   "id": "e107e08e-4fd7-4ec1-a350-4a3b590400e7",
   "metadata": {},
   "source": [
    "#Tuple indexing"
   ]
  },
  {
   "cell_type": "code",
   "execution_count": 71,
   "id": "e00442a9-e654-4b32-9363-de52c64cb70a",
   "metadata": {},
   "outputs": [
    {
     "data": {
      "text/plain": [
       "10"
      ]
     },
     "execution_count": 71,
     "metadata": {},
     "output_type": "execute_result"
    }
   ],
   "source": [
    "#Retrive first element of tuple\n",
    "tup2[0]"
   ]
  },
  {
   "cell_type": "code",
   "execution_count": 75,
   "id": "5e6b2dd3-1667-433a-a38b-873110a8b05d",
   "metadata": {},
   "outputs": [
    {
     "data": {
      "text/plain": [
       "'o'"
      ]
     },
     "execution_count": 75,
     "metadata": {},
     "output_type": "execute_result"
    }
   ],
   "source": [
    "#Nested indexing -access the first character of first element of the tuple\n",
    "tup4[0][0]"
   ]
  },
  {
   "cell_type": "code",
   "execution_count": 79,
   "id": "088f35d8-8346-43fa-89cc-a683b6eede3c",
   "metadata": {},
   "outputs": [
    {
     "data": {
      "text/plain": [
       "'three'"
      ]
     },
     "execution_count": 79,
     "metadata": {},
     "output_type": "execute_result"
    }
   ],
   "source": [
    "#Access the last element of the tuple\n",
    "tup4[-1]"
   ]
  },
  {
   "cell_type": "code",
   "execution_count": 81,
   "id": "a816c80d-c83e-4c07-957e-d83642adec75",
   "metadata": {},
   "outputs": [
    {
     "data": {
      "text/plain": [
       "(999, 52, 36)"
      ]
     },
     "execution_count": 81,
     "metadata": {},
     "output_type": "execute_result"
    }
   ],
   "source": [
    "tup7[-1]"
   ]
  },
  {
   "cell_type": "markdown",
   "id": "7e475631-b4ad-434b-a173-9e3f2878ad67",
   "metadata": {},
   "source": [
    "#Tuple Slicing"
   ]
  },
  {
   "cell_type": "code",
   "execution_count": 86,
   "id": "e2d5ea5c-91b8-483f-8ddf-0d1e3e0e5aa8",
   "metadata": {},
   "outputs": [
    {
     "data": {
      "text/plain": [
       "('one', 'two', 'three', 'four', 'five', 'six', 'seven', 'eight')"
      ]
     },
     "execution_count": 86,
     "metadata": {},
     "output_type": "execute_result"
    }
   ],
   "source": [
    "tup8=('one','two','three','four','five','six','seven','eight')\n",
    "tup8"
   ]
  },
  {
   "cell_type": "code",
   "execution_count": 88,
   "id": "8968c116-a253-4962-bf8b-6fb054ce0682",
   "metadata": {},
   "outputs": [
    {
     "data": {
      "text/plain": [
       "('one', 'two', 'three', 'four', 'five', 'six', 'seven', 'eight')"
      ]
     },
     "execution_count": 88,
     "metadata": {},
     "output_type": "execute_result"
    }
   ],
   "source": [
    "tup8[:] # Returns aall the items"
   ]
  },
  {
   "cell_type": "code",
   "execution_count": 90,
   "id": "3d356e76-88f4-4211-af6c-bdeb0b1df5b8",
   "metadata": {},
   "outputs": [
    {
     "data": {
      "text/plain": [
       "('one', 'two', 'three')"
      ]
     },
     "execution_count": 90,
     "metadata": {},
     "output_type": "execute_result"
    }
   ],
   "source": [
    "tup8[0:3] #Return all the items from 0 to 3rd index exc;uding the item"
   ]
  },
  {
   "cell_type": "code",
   "execution_count": 94,
   "id": "76695d7e-eeb7-495a-b17d-6182f7987353",
   "metadata": {},
   "outputs": [
    {
     "data": {
      "text/plain": [
       "('three', 'four', 'five')"
      ]
     },
     "execution_count": 94,
     "metadata": {},
     "output_type": "execute_result"
    }
   ],
   "source": [
    "tup8[2:5] #Return items from 2 to 5 index location excluding the item"
   ]
  },
  {
   "cell_type": "code",
   "execution_count": 96,
   "id": "0aaffbf3-48a0-42c0-8cbd-a3e6b77918cd",
   "metadata": {},
   "outputs": [
    {
     "data": {
      "text/plain": [
       "('one', 'two', 'three')"
      ]
     },
     "execution_count": 96,
     "metadata": {},
     "output_type": "execute_result"
    }
   ],
   "source": [
    "tup8[:3] # returns first 3 items"
   ]
  },
  {
   "cell_type": "code",
   "execution_count": 98,
   "id": "3e6f10c4-b35d-446c-ba59-207dcf8f122d",
   "metadata": {},
   "outputs": [
    {
     "data": {
      "text/plain": [
       "('six', 'seven', 'eight')"
      ]
     },
     "execution_count": 98,
     "metadata": {},
     "output_type": "execute_result"
    }
   ],
   "source": [
    "tup8[-3:] # return last 3 items"
   ]
  },
  {
   "cell_type": "code",
   "execution_count": 102,
   "id": "158b3d15-f5c4-41e0-a9f3-0ef8a9a2ddfe",
   "metadata": {},
   "outputs": [
    {
     "data": {
      "text/plain": [
       "('four', 'five', 'six', 'seven')"
      ]
     },
     "execution_count": 102,
     "metadata": {},
     "output_type": "execute_result"
    }
   ],
   "source": [
    "tup8[-5:-1] #return -5 to (-1-1=-2) -2"
   ]
  },
  {
   "cell_type": "code",
   "execution_count": 106,
   "id": "59ddc42d-4342-4400-9e95-5f6a458bb156",
   "metadata": {},
   "outputs": [
    {
     "data": {
      "text/plain": [
       "'eight'"
      ]
     },
     "execution_count": 106,
     "metadata": {},
     "output_type": "execute_result"
    }
   ],
   "source": [
    "tup8[-1] # return last item of the tuple"
   ]
  },
  {
   "cell_type": "markdown",
   "id": "98a12cb0-fde2-4295-aaae-869d9939e6d9",
   "metadata": {},
   "source": [
    "#Remove & Change Items"
   ]
  },
  {
   "cell_type": "code",
   "execution_count": 111,
   "id": "c4cd6955-80fa-467a-97fc-eeecc03b4635",
   "metadata": {},
   "outputs": [
    {
     "data": {
      "text/plain": [
       "('one', 'two', 'three', 'four', 'five', 'six', 'seven', 'eight')"
      ]
     },
     "execution_count": 111,
     "metadata": {},
     "output_type": "execute_result"
    }
   ],
   "source": [
    "tup8"
   ]
  },
  {
   "cell_type": "code",
   "execution_count": 113,
   "id": "ee86568c-4dff-401c-83bc-fa582dfa8e58",
   "metadata": {},
   "outputs": [],
   "source": [
    "#tuples are immutable  so we can't change the tuple items"
   ]
  },
  {
   "cell_type": "code",
   "execution_count": 115,
   "id": "6e6514ab-01e6-4c74-87d9-f29b7aad0107",
   "metadata": {},
   "outputs": [
    {
     "ename": "TypeError",
     "evalue": "'tuple' object doesn't support item deletion",
     "output_type": "error",
     "traceback": [
      "\u001b[1;31m---------------------------------------------------------------------------\u001b[0m",
      "\u001b[1;31mTypeError\u001b[0m                                 Traceback (most recent call last)",
      "Cell \u001b[1;32mIn[115], line 1\u001b[0m\n\u001b[1;32m----> 1\u001b[0m \u001b[38;5;28;01mdel\u001b[39;00m tup8[\u001b[38;5;241m0\u001b[39m]\n",
      "\u001b[1;31mTypeError\u001b[0m: 'tuple' object doesn't support item deletion"
     ]
    }
   ],
   "source": [
    "del tup8[0] #we cant delete tuple items "
   ]
  },
  {
   "cell_type": "code",
   "execution_count": 117,
   "id": "6feff074-2c9a-4aca-b3e7-47e1940c87ca",
   "metadata": {},
   "outputs": [
    {
     "ename": "TypeError",
     "evalue": "'tuple' object does not support item assignment",
     "output_type": "error",
     "traceback": [
      "\u001b[1;31m---------------------------------------------------------------------------\u001b[0m",
      "\u001b[1;31mTypeError\u001b[0m                                 Traceback (most recent call last)",
      "Cell \u001b[1;32mIn[117], line 1\u001b[0m\n\u001b[1;32m----> 1\u001b[0m tup8[\u001b[38;5;241m0\u001b[39m]\u001b[38;5;241m=\u001b[39m\u001b[38;5;241m1\u001b[39m\n",
      "\u001b[1;31mTypeError\u001b[0m: 'tuple' object does not support item assignment"
     ]
    }
   ],
   "source": [
    "tup8[0]=1"
   ]
  },
  {
   "cell_type": "code",
   "execution_count": 119,
   "id": "1feb7687-9cb9-4589-b10d-eb0191d6cb41",
   "metadata": {},
   "outputs": [
    {
     "ename": "NameError",
     "evalue": "name 'tup8' is not defined",
     "output_type": "error",
     "traceback": [
      "\u001b[1;31m---------------------------------------------------------------------------\u001b[0m",
      "\u001b[1;31mNameError\u001b[0m                                 Traceback (most recent call last)",
      "Cell \u001b[1;32mIn[119], line 3\u001b[0m\n\u001b[0;32m      1\u001b[0m \u001b[38;5;66;03m#Deleting entire tuple is possible\u001b[39;00m\n\u001b[0;32m      2\u001b[0m \u001b[38;5;28;01mdel\u001b[39;00m tup8\n\u001b[1;32m----> 3\u001b[0m tup8\n",
      "\u001b[1;31mNameError\u001b[0m: name 'tup8' is not defined"
     ]
    }
   ],
   "source": [
    "#Deleting entire tuple is possible\n",
    "del tup8\n",
    "tup8"
   ]
  },
  {
   "cell_type": "markdown",
   "id": "1f062a1e-f483-4c15-97f6-79d49467f77a",
   "metadata": {},
   "source": [
    "#Loop through Tuple"
   ]
  },
  {
   "cell_type": "code",
   "execution_count": 122,
   "id": "e059ce98-a728-4f76-b1d2-e7e3113fb118",
   "metadata": {},
   "outputs": [],
   "source": [
    "tup8=('one','two','three','four','five','six','seven','eight')\n"
   ]
  },
  {
   "cell_type": "code",
   "execution_count": 126,
   "id": "c9f33c00-baea-42b7-8611-dbb78461e34e",
   "metadata": {},
   "outputs": [
    {
     "name": "stdout",
     "output_type": "stream",
     "text": [
      "one\n",
      "two\n",
      "three\n",
      "four\n",
      "five\n",
      "six\n",
      "seven\n",
      "eight\n"
     ]
    }
   ],
   "source": [
    "for i in tup8:\n",
    "    print(i)"
   ]
  },
  {
   "cell_type": "code",
   "execution_count": 128,
   "id": "a110653d-6689-4b73-9f5e-49d473c195eb",
   "metadata": {},
   "outputs": [
    {
     "name": "stdout",
     "output_type": "stream",
     "text": [
      "(0, 'one')\n",
      "(1, 'two')\n",
      "(2, 'three')\n",
      "(3, 'four')\n",
      "(4, 'five')\n",
      "(5, 'six')\n",
      "(6, 'seven')\n",
      "(7, 'eight')\n"
     ]
    }
   ],
   "source": [
    "for i in enumerate(tup8):\n",
    "    print(i)"
   ]
  },
  {
   "cell_type": "markdown",
   "id": "cb125b5a-6485-4bbe-b6d3-a50915de0513",
   "metadata": {},
   "source": [
    "#Tuple Membership"
   ]
  },
  {
   "cell_type": "code",
   "execution_count": 131,
   "id": "b70b2879-459a-4b30-84a3-a9eeeeb719b7",
   "metadata": {},
   "outputs": [
    {
     "data": {
      "text/plain": [
       "('one', 'two', 'three', 'four', 'five', 'six', 'seven', 'eight')"
      ]
     },
     "execution_count": 131,
     "metadata": {},
     "output_type": "execute_result"
    }
   ],
   "source": [
    "tup8"
   ]
  },
  {
   "cell_type": "code",
   "execution_count": 133,
   "id": "ff457f83-1b1a-4d1e-8a68-b284ae645ed6",
   "metadata": {},
   "outputs": [
    {
     "data": {
      "text/plain": [
       "True"
      ]
     },
     "execution_count": 133,
     "metadata": {},
     "output_type": "execute_result"
    }
   ],
   "source": [
    "'one' in tup8 # it return true if the value is exist in the tuple"
   ]
  },
  {
   "cell_type": "code",
   "execution_count": 135,
   "id": "7a8f373e-5259-4ad3-9f14-8b7e0915fa02",
   "metadata": {},
   "outputs": [
    {
     "data": {
      "text/plain": [
       "False"
      ]
     },
     "execution_count": 135,
     "metadata": {},
     "output_type": "execute_result"
    }
   ],
   "source": [
    "'ten' in tup8 # it return false if the value is doesn't exist in the tuple"
   ]
  },
  {
   "cell_type": "code",
   "execution_count": 137,
   "id": "2cb01c05-bff3-4546-847b-a7759fecaf51",
   "metadata": {},
   "outputs": [
    {
     "name": "stdout",
     "output_type": "stream",
     "text": [
      "three is present in the tuple\n"
     ]
    }
   ],
   "source": [
    "# check if 'three' is exist in the list\n",
    "if 'three' in tup8:\n",
    "    print('three is present in the tuple')\n",
    "else:\n",
    "    print('there is not present in the tuple')"
   ]
  },
  {
   "cell_type": "code",
   "execution_count": 139,
   "id": "a0b4d2be-1a91-48ac-80bf-3055f0fbaf84",
   "metadata": {},
   "outputs": [
    {
     "name": "stdout",
     "output_type": "stream",
     "text": [
      "eleven is not present in the tuple\n"
     ]
    }
   ],
   "source": [
    "# check if 'eleven' is exist in the list\n",
    "if 'eleven' in tup8:\n",
    "    print('eleven is present in the tuple')\n",
    "else:\n",
    "    print('eleven is not present in the tuple')"
   ]
  },
  {
   "cell_type": "code",
   "execution_count": 141,
   "id": "9780cd11-3058-4f43-8d14-fa596e28f799",
   "metadata": {},
   "outputs": [
    {
     "data": {
      "text/plain": [
       "0"
      ]
     },
     "execution_count": 141,
     "metadata": {},
     "output_type": "execute_result"
    }
   ],
   "source": [
    "tup8.index('one')"
   ]
  },
  {
   "cell_type": "code",
   "execution_count": 143,
   "id": "242b952a-b414-4f7b-a882-8074ae0d2514",
   "metadata": {},
   "outputs": [
    {
     "data": {
      "text/plain": [
       "4"
      ]
     },
     "execution_count": 143,
     "metadata": {},
     "output_type": "execute_result"
    }
   ],
   "source": [
    "tup8.index('five')"
   ]
  },
  {
   "cell_type": "markdown",
   "id": "8ccfdc62-cd8f-4c0e-9b06-e3a4589ee1a7",
   "metadata": {},
   "source": [
    "#Sorting"
   ]
  },
  {
   "cell_type": "code",
   "execution_count": 146,
   "id": "cff8b3db-6466-42e8-b2c5-d1f35e347637",
   "metadata": {},
   "outputs": [
    {
     "data": {
      "text/plain": [
       "('one', 'two', 'three', 'four', 'five', 'six', 'seven', 'eight')"
      ]
     },
     "execution_count": 146,
     "metadata": {},
     "output_type": "execute_result"
    }
   ],
   "source": [
    "tup8"
   ]
  },
  {
   "cell_type": "code",
   "execution_count": 148,
   "id": "7affb89b-6297-4851-bab7-9c2a58c730c5",
   "metadata": {},
   "outputs": [],
   "source": [
    "tup9=(43,67,89,12,6,90,67)"
   ]
  },
  {
   "cell_type": "code",
   "execution_count": 154,
   "id": "868d00b5-92fe-4d8a-b026-ad08928c9bd0",
   "metadata": {},
   "outputs": [
    {
     "data": {
      "text/plain": [
       "[6, 12, 43, 67, 67, 89, 90]"
      ]
     },
     "execution_count": 154,
     "metadata": {},
     "output_type": "execute_result"
    }
   ],
   "source": [
    "#sorted is used to sort tuples - it also by defult sort in ascending order\n",
    "sorted(tup9)"
   ]
  },
  {
   "cell_type": "code",
   "execution_count": 156,
   "id": "859cabc6-4c92-44b7-ae99-0ab91eed2dc4",
   "metadata": {},
   "outputs": [
    {
     "data": {
      "text/plain": [
       "[90, 89, 67, 67, 43, 12, 6]"
      ]
     },
     "execution_count": 156,
     "metadata": {},
     "output_type": "execute_result"
    }
   ],
   "source": [
    "#sorted(tuple,reverse=True) is used to sort the tuple in descending order\n",
    "sorted(tup9,reverse=True)"
   ]
  },
  {
   "cell_type": "code",
   "execution_count": null,
   "id": "aea5b439-dd9d-4cfe-aa06-07c137a78522",
   "metadata": {},
   "outputs": [],
   "source": []
  },
  {
   "cell_type": "code",
   "execution_count": null,
   "id": "49856093-5dcb-4d9b-bcae-09ba52d93070",
   "metadata": {},
   "outputs": [],
   "source": []
  },
  {
   "cell_type": "code",
   "execution_count": null,
   "id": "b07a5ca3-6c36-4a59-931e-0d1d83b7def7",
   "metadata": {},
   "outputs": [],
   "source": []
  }
 ],
 "metadata": {
  "kernelspec": {
   "display_name": "Python 3 (ipykernel)",
   "language": "python",
   "name": "python3"
  },
  "language_info": {
   "codemirror_mode": {
    "name": "ipython",
    "version": 3
   },
   "file_extension": ".py",
   "mimetype": "text/x-python",
   "name": "python",
   "nbconvert_exporter": "python",
   "pygments_lexer": "ipython3",
   "version": "3.12.4"
  }
 },
 "nbformat": 4,
 "nbformat_minor": 5
}
