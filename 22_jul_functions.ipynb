{
 "cells": [
  {
   "cell_type": "markdown",
   "id": "38f8fe21",
   "metadata": {},
   "source": [
    "# FUNCTIONs in PYTHON"
   ]
  },
  {
   "cell_type": "markdown",
   "id": "32411030",
   "metadata": {},
   "source": [
    "- Function is a block of organized,reusable code that can be called multiple times from different parts of a program.\n",
    "- A function can take arguments (input parameters) and return values.\n",
    "- Functions can be used to perform complex tasks, simplify code, and improve code readability.\n",
    "- Functions can be defined with or without arguments and can return values or not return any value.\n",
    "- Functions supports modular programming, which is a programming paradigm that emphasizes breaking down a program into smaller, independent modules.\n",
    "- Functions are two types:          \n",
    "    - built-in functions : These are functions that are already available in python like(print(),len(),range())\n",
    "    - user-defined functions: These are functions that are defined by the user.\n",
    "        - It is defined using the def keyword."
   ]
  },
  {
   "cell_type": "markdown",
   "id": "ea1452bf",
   "metadata": {},
   "source": [
    "| Concept             | Syntax Example                                |\n",
    "| ------------------- | --------------------------------------------- |\n",
    "| Function Definition | `def func():`                                 |\n",
    "| With Parameters     | `def add(a, b): return a + b`                 |\n",
    "| With Default        | `def greet(name=\"Guest\"):`                    |\n",
    "| Lambda Function     | `lambda x: x + 1`                             |\n",
    "| Variable Arguments  | `*args`, `**kwargs`                           |\n",
    "| Return Values       | `return result`                               |\n",
    "| Recursion           | `def factorial(n): return n * factorial(n-1)` |\n",
    "| Scope Control       | `global`, `nonlocal`                          |\n"
   ]
  },
  {
   "cell_type": "markdown",
   "id": "846cf8ff",
   "metadata": {},
   "source": [
    "### Properties of functios"
   ]
  },
  {
   "cell_type": "code",
   "execution_count": 1,
   "id": "36c4fa61",
   "metadata": {},
   "outputs": [
    {
     "name": "stdout",
     "output_type": "stream",
     "text": [
      "Hello, how are you?\n",
      "Hello, how are you?\n"
     ]
    }
   ],
   "source": [
    "# Reusablity: Reusablity allow functiio to be used multiple times that rreduce redundancy.\n",
    "def greet():\n",
    "    print(\"Hello, how are you?\")\n",
    "\n",
    "greet()\n",
    "greet()  # reused"
   ]
  },
  {
   "cell_type": "markdown",
   "id": "a38bbb51",
   "metadata": {},
   "source": []
  },
  {
   "cell_type": "code",
   "execution_count": null,
   "id": "2bc9df61",
   "metadata": {},
   "outputs": [],
   "source": []
  },
  {
   "cell_type": "code",
   "execution_count": 2,
   "id": "9b14740c",
   "metadata": {},
   "outputs": [
    {
     "name": "stdout",
     "output_type": "stream",
     "text": [
      "hello\n",
      "good morning team\n",
      "***********\n",
      "hello\n",
      "good morning team\n",
      "***********\n",
      "hello\n",
      "good morning team\n"
     ]
    }
   ],
   "source": [
    "def greet():  # declare function without argument\n",
    "    print('hello')\n",
    "    print('good morning team')\n",
    "greet()\n",
    "print('***********')\n",
    "greet()\n",
    "print('***********')\n",
    "greet() # function calling  with out argument) "
   ]
  },
  {
   "cell_type": "code",
   "execution_count": 3,
   "id": "dee698de",
   "metadata": {},
   "outputs": [
    {
     "name": "stdout",
     "output_type": "stream",
     "text": [
      "Hello\n",
      "Good morning team\n"
     ]
    }
   ],
   "source": [
    "# Function without argument\n",
    "def greet():\n",
    "    print('Hello')\n",
    "    print('Good morning team')\n",
    "\n",
    "greet()"
   ]
  },
  {
   "cell_type": "code",
   "execution_count": 4,
   "id": "205855ec",
   "metadata": {},
   "outputs": [
    {
     "data": {
      "text/plain": [
       "11"
      ]
     },
     "execution_count": 4,
     "metadata": {},
     "output_type": "execute_result"
    }
   ],
   "source": [
    "#Parameterized functioin or function with argument\n",
    "def add(x,y):\n",
    "    return x+y\n",
    "\n",
    "add(5,6)"
   ]
  },
  {
   "cell_type": "code",
   "execution_count": 5,
   "id": "a22aec5d",
   "metadata": {},
   "outputs": [
    {
     "ename": "TypeError",
     "evalue": "add() missing 1 required positional argument: 'y'",
     "output_type": "error",
     "traceback": [
      "\u001b[31m---------------------------------------------------------------------------\u001b[39m",
      "\u001b[31mTypeError\u001b[39m                                 Traceback (most recent call last)",
      "\u001b[36mCell\u001b[39m\u001b[36m \u001b[39m\u001b[32mIn[5]\u001b[39m\u001b[32m, line 4\u001b[39m\n\u001b[32m      1\u001b[39m \u001b[38;5;28;01mdef\u001b[39;00m\u001b[38;5;250m \u001b[39m\u001b[34madd\u001b[39m(x,y):\n\u001b[32m      2\u001b[39m     \u001b[38;5;28;01mreturn\u001b[39;00m x+y\n\u001b[32m----> \u001b[39m\u001b[32m4\u001b[39m \u001b[43madd\u001b[49m\u001b[43m(\u001b[49m\u001b[32;43m5\u001b[39;49m\u001b[43m)\u001b[49m\n",
      "\u001b[31mTypeError\u001b[39m: add() missing 1 required positional argument: 'y'"
     ]
    }
   ],
   "source": [
    "def add(x,y):\n",
    "    return x+y\n",
    "\n",
    "add(5)"
   ]
  },
  {
   "cell_type": "code",
   "execution_count": null,
   "id": "0355c807",
   "metadata": {},
   "outputs": [
    {
     "ename": "TypeError",
     "evalue": "add() takes 2 positional arguments but 3 were given",
     "output_type": "error",
     "traceback": [
      "\u001b[31m---------------------------------------------------------------------------\u001b[39m",
      "\u001b[31mTypeError\u001b[39m                                 Traceback (most recent call last)",
      "\u001b[36mCell\u001b[39m\u001b[36m \u001b[39m\u001b[32mIn[6]\u001b[39m\u001b[32m, line 4\u001b[39m\n\u001b[32m      1\u001b[39m \u001b[38;5;28;01mdef\u001b[39;00m\u001b[38;5;250m \u001b[39m\u001b[34madd\u001b[39m(x,y):\n\u001b[32m      2\u001b[39m     \u001b[38;5;28;01mreturn\u001b[39;00m x+y\n\u001b[32m----> \u001b[39m\u001b[32m4\u001b[39m \u001b[43madd\u001b[49m\u001b[43m(\u001b[49m\u001b[32;43m5\u001b[39;49m\u001b[43m,\u001b[49m\u001b[32;43m6\u001b[39;49m\u001b[43m,\u001b[49m\u001b[32;43m7\u001b[39;49m\u001b[43m)\u001b[49m\n",
      "\u001b[31mTypeError\u001b[39m: add() takes 2 positional arguments but 3 were given"
     ]
    }
   ],
   "source": [
    "def add(x,y):\n",
    "    return x+y         # we only give same number of arguments to the function\n",
    "\n",
    "add(5,6,7)"
   ]
  },
  {
   "cell_type": "code",
   "execution_count": 7,
   "id": "90447199",
   "metadata": {},
   "outputs": [
    {
     "data": {
      "text/plain": [
       "11"
      ]
     },
     "execution_count": 7,
     "metadata": {},
     "output_type": "execute_result"
    }
   ],
   "source": [
    "def add(x,y,z):\n",
    "    c=x+y\n",
    "    return c  \n",
    "   \n",
    "add(5,6,7)"
   ]
  },
  {
   "cell_type": "code",
   "execution_count": null,
   "id": "05ae5dfc",
   "metadata": {},
   "outputs": [
    {
     "ename": "NameError",
     "evalue": "name 'm' is not defined",
     "output_type": "error",
     "traceback": [
      "\u001b[31m---------------------------------------------------------------------------\u001b[39m",
      "\u001b[31mNameError\u001b[39m                                 Traceback (most recent call last)",
      "\u001b[36mCell\u001b[39m\u001b[36m \u001b[39m\u001b[32mIn[8]\u001b[39m\u001b[32m, line 5\u001b[39m\n\u001b[32m      2\u001b[39m     c = x+y+z+m \n\u001b[32m      3\u001b[39m     \u001b[38;5;28;01mreturn\u001b[39;00m c  \n\u001b[32m----> \u001b[39m\u001b[32m5\u001b[39m \u001b[43madd\u001b[49m\u001b[43m(\u001b[49m\u001b[32;43m5\u001b[39;49m\u001b[43m,\u001b[49m\u001b[32;43m6\u001b[39;49m\u001b[43m,\u001b[49m\u001b[32;43m7\u001b[39;49m\u001b[43m,\u001b[49m\u001b[32;43m8\u001b[39;49m\u001b[43m)\u001b[49m\n",
      "\u001b[36mCell\u001b[39m\u001b[36m \u001b[39m\u001b[32mIn[8]\u001b[39m\u001b[32m, line 2\u001b[39m, in \u001b[36madd\u001b[39m\u001b[34m(x, y, z, n)\u001b[39m\n\u001b[32m      1\u001b[39m \u001b[38;5;28;01mdef\u001b[39;00m\u001b[38;5;250m \u001b[39m\u001b[34madd\u001b[39m(x,y,z,n):\n\u001b[32m----> \u001b[39m\u001b[32m2\u001b[39m     c = x+y+z+\u001b[43mm\u001b[49m \n\u001b[32m      3\u001b[39m     \u001b[38;5;28;01mreturn\u001b[39;00m c\n",
      "\u001b[31mNameError\u001b[39m: name 'm' is not defined"
     ]
    }
   ],
   "source": [
    "\n",
    "def add(x,y,z,n):\n",
    "    c = x+y+z+m  # we cant use m here because m is not defined\n",
    "    return c  \n",
    "   \n",
    "add(5,6,7,8)"
   ]
  },
  {
   "cell_type": "code",
   "execution_count": null,
   "id": "0e989470",
   "metadata": {},
   "outputs": [
    {
     "data": {
      "text/plain": [
       "26"
      ]
     },
     "execution_count": 9,
     "metadata": {},
     "output_type": "execute_result"
    }
   ],
   "source": [
    "\n",
    "def add(x,y,z,n):\n",
    "    c = x+y+z+n\n",
    "    return c  # we can use only defined variables in the function\n",
    "   \n",
    "add(5,6,7,8)"
   ]
  },
  {
   "cell_type": "code",
   "execution_count": 11,
   "id": "36fd59b5",
   "metadata": {},
   "outputs": [
    {
     "name": "stdout",
     "output_type": "stream",
     "text": [
      "5\n",
      "10\n"
     ]
    }
   ],
   "source": [
    "# Scoping Rules\n",
    "# variables defined in a function are local to that function\n",
    "# variables defined in the global scope are global to all functions\n",
    "# variables defined in a function are not accessible from the global scope unless they are explicitly passed as arguments\n",
    "# variables defined in the global scope are accessible from all functions unless they are explicitly passed as arguments\n",
    "\n",
    "# a function can modify a global variable, but it cannot modify a local variable that is not defined\n",
    "x=10\n",
    "def func():\n",
    "    x=5\n",
    "    print(x) # prints 5\n",
    "\n",
    "func()\n",
    "print(x)"
   ]
  },
  {
   "cell_type": "code",
   "execution_count": 12,
   "id": "6ed29b97",
   "metadata": {},
   "outputs": [
    {
     "name": "stdout",
     "output_type": "stream",
     "text": [
      "hello\n",
      "good morning team\n"
     ]
    },
    {
     "data": {
      "text/plain": [
       "11"
      ]
     },
     "execution_count": 12,
     "metadata": {},
     "output_type": "execute_result"
    }
   ],
   "source": [
    "def greet(): \n",
    "    print('hello')\n",
    "    print('good morning team')\n",
    "greet()\n",
    "\n",
    "def add(x,y):\n",
    "    c = x+y\n",
    "    return c  \n",
    "   \n",
    "add(5,6)"
   ]
  },
  {
   "cell_type": "code",
   "execution_count": null,
   "id": "61249ddc",
   "metadata": {},
   "outputs": [
    {
     "name": "stdout",
     "output_type": "stream",
     "text": [
      "Hello, John\n"
     ]
    }
   ],
   "source": [
    "# in pyhton functions are treated as variables and can be passed as arguments to other functions\n",
    "# this is a key feature of functional programming\n",
    "def greet(name):\n",
    "    print(f\"Hello, {name}\")\n",
    "    # we can now pass the greet function as an argument to another function\n",
    "\n",
    "say_hello=greet\n",
    "    # we can now call the say_hello function \n",
    "\n",
    "say_hello(\"John\")  # Output: Hello, John"
   ]
  },
  {
   "cell_type": "code",
   "execution_count": null,
   "id": "8511db67",
   "metadata": {},
   "outputs": [
    {
     "name": "stdout",
     "output_type": "stream",
     "text": [
      "(9, -1)\n",
      "<class 'tuple'>\n"
     ]
    }
   ],
   "source": [
    "# it returns a tuple object if there is more than one element assiged to it.\n",
    "def add_sub(x,y): \n",
    "    c= x+y\n",
    "    d= x-y\n",
    "    return c, d \n",
    "    \n",
    "result = add_sub(4,5)\n",
    "print(result)\n",
    "print(type(result))"
   ]
  },
  {
   "cell_type": "code",
   "execution_count": 18,
   "id": "e5389176",
   "metadata": {},
   "outputs": [
    {
     "name": "stdout",
     "output_type": "stream",
     "text": [
      "9\n",
      "-1\n",
      "<class 'int'>\n"
     ]
    }
   ],
   "source": [
    "# if we asign only one value to a variable then it will be of that type like int\n",
    "def add_sub(x,y): \n",
    "    c= x+y\n",
    "    d= x-y\n",
    "    return c, d \n",
    "    \n",
    "result, result1 = add_sub(4,5)\n",
    "\n",
    "print(result)\n",
    "print(result1)\n",
    "print(type(result))"
   ]
  },
  {
   "cell_type": "code",
   "execution_count": 20,
   "id": "9625785c",
   "metadata": {},
   "outputs": [
    {
     "data": {
      "text/plain": [
       "120"
      ]
     },
     "execution_count": 20,
     "metadata": {},
     "output_type": "execute_result"
    }
   ],
   "source": [
    "# It supports recursion means it can call itself.\n",
    "\n",
    "def factorial(n):\n",
    "    if n == 1:  # Base case\n",
    "        return 1\n",
    "    return n * factorial(n-1)  # Recursive case\n",
    "factorial(5)"
   ]
  },
  {
   "cell_type": "code",
   "execution_count": 21,
   "id": "0245a631",
   "metadata": {},
   "outputs": [
    {
     "name": "stdout",
     "output_type": "stream",
     "text": [
      "25\n"
     ]
    }
   ],
   "source": [
    "# Lambda - Lambda is a anonymous function in python, it is used to define small functions. It is defined using the keyword 'lambda'.\n",
    "# Lambda function is used to define small functions which can take any number of arguments, but can only have one expression.\n",
    "\n",
    "squre=lambda x:x**2\n",
    "print(squre(5))  # Output: 25"
   ]
  },
  {
   "cell_type": "code",
   "execution_count": 22,
   "id": "bbed1795",
   "metadata": {},
   "outputs": [],
   "source": [
    "# UPDATE"
   ]
  },
  {
   "cell_type": "code",
   "execution_count": 23,
   "id": "59bed05d",
   "metadata": {},
   "outputs": [
    {
     "name": "stdout",
     "output_type": "stream",
     "text": [
      "8\n"
     ]
    }
   ],
   "source": [
    "def update(): \n",
    "    x = 8\n",
    "    print(x)\n",
    "update()"
   ]
  },
  {
   "cell_type": "code",
   "execution_count": 24,
   "id": "318246e3",
   "metadata": {},
   "outputs": [
    {
     "ename": "TypeError",
     "evalue": "update() takes 0 positional arguments but 1 was given",
     "output_type": "error",
     "traceback": [
      "\u001b[31m---------------------------------------------------------------------------\u001b[39m",
      "\u001b[31mTypeError\u001b[39m                                 Traceback (most recent call last)",
      "\u001b[36mCell\u001b[39m\u001b[36m \u001b[39m\u001b[32mIn[24]\u001b[39m\u001b[32m, line 5\u001b[39m\n\u001b[32m      2\u001b[39m     x = \u001b[32m8\u001b[39m\n\u001b[32m      3\u001b[39m     \u001b[38;5;28mprint\u001b[39m(x)\n\u001b[32m----> \u001b[39m\u001b[32m5\u001b[39m \u001b[43mupdate\u001b[49m\u001b[43m(\u001b[49m\u001b[32;43m8\u001b[39;49m\u001b[43m)\u001b[49m\n",
      "\u001b[31mTypeError\u001b[39m: update() takes 0 positional arguments but 1 was given"
     ]
    }
   ],
   "source": [
    "def update(): #update function take the value from the user\n",
    "    x = 8\n",
    "    print(x)\n",
    "    \n",
    "update(8)"
   ]
  },
  {
   "cell_type": "code",
   "execution_count": 25,
   "id": "45de0ee6",
   "metadata": {},
   "outputs": [
    {
     "data": {
      "text/plain": [
       "8"
      ]
     },
     "execution_count": 25,
     "metadata": {},
     "output_type": "execute_result"
    }
   ],
   "source": [
    "def update(x): #update function take the value from the user\n",
    "    x = 8\n",
    "    return x\n",
    "    \n",
    "update(100)"
   ]
  },
  {
   "cell_type": "code",
   "execution_count": null,
   "id": "483f72d0",
   "metadata": {},
   "outputs": [],
   "source": []
  }
 ],
 "metadata": {
  "kernelspec": {
   "display_name": "base",
   "language": "python",
   "name": "python3"
  },
  "language_info": {
   "codemirror_mode": {
    "name": "ipython",
    "version": 3
   },
   "file_extension": ".py",
   "mimetype": "text/x-python",
   "name": "python",
   "nbconvert_exporter": "python",
   "pygments_lexer": "ipython3",
   "version": "3.12.4"
  }
 },
 "nbformat": 4,
 "nbformat_minor": 5
}
