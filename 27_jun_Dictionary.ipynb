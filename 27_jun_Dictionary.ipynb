{
 "cells": [
  {
   "cell_type": "markdown",
   "id": "e4f57349-7a87-45eb-9b87-8eb28619604a",
   "metadata": {},
   "source": [
    "#Dictionary "
   ]
  },
  {
   "cell_type": "code",
   "execution_count": 3,
   "id": "c255128c-ce62-4e8f-965a-7a85be85c9ce",
   "metadata": {},
   "outputs": [],
   "source": [
    "#Dictionary is a mutable data type in python.\n",
    "#Dictionary is a collection of key and value pairs separated by(:)& enclosed by {}\n",
    "#In dictionary keys must have unique but duplicate values are aloowed.\n",
    "#key has more priority the values\n",
    "#Dictionary is defined with the {}.\n",
    "#Syntax -> dict={key:value}\n",
    "#Ordered-> it maintain the order in which they are added\n",
    "#we use keys insted of index.\n",
    "# The keys must be immutable values(string,int,tuple)\n",
    "# But the values in dict can be of any data type even list or otheer dictionary.\n",
    "\n"
   ]
  },
  {
   "cell_type": "markdown",
   "id": "04db9c30-bb87-40f3-863c-2c0728ad318a",
   "metadata": {},
   "source": [
    "Methods on dictionary"
   ]
  },
  {
   "cell_type": "code",
   "execution_count": null,
   "id": "e9d9fb75-051a-4f3b-8b6a-53f3763b6c92",
   "metadata": {},
   "outputs": [],
   "source": [
    "#.keys() -> is used to get all the keys of the dictionary\n",
    "#.values() -> is used to get all the values of the dictionary\n",
    "#.items() -> it returns all the key and value pairs of the dictionary\n",
    "#.get() -> it is a method used to access the element by keys.\n",
    "#dict_name[key] -> it is also used to access the elemet by key.\n",
    "#======> Dictionary operations <=======\n",
    "#Add ->\n",
    "#Remove ->\n",
    "#Change -> "
   ]
  },
  {
   "cell_type": "code",
   "execution_count": 2,
   "id": "e33e88c0-84cc-4219-bfda-d05160b34b5e",
   "metadata": {},
   "outputs": [],
   "source": [
    "d={} #empty dictionary"
   ]
  },
  {
   "cell_type": "code",
   "execution_count": 7,
   "id": "d063a6f1-6d30-4909-91de-2ac22e4ed023",
   "metadata": {},
   "outputs": [
    {
     "data": {
      "text/plain": [
       "dict"
      ]
     },
     "execution_count": 7,
     "metadata": {},
     "output_type": "execute_result"
    }
   ],
   "source": [
    "type(d)"
   ]
  },
  {
   "cell_type": "code",
   "execution_count": 4,
   "id": "6c37b27d-2bd0-4c95-99c9-0ffc1bb92845",
   "metadata": {},
   "outputs": [
    {
     "data": {
      "text/plain": [
       "{1: 'one', 2: 'two', 3: 'three', 4: 'four'}"
      ]
     },
     "execution_count": 4,
     "metadata": {},
     "output_type": "execute_result"
    }
   ],
   "source": [
    "d1={1:'one',2:'two',3:'three',4:'four'} # dictionary with integer keys\n",
    "d1"
   ]
  },
  {
   "cell_type": "code",
   "execution_count": 6,
   "id": "0947b093-ce19-4619-af04-42b3be3b98c9",
   "metadata": {},
   "outputs": [
    {
     "data": {
      "text/plain": [
       "{'one': 1, 'two': 2, 'three': 3, 'four': 4}"
      ]
     },
     "execution_count": 6,
     "metadata": {},
     "output_type": "execute_result"
    }
   ],
   "source": [
    "d2={'one':1,'two':2,'three':3,'four':4} #dictionary with string\n",
    "d2"
   ]
  },
  {
   "cell_type": "code",
   "execution_count": 8,
   "id": "da4f8140-1dbc-416e-80b3-dc2836c3b0e4",
   "metadata": {},
   "outputs": [
    {
     "data": {
      "text/plain": [
       "{1: 'one', 2: 'two', 3: 'three'}"
      ]
     },
     "execution_count": 8,
     "metadata": {},
     "output_type": "execute_result"
    }
   ],
   "source": [
    "#create a dictionary using dict()\n",
    "my_dict=dict({1:'one',2:'two',3:'three'})\n",
    "my_dict"
   ]
  },
  {
   "cell_type": "code",
   "execution_count": 12,
   "id": "819103b6-cda4-4c2c-aec1-22c62066abe1",
   "metadata": {},
   "outputs": [
    {
     "data": {
      "text/plain": [
       "{'a': 'one', 'b': 'two', 'c': 'three'}"
      ]
     },
     "execution_count": 12,
     "metadata": {},
     "output_type": "execute_result"
    }
   ],
   "source": [
    "#Dictonary with character keys and values\n",
    "dict1={'a':'one','b':'two','c':'three'}\n",
    "dict1"
   ]
  },
  {
   "cell_type": "code",
   "execution_count": 16,
   "id": "b28f1ef4-f4d9-459b-aa82-2618f9f5f876",
   "metadata": {},
   "outputs": [
    {
     "data": {
      "text/plain": [
       "{1: 'one', 'b': 'two', (1+2j): 'three'}"
      ]
     },
     "execution_count": 16,
     "metadata": {},
     "output_type": "execute_result"
    }
   ],
   "source": [
    "#Dictionary with mixed keys\n",
    "dict2={1:'one','b':'two',1+2j:'three'}\n",
    "dict2"
   ]
  },
  {
   "cell_type": "code",
   "execution_count": 18,
   "id": "092f497c-b115-4702-9369-8e177f9a7ff6",
   "metadata": {},
   "outputs": [
    {
     "data": {
      "text/plain": [
       "dict_keys([1, 'b', (1+2j)])"
      ]
     },
     "execution_count": 18,
     "metadata": {},
     "output_type": "execute_result"
    }
   ],
   "source": [
    "#.keys() is method that returns all the keys of the dictionary\n",
    "#Syntax -> dict.keys()\n",
    "dict2.keys()"
   ]
  },
  {
   "cell_type": "code",
   "execution_count": 20,
   "id": "efbcc7a8-ea25-43a8-9f63-0b70e3adfc6b",
   "metadata": {},
   "outputs": [
    {
     "data": {
      "text/plain": [
       "dict_values(['one', 'two', 'three'])"
      ]
     },
     "execution_count": 20,
     "metadata": {},
     "output_type": "execute_result"
    }
   ],
   "source": [
    "# .values() is a method that returns all the values of the dictioinary\n",
    "# Syntax -> dict.values()\n",
    "dict2.values()"
   ]
  },
  {
   "cell_type": "code",
   "execution_count": null,
   "id": "b849cafd-7059-45ea-acbf-bcc070f72a9c",
   "metadata": {},
   "outputs": [],
   "source": []
  },
  {
   "cell_type": "code",
   "execution_count": null,
   "id": "3c2ec216-084b-4bbf-9ad7-575cdfaa37dc",
   "metadata": {},
   "outputs": [],
   "source": []
  },
  {
   "cell_type": "code",
   "execution_count": 13,
   "id": "ce2e44bc-8872-4084-a5db-54035dce25d3",
   "metadata": {},
   "outputs": [
    {
     "data": {
      "text/plain": [
       "dict_keys(['one', 'two', 'three', 'four'])"
      ]
     },
     "execution_count": 13,
     "metadata": {},
     "output_type": "execute_result"
    }
   ],
   "source": [
    "d2.keys()"
   ]
  },
  {
   "cell_type": "code",
   "execution_count": 15,
   "id": "1fb8ab09-f411-4d4a-ac98-0f489720b219",
   "metadata": {},
   "outputs": [
    {
     "data": {
      "text/plain": [
       "dict_values([1, 2, 3, 4])"
      ]
     },
     "execution_count": 15,
     "metadata": {},
     "output_type": "execute_result"
    }
   ],
   "source": [
    "d2.values()"
   ]
  },
  {
   "cell_type": "code",
   "execution_count": 22,
   "id": "0de9ac49-859c-4ece-9f21-79ebffdd3dba",
   "metadata": {},
   "outputs": [
    {
     "data": {
      "text/plain": [
       "dict_items([('one', 1), ('two', 2), ('three', 3), ('four', 4)])"
      ]
     },
     "execution_count": 22,
     "metadata": {},
     "output_type": "execute_result"
    }
   ],
   "source": [
    "#.items() is method in dictionary used to access the each key-value pairs in a dictionary\n",
    "d2.items()"
   ]
  },
  {
   "cell_type": "code",
   "execution_count": 24,
   "id": "59a68924-bf4e-453b-8b6a-6dbcc75f41ff",
   "metadata": {},
   "outputs": [
    {
     "data": {
      "text/plain": [
       "4"
      ]
     },
     "execution_count": 24,
     "metadata": {},
     "output_type": "execute_result"
    }
   ],
   "source": [
    "#len(dict) is function that  used to return the numbers of item exist in the dictionary\n",
    "len(d2)"
   ]
  },
  {
   "cell_type": "code",
   "execution_count": 26,
   "id": "0805ca31-50c7-43d1-a1f7-6c68e79e9647",
   "metadata": {},
   "outputs": [
    {
     "data": {
      "text/plain": [
       "{1: 'one', 2: 'two', 3: [1, 2, 3, 4, 5]}"
      ]
     },
     "execution_count": 26,
     "metadata": {},
     "output_type": "execute_result"
    }
   ],
   "source": [
    "#dictionary with list values\n",
    "list_dict={1:'one',2:'two',3:[1,2,3,4,5]}\n",
    "list_dict"
   ]
  },
  {
   "cell_type": "code",
   "execution_count": 34,
   "id": "76a0aa46-7ee2-475f-9d90-2df709d6a8bd",
   "metadata": {},
   "outputs": [
    {
     "data": {
      "text/plain": [
       "{1: 1,\n",
       " 2: 'a',\n",
       " 'c': 'three',\n",
       " (1+2j): 'four',\n",
       " 4: [1, 2, 3, 4, 'a'],\n",
       " 'five': ('a', 'b', 'c'),\n",
       " 6: {'name': 'sisir', 'age': 21}}"
      ]
     },
     "execution_count": 34,
     "metadata": {},
     "output_type": "execute_result"
    }
   ],
   "source": [
    "# Dictionary with all the value \n",
    "mixed_dict={1:1,2:'a','c':'three',1+2j:'four',4:[1,2,3,4,'a'],'five':('a','b','c'),6:{'name':'sisir','age':21}}\n",
    "mixed_dict"
   ]
  },
  {
   "cell_type": "code",
   "execution_count": 38,
   "id": "3c1f0397-df42-494b-a1a0-ccafab4c56e2",
   "metadata": {},
   "outputs": [
    {
     "data": {
      "text/plain": [
       "{'a': None, 'c': None, 'd': None, 'b': None}"
      ]
     },
     "execution_count": 38,
     "metadata": {},
     "output_type": "execute_result"
    }
   ],
   "source": [
    "# Create a Dictionary from sequence of keys\n",
    "key_seq={'a','b','c','d'}\n",
    "dict4=dict.fromkeys(key_seq)\n",
    "dict4"
   ]
  },
  {
   "cell_type": "code",
   "execution_count": 48,
   "id": "5a0a3b6e-f9f6-47e8-a7c0-3006ffe0482f",
   "metadata": {},
   "outputs": [
    {
     "data": {
      "text/plain": [
       "{'a': [1, 2, 3, 4], 'c': [1, 2, 3, 4], 'd': [1, 2, 3, 4], 'b': [1, 2, 3, 4]}"
      ]
     },
     "execution_count": 48,
     "metadata": {},
     "output_type": "execute_result"
    }
   ],
   "source": [
    "# Create a dictionary from sequence of value and keys\n",
    "val=[1,2,3,4]\n",
    "dict4=dict.fromkeys(key_seq,val)\n",
    "dict4"
   ]
  },
  {
   "cell_type": "code",
   "execution_count": 50,
   "id": "2efae4ca-a32c-4993-b855-d1fcde6d6e1f",
   "metadata": {},
   "outputs": [
    {
     "data": {
      "text/plain": [
       "{'a': [1, 2, 3, 4, 5],\n",
       " 'c': [1, 2, 3, 4, 5],\n",
       " 'd': [1, 2, 3, 4, 5],\n",
       " 'b': [1, 2, 3, 4, 5]}"
      ]
     },
     "execution_count": 50,
     "metadata": {},
     "output_type": "execute_result"
    }
   ],
   "source": [
    "val.append(5) # add a value in the value list\n",
    "dict4"
   ]
  },
  {
   "cell_type": "code",
   "execution_count": 58,
   "id": "5e7e3fb8-6abb-47d5-ae84-99d8981bba77",
   "metadata": {},
   "outputs": [
    {
     "data": {
      "text/plain": [
       "{1: 1,\n",
       " 2: 'a',\n",
       " 'c': 'three',\n",
       " (1+2j): 'four',\n",
       " 4: [1, 2, 3, 4, 'a'],\n",
       " 'five': ('a', 'b', 'c'),\n",
       " 6: {'name': 'sisir', 'age': 21}}"
      ]
     },
     "execution_count": 58,
     "metadata": {},
     "output_type": "execute_result"
    }
   ],
   "source": [
    "#Accessing items \n",
    "dict3= mixed_dict.copy()\n",
    "dict3"
   ]
  },
  {
   "cell_type": "code",
   "execution_count": 60,
   "id": "ebc04325-be03-480a-98aa-a2ea6d1d73a0",
   "metadata": {},
   "outputs": [
    {
     "data": {
      "text/plain": [
       "{'name': 'sisir', 'age': 21}"
      ]
     },
     "execution_count": 60,
     "metadata": {},
     "output_type": "execute_result"
    }
   ],
   "source": [
    "#Accessing items through keys\n",
    "#Syntax -> dict_name[key]\n",
    "dict3[6]"
   ]
  },
  {
   "cell_type": "code",
   "execution_count": 62,
   "id": "dd27a40f-3a4c-41d0-a61e-bcb61d047bf4",
   "metadata": {},
   "outputs": [
    {
     "data": {
      "text/plain": [
       "('a', 'b', 'c')"
      ]
     },
     "execution_count": 62,
     "metadata": {},
     "output_type": "execute_result"
    }
   ],
   "source": [
    "#.get() is a method is used to access the element within the dictionary\n",
    "# Syntax -> dict_name(key)\n",
    "dict3.get('five')"
   ]
  },
  {
   "cell_type": "markdown",
   "id": "e9913452-03cc-4395-be9c-ff9b732a4d4c",
   "metadata": {},
   "source": [
    "#Dictionary Operations\n",
    "Add, Remove & Change items"
   ]
  },
  {
   "cell_type": "code",
   "execution_count": 65,
   "id": "4961a744-4a37-490f-9fee-15056f7d63f9",
   "metadata": {},
   "outputs": [
    {
     "data": {
      "text/plain": [
       "{1: 1,\n",
       " 2: 'a',\n",
       " 'c': 'three',\n",
       " (1+2j): 'four',\n",
       " 4: [1, 2, 3, 4, 'a'],\n",
       " 'five': ('a', 'b', 'c'),\n",
       " 6: {'name': 'sisir', 'age': 21}}"
      ]
     },
     "execution_count": 65,
     "metadata": {},
     "output_type": "execute_result"
    }
   ],
   "source": [
    "dict3"
   ]
  },
  {
   "cell_type": "code",
   "execution_count": 67,
   "id": "6987cc7c-ab72-4302-8dfa-b4ab17f8422b",
   "metadata": {},
   "outputs": [],
   "source": [
    "#Adding element in dictionary in dictionary\n",
    "#Syntax -> dict_name[key]=value\n",
    "dict5={'NAME':'alex','ID':12345,'DOB':2000,'ADDRESS':'hyd'}"
   ]
  },
  {
   "cell_type": "code",
   "execution_count": 69,
   "id": "238b1c6e-7b86-490a-aea1-b1f4c3eb152f",
   "metadata": {},
   "outputs": [
    {
     "data": {
      "text/plain": [
       "{'NAME': 'alex', 'ID': 12345, 'DOB': 2000, 'ADDRESS': 'hyd'}"
      ]
     },
     "execution_count": 69,
     "metadata": {},
     "output_type": "execute_result"
    }
   ],
   "source": [
    "dict5"
   ]
  },
  {
   "cell_type": "code",
   "execution_count": 71,
   "id": "54f6cc89-fb3a-4b25-984a-4a3685bbad14",
   "metadata": {},
   "outputs": [
    {
     "data": {
      "text/plain": [
       "{'NAME': 'alex',\n",
       " 'ID': 12345,\n",
       " 'DOB': 2000,\n",
       " 'ADDRESS': 'hyd',\n",
       " 'JOB': 'Data Scientiest'}"
      ]
     },
     "execution_count": 71,
     "metadata": {},
     "output_type": "execute_result"
    }
   ],
   "source": [
    "dict5['JOB']='Data Scientiest'\n",
    "dict5"
   ]
  },
  {
   "cell_type": "code",
   "execution_count": 75,
   "id": "a638ab0a-bf72-4041-b384-ab74d5620777",
   "metadata": {},
   "outputs": [
    {
     "name": "stdout",
     "output_type": "stream",
     "text": [
      "{'NAME': 'alex', 'ID': 12345, 'DOB': 2000, 'ADDRESS': 'hyd', 'JOB': 'Data Scientiest'}\n"
     ]
    },
    {
     "data": {
      "text/plain": [
       "{'NAME': 'alex', 'ID': 12345, 'DOB': 2000, 'ADDRESS': 'hyd'}"
      ]
     },
     "execution_count": 75,
     "metadata": {},
     "output_type": "execute_result"
    }
   ],
   "source": [
    "#Remove element form dictionary\n",
    "#Syntax-> dict_name.pop(element) -> it removes a specified element from dictionary\n",
    "#Syntax -> dict_name.popitem() -> it removes a random element from the dictionary\n",
    "print(dict5)\n",
    "dict5.pop('JOB')\n",
    "dict5"
   ]
  },
  {
   "cell_type": "code",
   "execution_count": 77,
   "id": "fa290b83-229e-4fb2-891d-9cf057dbe0ea",
   "metadata": {},
   "outputs": [
    {
     "data": {
      "text/plain": [
       "('ADDRESS', 'hyd')"
      ]
     },
     "execution_count": 77,
     "metadata": {},
     "output_type": "execute_result"
    }
   ],
   "source": [
    "dict5.popitem()"
   ]
  },
  {
   "cell_type": "code",
   "execution_count": 79,
   "id": "e4580d33-0e41-49a0-8bdd-c0677a14ada4",
   "metadata": {},
   "outputs": [],
   "source": [
    "#Chnage & Update items\n",
    "#We can change/update values of dictionary\n",
    "#Syntax -> dict_name[key]=value\n",
    "dict5['ADDRESS']='Odisha'"
   ]
  },
  {
   "cell_type": "code",
   "execution_count": 81,
   "id": "eebf76d1-f60e-4ea7-a6d2-dd7ad21b5dcf",
   "metadata": {},
   "outputs": [
    {
     "data": {
      "text/plain": [
       "{'NAME': 'alex', 'ID': 12345, 'DOB': 2000, 'ADDRESS': 'Odisha'}"
      ]
     },
     "execution_count": 81,
     "metadata": {},
     "output_type": "execute_result"
    }
   ],
   "source": [
    "dict5"
   ]
  },
  {
   "cell_type": "code",
   "execution_count": 85,
   "id": "abc83969-c247-49ef-9ff6-d1fabca071a4",
   "metadata": {},
   "outputs": [
    {
     "data": {
      "text/plain": [
       "{'NAME': 'alex',\n",
       " 'ID': 12345,\n",
       " 'DOB': 2001,\n",
       " 'ADDRESS': 'Odisha',\n",
       " 'JOB': 'Data Scientist'}"
      ]
     },
     "execution_count": 85,
     "metadata": {},
     "output_type": "execute_result"
    }
   ],
   "source": [
    "#update is \n",
    "dict6={'DOB':2001,'JOB':'Data Scientist'}\n",
    "dict5.update(dict6)\n",
    "dict5"
   ]
  },
  {
   "cell_type": "code",
   "execution_count": 87,
   "id": "ce30bd9f-8cb6-4e62-ba2d-e247defeb80d",
   "metadata": {},
   "outputs": [
    {
     "name": "stdout",
     "output_type": "stream",
     "text": [
      "{'NAME': 'alex', 'ID': 12345, 'DOB': 2001, 'ADDRESS': 'Odisha', 'JOB': 'Data Scientist'}\n"
     ]
    },
    {
     "data": {
      "text/plain": [
       "{}"
      ]
     },
     "execution_count": 87,
     "metadata": {},
     "output_type": "execute_result"
    }
   ],
   "source": [
    "#Clear() -> clears the all the items of the dictionary \n",
    "print(dict5)\n",
    "dict5.clear()\n",
    "dict5"
   ]
  },
  {
   "cell_type": "code",
   "execution_count": 89,
   "id": "1dc72f28-7a9e-4c0f-a7e3-aa0532258173",
   "metadata": {},
   "outputs": [
    {
     "ename": "NameError",
     "evalue": "name 'dict5' is not defined",
     "output_type": "error",
     "traceback": [
      "\u001b[1;31m---------------------------------------------------------------------------\u001b[0m",
      "\u001b[1;31mNameError\u001b[0m                                 Traceback (most recent call last)",
      "Cell \u001b[1;32mIn[89], line 3\u001b[0m\n\u001b[0;32m      1\u001b[0m \u001b[38;5;66;03m#del dict_name -> delete the dictionary object\u001b[39;00m\n\u001b[0;32m      2\u001b[0m \u001b[38;5;28;01mdel\u001b[39;00m dict5\n\u001b[1;32m----> 3\u001b[0m dict5\n",
      "\u001b[1;31mNameError\u001b[0m: name 'dict5' is not defined"
     ]
    }
   ],
   "source": [
    "#del dict_name -> delete the dictionary object\n",
    "del dict5\n",
    "dict5"
   ]
  },
  {
   "cell_type": "code",
   "execution_count": 91,
   "id": "6daf334b-b02a-4759-9e66-4d279207b836",
   "metadata": {},
   "outputs": [
    {
     "data": {
      "text/plain": [
       "{'DOB': 2001, 'JOB': 'Data Scientist'}"
      ]
     },
     "execution_count": 91,
     "metadata": {},
     "output_type": "execute_result"
    }
   ],
   "source": [
    "#Copy Dictionary\n",
    "# Copy Dictionary create a copy of the dictionary\n",
    "dict6"
   ]
  },
  {
   "cell_type": "code",
   "execution_count": 93,
   "id": "96e26ab6-280d-45dd-b32e-ab19c110b584",
   "metadata": {},
   "outputs": [],
   "source": [
    "dict7=dict6 # create a new reference dict7"
   ]
  },
  {
   "cell_type": "code",
   "execution_count": 95,
   "id": "7cfe92d5-bd03-47ed-942c-b32b4179f7e1",
   "metadata": {},
   "outputs": [
    {
     "data": {
      "text/plain": [
       "True"
      ]
     },
     "execution_count": 95,
     "metadata": {},
     "output_type": "execute_result"
    }
   ],
   "source": [
    "id(dict7)==id(dict6)"
   ]
  },
  {
   "cell_type": "code",
   "execution_count": 101,
   "id": "5a9462cd-26cc-4ddc-9930-8d90e1f0d932",
   "metadata": {},
   "outputs": [],
   "source": [
    "dict7c=dict6.copy() # create a copy of the dictionary but the adress of dictionaries are different"
   ]
  },
  {
   "cell_type": "code",
   "execution_count": 105,
   "id": "d2acbd41-6820-4324-b2e4-2b0cc6fc0205",
   "metadata": {},
   "outputs": [
    {
     "data": {
      "text/plain": [
       "{'DOB': 2001, 'JOB': 'Data Scientist', 'ADDRESS': 'hyd'}"
      ]
     },
     "execution_count": 105,
     "metadata": {},
     "output_type": "execute_result"
    }
   ],
   "source": [
    "\n",
    "dict6['ADDRESS']='hyd'\n",
    "dict6"
   ]
  },
  {
   "cell_type": "code",
   "execution_count": 109,
   "id": "1794f409-4405-4854-9a69-29de001476a1",
   "metadata": {},
   "outputs": [
    {
     "data": {
      "text/plain": [
       "{'DOB': 2001, 'JOB': 'Data Scientist', 'ADDRESS': 'hyd'}"
      ]
     },
     "execution_count": 109,
     "metadata": {},
     "output_type": "execute_result"
    }
   ],
   "source": [
    "dict7 # the copied dictionary is impacted as it is pointing to the same dictionary"
   ]
  },
  {
   "cell_type": "code",
   "execution_count": 111,
   "id": "06e8a0a2-026b-4346-a1ad-2d5b02e1c82c",
   "metadata": {},
   "outputs": [
    {
     "data": {
      "text/plain": [
       "{'DOB': 2001, 'JOB': 'Data Scientist'}"
      ]
     },
     "execution_count": 111,
     "metadata": {},
     "output_type": "execute_result"
    }
   ],
   "source": [
    "dict7c # if we created a copy of dictionary using copy() it won't be impacted"
   ]
  },
  {
   "cell_type": "markdown",
   "id": "c175f494-b3b7-4e75-b630-5fc70ff7e5a7",
   "metadata": {},
   "source": [
    "#LOOP through a dictionary"
   ]
  },
  {
   "cell_type": "code",
   "execution_count": 118,
   "id": "6724cb29-3a41-463c-b269-bb1a7242b663",
   "metadata": {},
   "outputs": [
    {
     "data": {
      "text/plain": [
       "{'NAME': 'alex', 'ID': 12345, 'DOB': 2000, 'ADDRESS': 'hyd'}"
      ]
     },
     "execution_count": 118,
     "metadata": {},
     "output_type": "execute_result"
    }
   ],
   "source": [
    "mydict={'NAME':'alex','ID':12345,'DOB':2000,'ADDRESS':'hyd'}\n",
    "mydict"
   ]
  },
  {
   "cell_type": "code",
   "execution_count": 120,
   "id": "abfd201f-fe77-4bd6-bf70-ee25ff22fe4c",
   "metadata": {},
   "outputs": [
    {
     "name": "stdout",
     "output_type": "stream",
     "text": [
      "NAME : alex\n",
      "ID : 12345\n",
      "DOB : 2000\n",
      "ADDRESS : hyd\n"
     ]
    }
   ],
   "source": [
    "for i in mydict:\n",
    "    print(i,':',mydict[i]) # it print key & value pair"
   ]
  },
  {
   "cell_type": "code",
   "execution_count": 122,
   "id": "6ff4c706-9805-4a91-8639-6330e8b7ef54",
   "metadata": {},
   "outputs": [],
   "source": [
    "mydict['JOB']='Data Scientist'"
   ]
  },
  {
   "cell_type": "code",
   "execution_count": 127,
   "id": "6641830b-b572-45f2-abf6-fc2bc6f23503",
   "metadata": {},
   "outputs": [
    {
     "name": "stdout",
     "output_type": "stream",
     "text": [
      "alex\n",
      "12345\n",
      "2000\n",
      "hyd\n",
      "Data Scientist\n"
     ]
    }
   ],
   "source": [
    "for i in mydict:\n",
    "    print(mydict[i]) # it prints all the values of dictionary"
   ]
  },
  {
   "cell_type": "markdown",
   "id": "a4f49a6a-b8db-4f36-b87d-dcf71ed81be2",
   "metadata": {},
   "source": [
    "#Dictionary Membership"
   ]
  },
  {
   "cell_type": "code",
   "execution_count": 129,
   "id": "acfc7b2a-004d-4a12-8575-d14a948c183c",
   "metadata": {},
   "outputs": [
    {
     "data": {
      "text/plain": [
       "{'NAME': 'alex',\n",
       " 'ID': 12345,\n",
       " 'DOB': 2000,\n",
       " 'ADDRESS': 'hyd',\n",
       " 'JOB': 'Data Scientist'}"
      ]
     },
     "execution_count": 129,
     "metadata": {},
     "output_type": "execute_result"
    }
   ],
   "source": [
    "mydict"
   ]
  },
  {
   "cell_type": "code",
   "execution_count": 133,
   "id": "43ee95a8-f6d6-44e9-aae8-c0fdd2c6151e",
   "metadata": {},
   "outputs": [
    {
     "data": {
      "text/plain": [
       "True"
      ]
     },
     "execution_count": 133,
     "metadata": {},
     "output_type": "execute_result"
    }
   ],
   "source": [
    "'NAME' in mydict #it tests if a key is in a dictionary or not"
   ]
  },
  {
   "cell_type": "code",
   "execution_count": 135,
   "id": "a6c5348a-0de1-4762-bc73-609108d46018",
   "metadata": {},
   "outputs": [
    {
     "data": {
      "text/plain": [
       "False"
      ]
     },
     "execution_count": 135,
     "metadata": {},
     "output_type": "execute_result"
    }
   ],
   "source": [
    "'alex' in mydict # dictionary membership only tests keys.\n"
   ]
  },
  {
   "cell_type": "code",
   "execution_count": 137,
   "id": "08a65b91-7d07-48b9-a4b2-cea76539553f",
   "metadata": {},
   "outputs": [
    {
     "data": {
      "text/plain": [
       "True"
      ]
     },
     "execution_count": 137,
     "metadata": {},
     "output_type": "execute_result"
    }
   ],
   "source": [
    "'ID' in mydict"
   ]
  },
  {
   "cell_type": "markdown",
   "id": "e8f28191-941d-49f6-9680-7ecd4b2eb1ee",
   "metadata": {
    "jp-MarkdownHeadingCollapsed": true
   },
   "source": [
    "#ALL/ANY"
   ]
  },
  {
   "cell_type": "code",
   "execution_count": 140,
   "id": "1d375446-7cb9-4e21-bc2d-d71a4fe2e1e4",
   "metadata": {},
   "outputs": [],
   "source": [
    "#The all() method returns-\n",
    "#True-if all keys of the dictionary are true\n",
    "#False- if any key of the dictionary is false\n",
    "#The any() function returns True if any key of the dictionary is True. if not , any() returns False."
   ]
  },
  {
   "cell_type": "code",
   "execution_count": 142,
   "id": "0c5e37db-d581-4e17-9678-e3989608a874",
   "metadata": {},
   "outputs": [
    {
     "data": {
      "text/plain": [
       "True"
      ]
     },
     "execution_count": 142,
     "metadata": {},
     "output_type": "execute_result"
    }
   ],
   "source": [
    "all(mydict)"
   ]
  },
  {
   "cell_type": "code",
   "execution_count": 144,
   "id": "a44f3e2c-da43-46b7-8578-19e0a0d05132",
   "metadata": {},
   "outputs": [
    {
     "data": {
      "text/plain": [
       "True"
      ]
     },
     "execution_count": 144,
     "metadata": {},
     "output_type": "execute_result"
    }
   ],
   "source": [
    "any(mydict)"
   ]
  },
  {
   "cell_type": "code",
   "execution_count": null,
   "id": "edaa925a-cfcc-4ddc-af42-c4f949160c5c",
   "metadata": {},
   "outputs": [],
   "source": []
  }
 ],
 "metadata": {
  "kernelspec": {
   "display_name": "Python 3 (ipykernel)",
   "language": "python",
   "name": "python3"
  },
  "language_info": {
   "codemirror_mode": {
    "name": "ipython",
    "version": 3
   },
   "file_extension": ".py",
   "mimetype": "text/x-python",
   "name": "python",
   "nbconvert_exporter": "python",
   "pygments_lexer": "ipython3",
   "version": "3.12.4"
  }
 },
 "nbformat": 4,
 "nbformat_minor": 5
}
