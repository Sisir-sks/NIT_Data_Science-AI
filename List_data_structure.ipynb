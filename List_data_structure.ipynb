{
 "cells": [
  {
   "cell_type": "markdown",
   "id": "e101ce88-b571-482b-b346-f602edeb976a",
   "metadata": {},
   "source": [
    "#List Data Structure"
   ]
  },
  {
   "cell_type": "code",
   "execution_count": 69,
   "id": "35142bcd-a439-47ee-a9d7-a51d6064cfa8",
   "metadata": {},
   "outputs": [
    {
     "data": {
      "text/plain": [
       "[]"
      ]
     },
     "execution_count": 69,
     "metadata": {},
     "output_type": "execute_result"
    }
   ],
   "source": [
    "l=[] # list started and ended with []\n",
    "l"
   ]
  },
  {
   "cell_type": "code",
   "execution_count": 71,
   "id": "400d5c78-862a-4d5f-b616-8d4d4096d62e",
   "metadata": {},
   "outputs": [
    {
     "data": {
      "text/plain": [
       "list"
      ]
     },
     "execution_count": 71,
     "metadata": {},
     "output_type": "execute_result"
    }
   ],
   "source": [
    "type(l) "
   ]
  },
  {
   "cell_type": "code",
   "execution_count": 73,
   "id": "8f2706b3-27b4-46a1-a0ec-5fe3c692215f",
   "metadata": {},
   "outputs": [
    {
     "data": {
      "text/plain": [
       "0"
      ]
     },
     "execution_count": 73,
     "metadata": {},
     "output_type": "execute_result"
    }
   ],
   "source": [
    "len(l)"
   ]
  },
  {
   "cell_type": "code",
   "execution_count": null,
   "id": "0c3d8aeb-98ba-434b-b1be-ebee593b864d",
   "metadata": {},
   "outputs": [],
   "source": [
    "#list has some functions ->\n",
    "#->.append()\n",
    "#->.remove()\n",
    "#->.clear()\n",
    "#->.pop()\n",
    "#->.extend()\n",
    "#->.index()\n",
    "#->copy()\n",
    "#->count()\n",
    "#->insert()\n",
    "#->reverse()\n",
    "#list has some properties:\n",
    "#===>list is mutable(changeable).\n",
    "#===>list is growable.\n",
    "#===> list supports indexing.\n",
    "#===> list allow multiple data types.\n",
    "#===> duplicate value is allowed in list."
   ]
  },
  {
   "cell_type": "code",
   "execution_count": 76,
   "id": "c33bebdc-72f2-43a4-9f8c-3c310e390781",
   "metadata": {},
   "outputs": [],
   "source": [
    "l.clear() #clear function returns a empty list\n"
   ]
  },
  {
   "cell_type": "code",
   "execution_count": 78,
   "id": "0ef691dd-7a6f-46fb-9506-8b7e75c7ef0e",
   "metadata": {},
   "outputs": [
    {
     "data": {
      "text/plain": [
       "[10]"
      ]
     },
     "execution_count": 78,
     "metadata": {},
     "output_type": "execute_result"
    }
   ],
   "source": [
    "l.append(10) #append  is a function that add or append object to end of the list\n",
    "l"
   ]
  },
  {
   "cell_type": "code",
   "execution_count": 80,
   "id": "933db3c8-3180-41e0-95b0-fec7f7ff9cfe",
   "metadata": {},
   "outputs": [],
   "source": [
    "l.append(20)\n",
    "l.append(30)\n",
    "l.append(40)\n",
    "l.append(50)\n",
    "l.append(60)"
   ]
  },
  {
   "cell_type": "code",
   "execution_count": 82,
   "id": "14ff0440-bc72-438a-81b7-007c966d2d79",
   "metadata": {},
   "outputs": [
    {
     "data": {
      "text/plain": [
       "[10, 20, 30, 40, 50, 60]"
      ]
     },
     "execution_count": 82,
     "metadata": {},
     "output_type": "execute_result"
    }
   ],
   "source": [
    "l"
   ]
  },
  {
   "cell_type": "code",
   "execution_count": 84,
   "id": "6436e8c1-334c-4fec-b3d7-fc4e403184de",
   "metadata": {},
   "outputs": [
    {
     "ename": "TypeError",
     "evalue": "list.append() takes exactly one argument (2 given)",
     "output_type": "error",
     "traceback": [
      "\u001b[1;31m---------------------------------------------------------------------------\u001b[0m",
      "\u001b[1;31mTypeError\u001b[0m                                 Traceback (most recent call last)",
      "Cell \u001b[1;32mIn[84], line 1\u001b[0m\n\u001b[1;32m----> 1\u001b[0m l\u001b[38;5;241m.\u001b[39mappend(\u001b[38;5;241m70\u001b[39m,\u001b[38;5;241m80\u001b[39m)\n",
      "\u001b[1;31mTypeError\u001b[0m: list.append() takes exactly one argument (2 given)"
     ]
    }
   ],
   "source": [
    "l.append(70,80) # it causes error because we can append only one value/argument at once "
   ]
  },
  {
   "cell_type": "code",
   "execution_count": 86,
   "id": "0acce9f3-3b85-4b40-84eb-2ba1701d83d2",
   "metadata": {},
   "outputs": [],
   "source": [
    "l.append(10)"
   ]
  },
  {
   "cell_type": "code",
   "execution_count": 88,
   "id": "2483cc1a-7323-49fc-aa15-287f06518794",
   "metadata": {},
   "outputs": [
    {
     "data": {
      "text/plain": [
       "[10, 20, 30, 40, 50, 60, 10]"
      ]
     },
     "execution_count": 88,
     "metadata": {},
     "output_type": "execute_result"
    }
   ],
   "source": [
    "l"
   ]
  },
  {
   "cell_type": "code",
   "execution_count": 90,
   "id": "306a6485-3258-4c03-a3db-a64e37183edc",
   "metadata": {},
   "outputs": [],
   "source": [
    "l.remove(10) # it will remove the value based on their first occurance"
   ]
  },
  {
   "cell_type": "code",
   "execution_count": 92,
   "id": "96d10ebe-7e81-4a86-9c3a-cf93634cd381",
   "metadata": {},
   "outputs": [
    {
     "data": {
      "text/plain": [
       "[20, 30, 40, 50, 60, 10]"
      ]
     },
     "execution_count": 92,
     "metadata": {},
     "output_type": "execute_result"
    }
   ],
   "source": [
    "l"
   ]
  },
  {
   "cell_type": "code",
   "execution_count": 94,
   "id": "a61f26e8-59ce-42c9-8f3c-fa24192a209f",
   "metadata": {},
   "outputs": [
    {
     "data": {
      "text/plain": [
       "10"
      ]
     },
     "execution_count": 94,
     "metadata": {},
     "output_type": "execute_result"
    }
   ],
   "source": [
    "l.pop() #pop is a function or method that removes a value/argument index wise "
   ]
  },
  {
   "cell_type": "code",
   "execution_count": 96,
   "id": "19a4fa0d-1b62-46b6-ab2f-3ebc7e4dd8e0",
   "metadata": {},
   "outputs": [
    {
     "data": {
      "text/plain": [
       "30"
      ]
     },
     "execution_count": 96,
     "metadata": {},
     "output_type": "execute_result"
    }
   ],
   "source": [
    "l.pop(1) # if we can't specify the index it removes tha last index by defult"
   ]
  },
  {
   "cell_type": "code",
   "execution_count": 98,
   "id": "80be2a9d-522f-4867-ab41-e4b55d154fb9",
   "metadata": {},
   "outputs": [
    {
     "data": {
      "text/plain": [
       "[20, 40, 50, 60]"
      ]
     },
     "execution_count": 98,
     "metadata": {},
     "output_type": "execute_result"
    }
   ],
   "source": [
    "l"
   ]
  },
  {
   "cell_type": "code",
   "execution_count": 100,
   "id": "dd5e76b9-706c-4687-8591-0b04aff675d9",
   "metadata": {},
   "outputs": [],
   "source": [
    "#insert:  insert function insert the argument/value/object before to the specified index\n",
    "l.insert(0,10)"
   ]
  },
  {
   "cell_type": "code",
   "execution_count": 102,
   "id": "d950045a-3c6b-4ac0-9df3-b57909905740",
   "metadata": {},
   "outputs": [
    {
     "data": {
      "text/plain": [
       "[10, 20, 40, 50, 60]"
      ]
     },
     "execution_count": 102,
     "metadata": {},
     "output_type": "execute_result"
    }
   ],
   "source": [
    "l"
   ]
  },
  {
   "cell_type": "code",
   "execution_count": 104,
   "id": "87e0dba9-d8e1-4269-aa5a-ef5b71732ae7",
   "metadata": {},
   "outputs": [
    {
     "data": {
      "text/plain": [
       "10"
      ]
     },
     "execution_count": 104,
     "metadata": {},
     "output_type": "execute_result"
    }
   ],
   "source": [
    "l[0] # we can access the element using index"
   ]
  },
  {
   "cell_type": "code",
   "execution_count": 106,
   "id": "85452bf8-dbd6-44bd-9d59-8ec74dad82de",
   "metadata": {},
   "outputs": [
    {
     "data": {
      "text/plain": [
       "[11, 20, 40, 50, 60]"
      ]
     },
     "execution_count": 106,
     "metadata": {},
     "output_type": "execute_result"
    }
   ],
   "source": [
    "l[0]=11 # it is mutable and it support indexing so we can change the value of object by indexing\n",
    "l"
   ]
  },
  {
   "cell_type": "code",
   "execution_count": 110,
   "id": "eb3047aa-1159-4609-a4c3-635c847588ae",
   "metadata": {},
   "outputs": [
    {
     "data": {
      "text/plain": [
       "[11, 20, 40, 50, 60]"
      ]
     },
     "execution_count": 110,
     "metadata": {},
     "output_type": "execute_result"
    }
   ],
   "source": [
    "l1=l.copy() # .copy() is a function/method that returns a copy of the list\n",
    "l1"
   ]
  },
  {
   "cell_type": "code",
   "execution_count": 112,
   "id": "184a4543-e6e0-4bd4-91dc-aeac9fb12778",
   "metadata": {},
   "outputs": [
    {
     "data": {
      "text/plain": [
       "True"
      ]
     },
     "execution_count": 112,
     "metadata": {},
     "output_type": "execute_result"
    }
   ],
   "source": [
    "l==l1"
   ]
  },
  {
   "cell_type": "code",
   "execution_count": 114,
   "id": "53e5c3bd-2481-4340-81e7-d6497a7898fb",
   "metadata": {},
   "outputs": [
    {
     "data": {
      "text/plain": [
       "False"
      ]
     },
     "execution_count": 114,
     "metadata": {},
     "output_type": "execute_result"
    }
   ],
   "source": [
    "id(l)==id(l1)"
   ]
  },
  {
   "cell_type": "code",
   "execution_count": 118,
   "id": "1ac2e016-3db7-45e0-88c9-6192fda596ab",
   "metadata": {},
   "outputs": [
    {
     "data": {
      "text/plain": [
       "1"
      ]
     },
     "execution_count": 118,
     "metadata": {},
     "output_type": "execute_result"
    }
   ],
   "source": [
    "#.count() is function/method that return the number of occurance of the value\n",
    "l.count(11)"
   ]
  },
  {
   "cell_type": "code",
   "execution_count": 120,
   "id": "f4dcef27-1479-4e39-a6da-c0e1c2d6f59a",
   "metadata": {},
   "outputs": [
    {
     "ename": "NameError",
     "evalue": "name 'l1' is not defined",
     "output_type": "error",
     "traceback": [
      "\u001b[1;31m---------------------------------------------------------------------------\u001b[0m",
      "\u001b[1;31mNameError\u001b[0m                                 Traceback (most recent call last)",
      "Cell \u001b[1;32mIn[120], line 3\u001b[0m\n\u001b[0;32m      1\u001b[0m \u001b[38;5;66;03m#del is a keyword useed to delete variable,data structure\u001b[39;00m\n\u001b[0;32m      2\u001b[0m \u001b[38;5;28;01mdel\u001b[39;00m l1\n\u001b[1;32m----> 3\u001b[0m l1\n",
      "\u001b[1;31mNameError\u001b[0m: name 'l1' is not defined"
     ]
    }
   ],
   "source": [
    "#del is a keyword useed to delete variable,data structure\n",
    "del l1\n",
    "l1"
   ]
  },
  {
   "cell_type": "code",
   "execution_count": 172,
   "id": "32f4d719-ce56-4a67-a93e-cdc5e1f91d99",
   "metadata": {},
   "outputs": [
    {
     "data": {
      "text/plain": [
       "[]"
      ]
     },
     "execution_count": 172,
     "metadata": {},
     "output_type": "execute_result"
    }
   ],
   "source": [
    "l1=[]\n",
    "l1"
   ]
  },
  {
   "cell_type": "code",
   "execution_count": 174,
   "id": "a8ba5499-ab3d-493d-81a9-2208c0864579",
   "metadata": {},
   "outputs": [
    {
     "data": {
      "text/plain": [
       "[9, 9.36, 'nit', True, (10+2j)]"
      ]
     },
     "execution_count": 174,
     "metadata": {},
     "output_type": "execute_result"
    }
   ],
   "source": [
    "l1.append(9)\n",
    "l1.append(9.36)\n",
    "l1.append('nit')\n",
    "l1.append(True)\n",
    "l1.append(10+2j)\n",
    "l1"
   ]
  },
  {
   "cell_type": "code",
   "execution_count": 126,
   "id": "6331cfd2-ffe6-4d30-ac61-b61fb59d62bc",
   "metadata": {},
   "outputs": [
    {
     "data": {
      "text/plain": [
       "0"
      ]
     },
     "execution_count": 126,
     "metadata": {},
     "output_type": "execute_result"
    }
   ],
   "source": [
    "#index is a function that returns first index of the value\n",
    "l1.index(9)"
   ]
  },
  {
   "cell_type": "code",
   "execution_count": 128,
   "id": "24b8ab9c-b139-44db-ab9c-508b9d12a927",
   "metadata": {},
   "outputs": [
    {
     "data": {
      "text/plain": [
       "2"
      ]
     },
     "execution_count": 128,
     "metadata": {},
     "output_type": "execute_result"
    }
   ],
   "source": [
    "l1.index('nit')"
   ]
  },
  {
   "cell_type": "code",
   "execution_count": 132,
   "id": "b0bfacad-af53-472d-8860-61e0518fd1b8",
   "metadata": {},
   "outputs": [
    {
     "name": "stdout",
     "output_type": "stream",
     "text": [
      "n\n",
      "i\n",
      "t\n"
     ]
    }
   ],
   "source": [
    "#nested indexing\n",
    "print(l1[2][0])\n",
    "print(l1[2][1])\n",
    "print(l1[2][2])"
   ]
  },
  {
   "cell_type": "code",
   "execution_count": 144,
   "id": "04308c6c-eca6-4e76-b0df-91706064e0b1",
   "metadata": {},
   "outputs": [],
   "source": [
    "l.insert(2,70)\n",
    "l.insert(6,1)"
   ]
  },
  {
   "cell_type": "code",
   "execution_count": 146,
   "id": "a70504b1-775f-4ddb-aa7f-98c171ab135f",
   "metadata": {},
   "outputs": [
    {
     "data": {
      "text/plain": [
       "[11, 20, 70, 40, 50, 60, 1]"
      ]
     },
     "execution_count": 146,
     "metadata": {},
     "output_type": "execute_result"
    }
   ],
   "source": [
    "l[:] #return all the value"
   ]
  },
  {
   "cell_type": "code",
   "execution_count": 148,
   "id": "c7362bde-bd5d-4aa4-b638-1e13544a8db1",
   "metadata": {},
   "outputs": [
    {
     "data": {
      "text/plain": [
       "[40, 50, 60, 1]"
      ]
     },
     "execution_count": 148,
     "metadata": {},
     "output_type": "execute_result"
    }
   ],
   "source": [
    "l[3:] # return the values from 3rd index to till last"
   ]
  },
  {
   "cell_type": "code",
   "execution_count": 152,
   "id": "f061072e-ea42-4737-ad6f-db29b88c679c",
   "metadata": {},
   "outputs": [
    {
     "data": {
      "text/plain": [
       "[11, 20, 70, 40, 50, 60, 1]"
      ]
     },
     "execution_count": 152,
     "metadata": {},
     "output_type": "execute_result"
    }
   ],
   "source": [
    "l[:10] #return the values till 10\n"
   ]
  },
  {
   "cell_type": "code",
   "execution_count": 154,
   "id": "146b8def-7f3c-4cf4-8d84-fa6760faf848",
   "metadata": {},
   "outputs": [
    {
     "data": {
      "text/plain": [
       "[60, 1]"
      ]
     },
     "execution_count": 154,
     "metadata": {},
     "output_type": "execute_result"
    }
   ],
   "source": [
    "l[5:9] #return the values from 5 to 8\n"
   ]
  },
  {
   "cell_type": "code",
   "execution_count": 158,
   "id": "3b8df5ac-6a70-48cc-8ec7-0aaee4e57741",
   "metadata": {},
   "outputs": [
    {
     "data": {
      "text/plain": [
       "[20, 40, 60]"
      ]
     },
     "execution_count": 158,
     "metadata": {},
     "output_type": "execute_result"
    }
   ],
   "source": [
    "l[1:81:2] #return the value from 1 to 81 with the gap of 2"
   ]
  },
  {
   "cell_type": "code",
   "execution_count": 166,
   "id": "1dc39bdc-9545-4f86-bed6-1aa42d13a5fa",
   "metadata": {},
   "outputs": [
    {
     "data": {
      "text/plain": [
       "[9.36, 'nit', True, (10+2j)]"
      ]
     },
     "execution_count": 166,
     "metadata": {},
     "output_type": "execute_result"
    }
   ],
   "source": [
    "l1"
   ]
  },
  {
   "cell_type": "code",
   "execution_count": 176,
   "id": "3b676439-08e3-4019-9380-55189a780096",
   "metadata": {},
   "outputs": [
    {
     "data": {
      "text/plain": [
       "[9.36, 'nit', True, (10+2j)]"
      ]
     },
     "execution_count": 176,
     "metadata": {},
     "output_type": "execute_result"
    }
   ],
   "source": [
    "l1.remove(9)\n",
    "l1"
   ]
  },
  {
   "cell_type": "code",
   "execution_count": 184,
   "id": "ed6835e3-4b17-444b-a732-f1eede66833e",
   "metadata": {},
   "outputs": [
    {
     "data": {
      "text/plain": [
       "[(10+2j), True, 'nit', 9.36]"
      ]
     },
     "execution_count": 184,
     "metadata": {},
     "output_type": "execute_result"
    }
   ],
   "source": [
    "l1.reverse() # reverse is a function/method that reverse the element of the list\n",
    "l1"
   ]
  },
  {
   "cell_type": "markdown",
   "id": "9a27d2a5-997b-4e28-bbdb-2446c5b03efb",
   "metadata": {},
   "source": [
    "#25 jun "
   ]
  },
  {
   "cell_type": "code",
   "execution_count": 191,
   "id": "98652cab-117b-4de0-b805-6f3b48cceb24",
   "metadata": {},
   "outputs": [
    {
     "name": "stdout",
     "output_type": "stream",
     "text": [
      "[(10+2j), True, 'nit', 9.36]\n",
      "[11, 20, 70, 40, 50, 60, 1]\n"
     ]
    }
   ],
   "source": [
    "print(l1)\n",
    "print(l)"
   ]
  },
  {
   "cell_type": "code",
   "execution_count": 195,
   "id": "32b05ed3-1da2-4035-aeca-79bb027ed2a5",
   "metadata": {},
   "outputs": [
    {
     "name": "stdout",
     "output_type": "stream",
     "text": [
      "11\n",
      "20\n",
      "70\n",
      "40\n",
      "50\n",
      "60\n",
      "1\n"
     ]
    }
   ],
   "source": [
    "for i in l:\n",
    "    print(i)"
   ]
  },
  {
   "cell_type": "code",
   "execution_count": 201,
   "id": "fde4d788-ad99-4379-8286-86505c4c541f",
   "metadata": {},
   "outputs": [
    {
     "name": "stdout",
     "output_type": "stream",
     "text": [
      "(0, 11)\n",
      "(1, 20)\n",
      "(2, 70)\n",
      "(3, 40)\n",
      "(4, 50)\n",
      "(5, 60)\n",
      "(6, 1)\n"
     ]
    }
   ],
   "source": [
    "for i in enumerate(l):\n",
    "    print(i)"
   ]
  },
  {
   "cell_type": "code",
   "execution_count": 203,
   "id": "e5b7556d-736a-40d5-b3bf-698ea8feab4a",
   "metadata": {},
   "outputs": [],
   "source": [
    "#.extend() is a function/methood  is used to add elements from a list at the end of the current list\n",
    "l1.extend(l)"
   ]
  },
  {
   "cell_type": "code",
   "execution_count": 205,
   "id": "0488bfad-ed70-463a-aa32-ec0a8322a19d",
   "metadata": {},
   "outputs": [
    {
     "data": {
      "text/plain": [
       "[(10+2j), True, 'nit', 9.36, 11, 20, 70, 40, 50, 60, 1]"
      ]
     },
     "execution_count": 205,
     "metadata": {},
     "output_type": "execute_result"
    }
   ],
   "source": [
    "l1"
   ]
  },
  {
   "cell_type": "code",
   "execution_count": 209,
   "id": "9ba48785-d318-4ccc-96c5-f66d09b75116",
   "metadata": {},
   "outputs": [
    {
     "data": {
      "text/plain": [
       "[1, 11, 20, 40, 50, 60, 70]"
      ]
     },
     "execution_count": 209,
     "metadata": {},
     "output_type": "execute_result"
    }
   ],
   "source": [
    "l.sort() # sort function is used to sort the list. it sort ascending by defult.\n",
    "l"
   ]
  },
  {
   "cell_type": "code",
   "execution_count": 211,
   "id": "f24183c7-faec-4d28-8a3f-59300d5004b4",
   "metadata": {},
   "outputs": [
    {
     "data": {
      "text/plain": [
       "[70, 60, 50, 40, 20, 11, 1]"
      ]
     },
     "execution_count": 211,
     "metadata": {},
     "output_type": "execute_result"
    }
   ],
   "source": [
    "l.sort(reverse=True) # if the user changes  the defult parameter is called hyperparameter tuning\n",
    "l"
   ]
  },
  {
   "cell_type": "code",
   "execution_count": 217,
   "id": "d85d8f40-1b5a-440b-928e-875a02785886",
   "metadata": {},
   "outputs": [
    {
     "name": "stdout",
     "output_type": "stream",
     "text": [
      "[(10+2j), True, 'nit', 9.36, 11, 20, 70, 40, 50, 60, 1]\n"
     ]
    },
    {
     "ename": "TypeError",
     "evalue": "'<' not supported between instances of 'bool' and 'complex'",
     "output_type": "error",
     "traceback": [
      "\u001b[1;31m---------------------------------------------------------------------------\u001b[0m",
      "\u001b[1;31mTypeError\u001b[0m                                 Traceback (most recent call last)",
      "Cell \u001b[1;32mIn[217], line 3\u001b[0m\n\u001b[0;32m      1\u001b[0m \u001b[38;5;66;03m#sort function only works with similar datatypes\u001b[39;00m\n\u001b[0;32m      2\u001b[0m \u001b[38;5;28mprint\u001b[39m(l1)\n\u001b[1;32m----> 3\u001b[0m l1\u001b[38;5;241m.\u001b[39msort()\n",
      "\u001b[1;31mTypeError\u001b[0m: '<' not supported between instances of 'bool' and 'complex'"
     ]
    }
   ],
   "source": [
    "#sort function only works with similar datatypes\n",
    "print(l1)\n",
    "l1.sort()"
   ]
  },
  {
   "cell_type": "code",
   "execution_count": 221,
   "id": "12faa437-a53c-43ae-93fc-14e40b00c925",
   "metadata": {},
   "outputs": [
    {
     "data": {
      "text/plain": [
       "['amazon', 'apple', 'google', 'meta', 'netflix']"
      ]
     },
     "execution_count": 221,
     "metadata": {},
     "output_type": "execute_result"
    }
   ],
   "source": [
    "l2=['meta','amazon','apple','netflix','google']\n",
    "l2.sort()\n",
    "l2"
   ]
  },
  {
   "cell_type": "markdown",
   "id": "1e45cbad-0ae2-4e02-9f4d-6aa5e83538aa",
   "metadata": {},
   "source": [
    "#ALL & ANY"
   ]
  },
  {
   "cell_type": "code",
   "execution_count": 225,
   "id": "c1500c14-05d7-4d22-95a5-4c4cb0106f10",
   "metadata": {},
   "outputs": [
    {
     "data": {
      "text/plain": [
       "[70, 60, 50, 40, 20, 11, 1]"
      ]
     },
     "execution_count": 225,
     "metadata": {},
     "output_type": "execute_result"
    }
   ],
   "source": [
    "l"
   ]
  },
  {
   "cell_type": "code",
   "execution_count": 227,
   "id": "bc46c5a6-8035-4b9c-9a30-f7af6e463827",
   "metadata": {},
   "outputs": [
    {
     "data": {
      "text/plain": [
       "True"
      ]
     },
     "execution_count": 227,
     "metadata": {},
     "output_type": "execute_result"
    }
   ],
   "source": [
    "all(l)"
   ]
  },
  {
   "cell_type": "code",
   "execution_count": 229,
   "id": "d0890362-34be-48f3-90a1-a56d5d46ee0e",
   "metadata": {},
   "outputs": [
    {
     "data": {
      "text/plain": [
       "True"
      ]
     },
     "execution_count": 229,
     "metadata": {},
     "output_type": "execute_result"
    }
   ],
   "source": [
    "any(l)"
   ]
  },
  {
   "cell_type": "code",
   "execution_count": 231,
   "id": "f61cd17c-e04d-4af1-9f42-f2e1f6829082",
   "metadata": {},
   "outputs": [],
   "source": [
    "l.append(0)\n"
   ]
  },
  {
   "cell_type": "code",
   "execution_count": 235,
   "id": "871cd8cf-0089-4509-913e-8ebb5a6f1296",
   "metadata": {},
   "outputs": [
    {
     "data": {
      "text/plain": [
       "[70, 60, 50, 40, 20, 11, 1, 0]"
      ]
     },
     "execution_count": 235,
     "metadata": {},
     "output_type": "execute_result"
    }
   ],
   "source": [
    "l"
   ]
  },
  {
   "cell_type": "code",
   "execution_count": 242,
   "id": "1cf81d38-057f-424c-8984-ab70a34e1bec",
   "metadata": {},
   "outputs": [
    {
     "data": {
      "text/plain": [
       "False"
      ]
     },
     "execution_count": 242,
     "metadata": {},
     "output_type": "execute_result"
    }
   ],
   "source": [
    "all(l) # it returns boolean value if all value in list are non-zero then it returns true.if there is zero exist it return false."
   ]
  },
  {
   "cell_type": "code",
   "execution_count": 244,
   "id": "116f5b8f-4fe4-4ee8-8d94-72371a7e0a23",
   "metadata": {},
   "outputs": [
    {
     "data": {
      "text/plain": [
       "True"
      ]
     },
     "execution_count": 244,
     "metadata": {},
     "output_type": "execute_result"
    }
   ],
   "source": [
    "any(l) #it returns true when the list is non-empty.if it is empty it returns false."
   ]
  },
  {
   "cell_type": "code",
   "execution_count": null,
   "id": "197b58c7-ab33-4d1b-b9c5-4992aff4a695",
   "metadata": {},
   "outputs": [],
   "source": []
  }
 ],
 "metadata": {
  "kernelspec": {
   "display_name": "Python 3 (ipykernel)",
   "language": "python",
   "name": "python3"
  },
  "language_info": {
   "codemirror_mode": {
    "name": "ipython",
    "version": 3
   },
   "file_extension": ".py",
   "mimetype": "text/x-python",
   "name": "python",
   "nbconvert_exporter": "python",
   "pygments_lexer": "ipython3",
   "version": "3.12.4"
  }
 },
 "nbformat": 4,
 "nbformat_minor": 5
}
